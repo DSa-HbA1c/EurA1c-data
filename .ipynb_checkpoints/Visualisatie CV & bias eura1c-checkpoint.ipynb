{
 "cells": [
  {
   "cell_type": "code",
   "execution_count": 1,
   "id": "dfacc185",
   "metadata": {},
   "outputs": [],
   "source": [
    "import pandas as pd\n",
    "import seaborn as sns\n",
    "import matplotlib.pyplot as plt\n",
    "from ipywidgets import interact, interactive, fixed, interact_manual\n",
    "import ipywidgets as widgets\n",
    "import plotly.express as px\n",
    "import cufflinks as cf"
   ]
  },
  {
   "cell_type": "code",
   "execution_count": 2,
   "id": "46219d34",
   "metadata": {},
   "outputs": [
    {
     "data": {
      "text/html": [
       "        <script type=\"text/javascript\">\n",
       "        window.PlotlyConfig = {MathJaxConfig: 'local'};\n",
       "        if (window.MathJax && window.MathJax.Hub && window.MathJax.Hub.Config) {window.MathJax.Hub.Config({SVG: {font: \"STIX-Web\"}});}\n",
       "        if (typeof require !== 'undefined') {\n",
       "        require.undef(\"plotly\");\n",
       "        requirejs.config({\n",
       "            paths: {\n",
       "                'plotly': ['https://cdn.plot.ly/plotly-2.12.1.min']\n",
       "            }\n",
       "        });\n",
       "        require(['plotly'], function(Plotly) {\n",
       "            window._Plotly = Plotly;\n",
       "        });\n",
       "        }\n",
       "        </script>\n",
       "        "
      ]
     },
     "metadata": {},
     "output_type": "display_data"
    }
   ],
   "source": [
    "cf.go_offline()\n",
    "cf.set_config_file(offline=False, world_readable=True)"
   ]
  },
  {
   "cell_type": "code",
   "execution_count": 18,
   "id": "67a93c00",
   "metadata": {
    "scrolled": true
   },
   "outputs": [
    {
     "data": {
      "text/html": [
       "<div>\n",
       "<style scoped>\n",
       "    .dataframe tbody tr th:only-of-type {\n",
       "        vertical-align: middle;\n",
       "    }\n",
       "\n",
       "    .dataframe tbody tr th {\n",
       "        vertical-align: top;\n",
       "    }\n",
       "\n",
       "    .dataframe thead th {\n",
       "        text-align: right;\n",
       "    }\n",
       "</style>\n",
       "<table border=\"1\" class=\"dataframe\">\n",
       "  <thead>\n",
       "    <tr style=\"text-align: right;\">\n",
       "      <th></th>\n",
       "      <th>Method name</th>\n",
       "      <th>N</th>\n",
       "      <th>Mean</th>\n",
       "      <th>Bias</th>\n",
       "      <th>CV</th>\n",
       "      <th>Sample</th>\n",
       "      <th>Refrence Value</th>\n",
       "      <th>Year</th>\n",
       "      <th>Source</th>\n",
       "      <th>Type</th>\n",
       "      <th>Manufacturer</th>\n",
       "    </tr>\n",
       "  </thead>\n",
       "  <tbody>\n",
       "    <tr>\n",
       "      <th>0</th>\n",
       "      <td>(part of cobas 6000/8000) Roche Diagnostics co...</td>\n",
       "      <td>10.0</td>\n",
       "      <td>74.0</td>\n",
       "      <td>3.9</td>\n",
       "      <td>2.7</td>\n",
       "      <td>Sample 1</td>\n",
       "      <td>70.1</td>\n",
       "      <td>2019</td>\n",
       "      <td>EURA1c</td>\n",
       "      <td>Frozen</td>\n",
       "      <td>Roche Diagnostics</td>\n",
       "    </tr>\n",
       "    <tr>\n",
       "      <th>1</th>\n",
       "      <td>(part of cobas 6000/8000) Roche Diagnostics co...</td>\n",
       "      <td>10.0</td>\n",
       "      <td>40.6</td>\n",
       "      <td>2.4</td>\n",
       "      <td>4.6</td>\n",
       "      <td>Sample 2</td>\n",
       "      <td>38.2</td>\n",
       "      <td>2019</td>\n",
       "      <td>EURA1c</td>\n",
       "      <td>Frozen</td>\n",
       "      <td>Roche Diagnostics</td>\n",
       "    </tr>\n",
       "    <tr>\n",
       "      <th>2</th>\n",
       "      <td>Abbott Alinity</td>\n",
       "      <td>17.0</td>\n",
       "      <td>34.0</td>\n",
       "      <td>-2.5</td>\n",
       "      <td>8.2</td>\n",
       "      <td>Sample 1</td>\n",
       "      <td>37.5</td>\n",
       "      <td>2020</td>\n",
       "      <td>EURA1c</td>\n",
       "      <td>Frozen</td>\n",
       "      <td>Abbot</td>\n",
       "    </tr>\n",
       "    <tr>\n",
       "      <th>3</th>\n",
       "      <td>Abbott Alinity</td>\n",
       "      <td>15.0</td>\n",
       "      <td>34.2</td>\n",
       "      <td>-2.3</td>\n",
       "      <td>8.2</td>\n",
       "      <td>Sample 2</td>\n",
       "      <td>37.5</td>\n",
       "      <td>2020</td>\n",
       "      <td>EURA1c</td>\n",
       "      <td>Frozen</td>\n",
       "      <td>Abbot</td>\n",
       "    </tr>\n",
       "    <tr>\n",
       "      <th>4</th>\n",
       "      <td>Abbott Alinity</td>\n",
       "      <td>12.0</td>\n",
       "      <td>36.1</td>\n",
       "      <td>-0.4</td>\n",
       "      <td>2.1</td>\n",
       "      <td>Sample 1</td>\n",
       "      <td>37.1</td>\n",
       "      <td>2020</td>\n",
       "      <td>EURA1c</td>\n",
       "      <td>Fresh</td>\n",
       "      <td>Abbot</td>\n",
       "    </tr>\n",
       "    <tr>\n",
       "      <th>...</th>\n",
       "      <td>...</td>\n",
       "      <td>...</td>\n",
       "      <td>...</td>\n",
       "      <td>...</td>\n",
       "      <td>...</td>\n",
       "      <td>...</td>\n",
       "      <td>...</td>\n",
       "      <td>...</td>\n",
       "      <td>...</td>\n",
       "      <td>...</td>\n",
       "      <td>...</td>\n",
       "    </tr>\n",
       "    <tr>\n",
       "      <th>509</th>\n",
       "      <td>Trinity Biotech Premier Hb9210</td>\n",
       "      <td>27.0</td>\n",
       "      <td>59.7</td>\n",
       "      <td>1.8</td>\n",
       "      <td>4.0</td>\n",
       "      <td>Sample 2</td>\n",
       "      <td>57.9</td>\n",
       "      <td>2016</td>\n",
       "      <td>EURA1c</td>\n",
       "      <td>Fresh</td>\n",
       "      <td>Trinity Biotech</td>\n",
       "    </tr>\n",
       "    <tr>\n",
       "      <th>510</th>\n",
       "      <td>Trinity Biotech Premier Hb9210</td>\n",
       "      <td>20.0</td>\n",
       "      <td>45.0</td>\n",
       "      <td>0.8</td>\n",
       "      <td>2.2</td>\n",
       "      <td>Sample 1</td>\n",
       "      <td>44.2</td>\n",
       "      <td>2017</td>\n",
       "      <td>EURA1c</td>\n",
       "      <td>Frozen</td>\n",
       "      <td>Trinity Biotech</td>\n",
       "    </tr>\n",
       "    <tr>\n",
       "      <th>511</th>\n",
       "      <td>Trinity Biotech Premier Hb9210</td>\n",
       "      <td>21.0</td>\n",
       "      <td>58.0</td>\n",
       "      <td>0.0</td>\n",
       "      <td>2.4</td>\n",
       "      <td>Sample 2</td>\n",
       "      <td>58.0</td>\n",
       "      <td>2017</td>\n",
       "      <td>EURA1c</td>\n",
       "      <td>Frozen</td>\n",
       "      <td>Trinity Biotech</td>\n",
       "    </tr>\n",
       "    <tr>\n",
       "      <th>512</th>\n",
       "      <td>Trinity Biotech Premier Hb9210</td>\n",
       "      <td>29.0</td>\n",
       "      <td>45.3</td>\n",
       "      <td>1.1</td>\n",
       "      <td>3.7</td>\n",
       "      <td>Sample 1</td>\n",
       "      <td>44.2</td>\n",
       "      <td>2017</td>\n",
       "      <td>EURA1c</td>\n",
       "      <td>Fresh</td>\n",
       "      <td>Trinity Biotech</td>\n",
       "    </tr>\n",
       "    <tr>\n",
       "      <th>513</th>\n",
       "      <td>Trinity Biotech Premier Hb9210</td>\n",
       "      <td>29.0</td>\n",
       "      <td>59.5</td>\n",
       "      <td>1.5</td>\n",
       "      <td>2.8</td>\n",
       "      <td>Sample 2</td>\n",
       "      <td>58.0</td>\n",
       "      <td>2017</td>\n",
       "      <td>EURA1c</td>\n",
       "      <td>Fresh</td>\n",
       "      <td>Trinity Biotech</td>\n",
       "    </tr>\n",
       "  </tbody>\n",
       "</table>\n",
       "<p>514 rows × 11 columns</p>\n",
       "</div>"
      ],
      "text/plain": [
       "                                           Method name     N  Mean  Bias   CV  \\\n",
       "0    (part of cobas 6000/8000) Roche Diagnostics co...  10.0  74.0   3.9  2.7   \n",
       "1    (part of cobas 6000/8000) Roche Diagnostics co...  10.0  40.6   2.4  4.6   \n",
       "2                                       Abbott Alinity  17.0  34.0  -2.5  8.2   \n",
       "3                                       Abbott Alinity  15.0  34.2  -2.3  8.2   \n",
       "4                                       Abbott Alinity  12.0  36.1  -0.4  2.1   \n",
       "..                                                 ...   ...   ...   ...  ...   \n",
       "509                     Trinity Biotech Premier Hb9210  27.0  59.7   1.8  4.0   \n",
       "510                     Trinity Biotech Premier Hb9210  20.0  45.0   0.8  2.2   \n",
       "511                     Trinity Biotech Premier Hb9210  21.0  58.0   0.0  2.4   \n",
       "512                     Trinity Biotech Premier Hb9210  29.0  45.3   1.1  3.7   \n",
       "513                     Trinity Biotech Premier Hb9210  29.0  59.5   1.5  2.8   \n",
       "\n",
       "       Sample  Refrence Value  Year  Source    Type       Manufacturer  \n",
       "0    Sample 1            70.1  2019  EURA1c  Frozen  Roche Diagnostics  \n",
       "1    Sample 2            38.2  2019  EURA1c  Frozen  Roche Diagnostics  \n",
       "2    Sample 1            37.5  2020  EURA1c  Frozen              Abbot  \n",
       "3    Sample 2            37.5  2020  EURA1c  Frozen              Abbot  \n",
       "4    Sample 1            37.1  2020  EURA1c   Fresh              Abbot  \n",
       "..        ...             ...   ...     ...     ...                ...  \n",
       "509  Sample 2            57.9  2016  EURA1c   Fresh    Trinity Biotech  \n",
       "510  Sample 1            44.2  2017  EURA1c  Frozen    Trinity Biotech  \n",
       "511  Sample 2            58.0  2017  EURA1c  Frozen    Trinity Biotech  \n",
       "512  Sample 1            44.2  2017  EURA1c   Fresh    Trinity Biotech  \n",
       "513  Sample 2            58.0  2017  EURA1c   Fresh    Trinity Biotech  \n",
       "\n",
       "[514 rows x 11 columns]"
      ]
     },
     "execution_count": 18,
     "metadata": {},
     "output_type": "execute_result"
    }
   ],
   "source": [
    "df = pd.read_excel('data/EurA1c_report_definitief.xlsx')\n",
    "df"
   ]
  },
  {
   "cell_type": "code",
   "execution_count": 19,
   "id": "e70d16dd",
   "metadata": {},
   "outputs": [
    {
     "data": {
      "text/html": [
       "<div>\n",
       "<style scoped>\n",
       "    .dataframe tbody tr th:only-of-type {\n",
       "        vertical-align: middle;\n",
       "    }\n",
       "\n",
       "    .dataframe tbody tr th {\n",
       "        vertical-align: top;\n",
       "    }\n",
       "\n",
       "    .dataframe thead th {\n",
       "        text-align: right;\n",
       "    }\n",
       "</style>\n",
       "<table border=\"1\" class=\"dataframe\">\n",
       "  <thead>\n",
       "    <tr style=\"text-align: right;\">\n",
       "      <th></th>\n",
       "      <th>Method name</th>\n",
       "      <th>Year</th>\n",
       "      <th>N</th>\n",
       "      <th>Mean</th>\n",
       "      <th>Bias</th>\n",
       "      <th>CV</th>\n",
       "      <th>Refrence Value</th>\n",
       "    </tr>\n",
       "  </thead>\n",
       "  <tbody>\n",
       "    <tr>\n",
       "      <th>141</th>\n",
       "      <td>Tosoh G7</td>\n",
       "      <td>2016</td>\n",
       "      <td>30.25</td>\n",
       "      <td>50.450</td>\n",
       "      <td>0.350</td>\n",
       "      <td>5.200</td>\n",
       "      <td>50.10</td>\n",
       "    </tr>\n",
       "    <tr>\n",
       "      <th>142</th>\n",
       "      <td>Tosoh G7</td>\n",
       "      <td>2017</td>\n",
       "      <td>23.25</td>\n",
       "      <td>52.425</td>\n",
       "      <td>1.325</td>\n",
       "      <td>4.425</td>\n",
       "      <td>51.10</td>\n",
       "    </tr>\n",
       "    <tr>\n",
       "      <th>143</th>\n",
       "      <td>Tosoh G7</td>\n",
       "      <td>2018</td>\n",
       "      <td>20.25</td>\n",
       "      <td>51.500</td>\n",
       "      <td>1.350</td>\n",
       "      <td>4.750</td>\n",
       "      <td>50.15</td>\n",
       "    </tr>\n",
       "    <tr>\n",
       "      <th>144</th>\n",
       "      <td>Tosoh G7</td>\n",
       "      <td>2019</td>\n",
       "      <td>19.00</td>\n",
       "      <td>54.000</td>\n",
       "      <td>-0.150</td>\n",
       "      <td>6.850</td>\n",
       "      <td>54.15</td>\n",
       "    </tr>\n",
       "    <tr>\n",
       "      <th>145</th>\n",
       "      <td>Tosoh G7</td>\n",
       "      <td>2020</td>\n",
       "      <td>27.00</td>\n",
       "      <td>37.550</td>\n",
       "      <td>1.050</td>\n",
       "      <td>6.125</td>\n",
       "      <td>37.30</td>\n",
       "    </tr>\n",
       "    <tr>\n",
       "      <th>146</th>\n",
       "      <td>Tosoh G8</td>\n",
       "      <td>2016</td>\n",
       "      <td>159.00</td>\n",
       "      <td>50.225</td>\n",
       "      <td>0.125</td>\n",
       "      <td>3.275</td>\n",
       "      <td>50.10</td>\n",
       "    </tr>\n",
       "    <tr>\n",
       "      <th>147</th>\n",
       "      <td>Tosoh G8</td>\n",
       "      <td>2017</td>\n",
       "      <td>180.00</td>\n",
       "      <td>51.750</td>\n",
       "      <td>0.650</td>\n",
       "      <td>3.200</td>\n",
       "      <td>51.10</td>\n",
       "    </tr>\n",
       "    <tr>\n",
       "      <th>148</th>\n",
       "      <td>Tosoh G8</td>\n",
       "      <td>2018</td>\n",
       "      <td>223.75</td>\n",
       "      <td>51.325</td>\n",
       "      <td>1.175</td>\n",
       "      <td>3.400</td>\n",
       "      <td>50.15</td>\n",
       "    </tr>\n",
       "    <tr>\n",
       "      <th>149</th>\n",
       "      <td>Tosoh G8</td>\n",
       "      <td>2019</td>\n",
       "      <td>352.50</td>\n",
       "      <td>56.150</td>\n",
       "      <td>2.000</td>\n",
       "      <td>2.650</td>\n",
       "      <td>54.15</td>\n",
       "    </tr>\n",
       "    <tr>\n",
       "      <th>150</th>\n",
       "      <td>Tosoh G8</td>\n",
       "      <td>2020</td>\n",
       "      <td>232.75</td>\n",
       "      <td>37.900</td>\n",
       "      <td>1.400</td>\n",
       "      <td>3.175</td>\n",
       "      <td>37.30</td>\n",
       "    </tr>\n",
       "    <tr>\n",
       "      <th>151</th>\n",
       "      <td>Tosoh GX</td>\n",
       "      <td>2019</td>\n",
       "      <td>22.00</td>\n",
       "      <td>56.300</td>\n",
       "      <td>2.150</td>\n",
       "      <td>3.250</td>\n",
       "      <td>54.15</td>\n",
       "    </tr>\n",
       "    <tr>\n",
       "      <th>152</th>\n",
       "      <td>Tosoh GX</td>\n",
       "      <td>2020</td>\n",
       "      <td>21.00</td>\n",
       "      <td>37.725</td>\n",
       "      <td>1.225</td>\n",
       "      <td>4.275</td>\n",
       "      <td>37.30</td>\n",
       "    </tr>\n",
       "    <tr>\n",
       "      <th>153</th>\n",
       "      <td>Tosoh not specified/other</td>\n",
       "      <td>2017</td>\n",
       "      <td>55.00</td>\n",
       "      <td>51.700</td>\n",
       "      <td>0.600</td>\n",
       "      <td>3.200</td>\n",
       "      <td>51.10</td>\n",
       "    </tr>\n",
       "    <tr>\n",
       "      <th>154</th>\n",
       "      <td>Tosoh not specified/other</td>\n",
       "      <td>2018</td>\n",
       "      <td>58.00</td>\n",
       "      <td>50.850</td>\n",
       "      <td>0.700</td>\n",
       "      <td>3.150</td>\n",
       "      <td>50.15</td>\n",
       "    </tr>\n",
       "    <tr>\n",
       "      <th>155</th>\n",
       "      <td>Tosoh not specified/other</td>\n",
       "      <td>2020</td>\n",
       "      <td>98.50</td>\n",
       "      <td>37.750</td>\n",
       "      <td>1.250</td>\n",
       "      <td>2.900</td>\n",
       "      <td>37.10</td>\n",
       "    </tr>\n",
       "    <tr>\n",
       "      <th>156</th>\n",
       "      <td>Trinity Biotech Premier Hb9210</td>\n",
       "      <td>2016</td>\n",
       "      <td>21.50</td>\n",
       "      <td>50.250</td>\n",
       "      <td>0.150</td>\n",
       "      <td>3.725</td>\n",
       "      <td>50.10</td>\n",
       "    </tr>\n",
       "    <tr>\n",
       "      <th>157</th>\n",
       "      <td>Trinity Biotech Premier Hb9210</td>\n",
       "      <td>2017</td>\n",
       "      <td>24.75</td>\n",
       "      <td>51.950</td>\n",
       "      <td>0.850</td>\n",
       "      <td>2.775</td>\n",
       "      <td>51.10</td>\n",
       "    </tr>\n",
       "    <tr>\n",
       "      <th>158</th>\n",
       "      <td>Trinity Biotech Premier Hb9210</td>\n",
       "      <td>2018</td>\n",
       "      <td>27.00</td>\n",
       "      <td>50.500</td>\n",
       "      <td>0.350</td>\n",
       "      <td>3.800</td>\n",
       "      <td>50.15</td>\n",
       "    </tr>\n",
       "    <tr>\n",
       "      <th>159</th>\n",
       "      <td>Trinity Biotech Premier Hb9210</td>\n",
       "      <td>2019</td>\n",
       "      <td>28.50</td>\n",
       "      <td>54.800</td>\n",
       "      <td>0.650</td>\n",
       "      <td>3.900</td>\n",
       "      <td>54.15</td>\n",
       "    </tr>\n",
       "    <tr>\n",
       "      <th>160</th>\n",
       "      <td>Trinity Biotech Premier Hb9210</td>\n",
       "      <td>2020</td>\n",
       "      <td>24.50</td>\n",
       "      <td>37.225</td>\n",
       "      <td>0.725</td>\n",
       "      <td>5.075</td>\n",
       "      <td>37.30</td>\n",
       "    </tr>\n",
       "  </tbody>\n",
       "</table>\n",
       "</div>"
      ],
      "text/plain": [
       "                        Method name  Year       N    Mean   Bias     CV  \\\n",
       "141                        Tosoh G7  2016   30.25  50.450  0.350  5.200   \n",
       "142                        Tosoh G7  2017   23.25  52.425  1.325  4.425   \n",
       "143                        Tosoh G7  2018   20.25  51.500  1.350  4.750   \n",
       "144                        Tosoh G7  2019   19.00  54.000 -0.150  6.850   \n",
       "145                        Tosoh G7  2020   27.00  37.550  1.050  6.125   \n",
       "146                        Tosoh G8  2016  159.00  50.225  0.125  3.275   \n",
       "147                        Tosoh G8  2017  180.00  51.750  0.650  3.200   \n",
       "148                        Tosoh G8  2018  223.75  51.325  1.175  3.400   \n",
       "149                        Tosoh G8  2019  352.50  56.150  2.000  2.650   \n",
       "150                        Tosoh G8  2020  232.75  37.900  1.400  3.175   \n",
       "151                        Tosoh GX  2019   22.00  56.300  2.150  3.250   \n",
       "152                        Tosoh GX  2020   21.00  37.725  1.225  4.275   \n",
       "153       Tosoh not specified/other  2017   55.00  51.700  0.600  3.200   \n",
       "154       Tosoh not specified/other  2018   58.00  50.850  0.700  3.150   \n",
       "155       Tosoh not specified/other  2020   98.50  37.750  1.250  2.900   \n",
       "156  Trinity Biotech Premier Hb9210  2016   21.50  50.250  0.150  3.725   \n",
       "157  Trinity Biotech Premier Hb9210  2017   24.75  51.950  0.850  2.775   \n",
       "158  Trinity Biotech Premier Hb9210  2018   27.00  50.500  0.350  3.800   \n",
       "159  Trinity Biotech Premier Hb9210  2019   28.50  54.800  0.650  3.900   \n",
       "160  Trinity Biotech Premier Hb9210  2020   24.50  37.225  0.725  5.075   \n",
       "\n",
       "     Refrence Value  \n",
       "141           50.10  \n",
       "142           51.10  \n",
       "143           50.15  \n",
       "144           54.15  \n",
       "145           37.30  \n",
       "146           50.10  \n",
       "147           51.10  \n",
       "148           50.15  \n",
       "149           54.15  \n",
       "150           37.30  \n",
       "151           54.15  \n",
       "152           37.30  \n",
       "153           51.10  \n",
       "154           50.15  \n",
       "155           37.10  \n",
       "156           50.10  \n",
       "157           51.10  \n",
       "158           50.15  \n",
       "159           54.15  \n",
       "160           37.30  "
      ]
     },
     "execution_count": 19,
     "metadata": {},
     "output_type": "execute_result"
    }
   ],
   "source": [
    "# test = df2.loc[:, df2.columns != 'Year']\n",
    "df2 = df.groupby(['Method name','Year']).mean().reset_index()\n",
    "df2.tail(20)"
   ]
  },
  {
   "cell_type": "code",
   "execution_count": 20,
   "id": "4215fb9d",
   "metadata": {},
   "outputs": [
    {
     "data": {
      "text/html": [
       "<div>\n",
       "<style scoped>\n",
       "    .dataframe tbody tr th:only-of-type {\n",
       "        vertical-align: middle;\n",
       "    }\n",
       "\n",
       "    .dataframe tbody tr th {\n",
       "        vertical-align: top;\n",
       "    }\n",
       "\n",
       "    .dataframe thead th {\n",
       "        text-align: right;\n",
       "    }\n",
       "</style>\n",
       "<table border=\"1\" class=\"dataframe\">\n",
       "  <thead>\n",
       "    <tr style=\"text-align: right;\">\n",
       "      <th></th>\n",
       "      <th>Year</th>\n",
       "      <th>N</th>\n",
       "      <th>Mean</th>\n",
       "      <th>Bias</th>\n",
       "      <th>CV</th>\n",
       "      <th>Refrence Value</th>\n",
       "    </tr>\n",
       "    <tr>\n",
       "      <th>Method name</th>\n",
       "      <th></th>\n",
       "      <th></th>\n",
       "      <th></th>\n",
       "      <th></th>\n",
       "      <th></th>\n",
       "      <th></th>\n",
       "    </tr>\n",
       "  </thead>\n",
       "  <tbody>\n",
       "    <tr>\n",
       "      <th>(part of cobas 6000/8000) Roche Diagnostics cobas c 513</th>\n",
       "      <td>2019</td>\n",
       "      <td>10.00</td>\n",
       "      <td>57.300</td>\n",
       "      <td>3.150</td>\n",
       "      <td>3.650</td>\n",
       "      <td>54.15</td>\n",
       "    </tr>\n",
       "    <tr>\n",
       "      <th>Abbott ARCHITECT</th>\n",
       "      <td>2017</td>\n",
       "      <td>34.25</td>\n",
       "      <td>49.525</td>\n",
       "      <td>-1.575</td>\n",
       "      <td>5.100</td>\n",
       "      <td>51.10</td>\n",
       "    </tr>\n",
       "    <tr>\n",
       "      <th>Abbott ARCHITECT</th>\n",
       "      <td>2018</td>\n",
       "      <td>58.50</td>\n",
       "      <td>47.925</td>\n",
       "      <td>-2.225</td>\n",
       "      <td>5.050</td>\n",
       "      <td>50.15</td>\n",
       "    </tr>\n",
       "    <tr>\n",
       "      <th>Abbott ARCHITECT (enzymatic)</th>\n",
       "      <td>2016</td>\n",
       "      <td>22.50</td>\n",
       "      <td>48.025</td>\n",
       "      <td>-2.075</td>\n",
       "      <td>3.800</td>\n",
       "      <td>50.10</td>\n",
       "    </tr>\n",
       "    <tr>\n",
       "      <th>Abbott ARCHITECT (enzymatic)</th>\n",
       "      <td>2019</td>\n",
       "      <td>31.50</td>\n",
       "      <td>54.000</td>\n",
       "      <td>-0.150</td>\n",
       "      <td>3.800</td>\n",
       "      <td>54.15</td>\n",
       "    </tr>\n",
       "    <tr>\n",
       "      <th>...</th>\n",
       "      <td>...</td>\n",
       "      <td>...</td>\n",
       "      <td>...</td>\n",
       "      <td>...</td>\n",
       "      <td>...</td>\n",
       "      <td>...</td>\n",
       "    </tr>\n",
       "    <tr>\n",
       "      <th>Trinity Biotech Premier Hb9210</th>\n",
       "      <td>2016</td>\n",
       "      <td>21.50</td>\n",
       "      <td>50.250</td>\n",
       "      <td>0.150</td>\n",
       "      <td>3.725</td>\n",
       "      <td>50.10</td>\n",
       "    </tr>\n",
       "    <tr>\n",
       "      <th>Trinity Biotech Premier Hb9210</th>\n",
       "      <td>2017</td>\n",
       "      <td>24.75</td>\n",
       "      <td>51.950</td>\n",
       "      <td>0.850</td>\n",
       "      <td>2.775</td>\n",
       "      <td>51.10</td>\n",
       "    </tr>\n",
       "    <tr>\n",
       "      <th>Trinity Biotech Premier Hb9210</th>\n",
       "      <td>2018</td>\n",
       "      <td>27.00</td>\n",
       "      <td>50.500</td>\n",
       "      <td>0.350</td>\n",
       "      <td>3.800</td>\n",
       "      <td>50.15</td>\n",
       "    </tr>\n",
       "    <tr>\n",
       "      <th>Trinity Biotech Premier Hb9210</th>\n",
       "      <td>2019</td>\n",
       "      <td>28.50</td>\n",
       "      <td>54.800</td>\n",
       "      <td>0.650</td>\n",
       "      <td>3.900</td>\n",
       "      <td>54.15</td>\n",
       "    </tr>\n",
       "    <tr>\n",
       "      <th>Trinity Biotech Premier Hb9210</th>\n",
       "      <td>2020</td>\n",
       "      <td>24.50</td>\n",
       "      <td>37.225</td>\n",
       "      <td>0.725</td>\n",
       "      <td>5.075</td>\n",
       "      <td>37.30</td>\n",
       "    </tr>\n",
       "  </tbody>\n",
       "</table>\n",
       "<p>161 rows × 6 columns</p>\n",
       "</div>"
      ],
      "text/plain": [
       "                                                    Year      N    Mean  \\\n",
       "Method name                                                               \n",
       "(part of cobas 6000/8000) Roche Diagnostics cob...  2019  10.00  57.300   \n",
       "Abbott ARCHITECT                                    2017  34.25  49.525   \n",
       "Abbott ARCHITECT                                    2018  58.50  47.925   \n",
       "Abbott ARCHITECT (enzymatic)                        2016  22.50  48.025   \n",
       "Abbott ARCHITECT (enzymatic)                        2019  31.50  54.000   \n",
       "...                                                  ...    ...     ...   \n",
       "Trinity Biotech Premier Hb9210                      2016  21.50  50.250   \n",
       "Trinity Biotech Premier Hb9210                      2017  24.75  51.950   \n",
       "Trinity Biotech Premier Hb9210                      2018  27.00  50.500   \n",
       "Trinity Biotech Premier Hb9210                      2019  28.50  54.800   \n",
       "Trinity Biotech Premier Hb9210                      2020  24.50  37.225   \n",
       "\n",
       "                                                     Bias     CV  \\\n",
       "Method name                                                        \n",
       "(part of cobas 6000/8000) Roche Diagnostics cob...  3.150  3.650   \n",
       "Abbott ARCHITECT                                   -1.575  5.100   \n",
       "Abbott ARCHITECT                                   -2.225  5.050   \n",
       "Abbott ARCHITECT (enzymatic)                       -2.075  3.800   \n",
       "Abbott ARCHITECT (enzymatic)                       -0.150  3.800   \n",
       "...                                                   ...    ...   \n",
       "Trinity Biotech Premier Hb9210                      0.150  3.725   \n",
       "Trinity Biotech Premier Hb9210                      0.850  2.775   \n",
       "Trinity Biotech Premier Hb9210                      0.350  3.800   \n",
       "Trinity Biotech Premier Hb9210                      0.650  3.900   \n",
       "Trinity Biotech Premier Hb9210                      0.725  5.075   \n",
       "\n",
       "                                                    Refrence Value  \n",
       "Method name                                                         \n",
       "(part of cobas 6000/8000) Roche Diagnostics cob...           54.15  \n",
       "Abbott ARCHITECT                                             51.10  \n",
       "Abbott ARCHITECT                                             50.15  \n",
       "Abbott ARCHITECT (enzymatic)                                 50.10  \n",
       "Abbott ARCHITECT (enzymatic)                                 54.15  \n",
       "...                                                            ...  \n",
       "Trinity Biotech Premier Hb9210                               50.10  \n",
       "Trinity Biotech Premier Hb9210                               51.10  \n",
       "Trinity Biotech Premier Hb9210                               50.15  \n",
       "Trinity Biotech Premier Hb9210                               54.15  \n",
       "Trinity Biotech Premier Hb9210                               37.30  \n",
       "\n",
       "[161 rows x 6 columns]"
      ]
     },
     "execution_count": 20,
     "metadata": {},
     "output_type": "execute_result"
    }
   ],
   "source": [
    "df3 = df2.set_index('Method name')\n",
    "df3"
   ]
  },
  {
   "cell_type": "code",
   "execution_count": 21,
   "id": "c726a7d2",
   "metadata": {},
   "outputs": [
    {
     "data": {
      "text/html": [
       "<div>\n",
       "<style scoped>\n",
       "    .dataframe tbody tr th:only-of-type {\n",
       "        vertical-align: middle;\n",
       "    }\n",
       "\n",
       "    .dataframe tbody tr th {\n",
       "        vertical-align: top;\n",
       "    }\n",
       "\n",
       "    .dataframe thead th {\n",
       "        text-align: right;\n",
       "    }\n",
       "</style>\n",
       "<table border=\"1\" class=\"dataframe\">\n",
       "  <thead>\n",
       "    <tr style=\"text-align: right;\">\n",
       "      <th></th>\n",
       "      <th>N</th>\n",
       "      <th>Mean</th>\n",
       "      <th>Bias</th>\n",
       "      <th>CV</th>\n",
       "      <th>Sample</th>\n",
       "      <th>Refrence Value</th>\n",
       "      <th>Year</th>\n",
       "      <th>Source</th>\n",
       "      <th>Type</th>\n",
       "      <th>Manufacturer</th>\n",
       "    </tr>\n",
       "    <tr>\n",
       "      <th>Method name</th>\n",
       "      <th></th>\n",
       "      <th></th>\n",
       "      <th></th>\n",
       "      <th></th>\n",
       "      <th></th>\n",
       "      <th></th>\n",
       "      <th></th>\n",
       "      <th></th>\n",
       "      <th></th>\n",
       "      <th></th>\n",
       "    </tr>\n",
       "  </thead>\n",
       "  <tbody>\n",
       "    <tr>\n",
       "      <th>(part of cobas 6000/8000) Roche Diagnostics cobas c 513</th>\n",
       "      <td>10.0</td>\n",
       "      <td>74.0</td>\n",
       "      <td>3.9</td>\n",
       "      <td>2.7</td>\n",
       "      <td>Sample 1</td>\n",
       "      <td>70.1</td>\n",
       "      <td>2019</td>\n",
       "      <td>EURA1c</td>\n",
       "      <td>Frozen</td>\n",
       "      <td>Roche Diagnostics</td>\n",
       "    </tr>\n",
       "    <tr>\n",
       "      <th>(part of cobas 6000/8000) Roche Diagnostics cobas c 513</th>\n",
       "      <td>10.0</td>\n",
       "      <td>40.6</td>\n",
       "      <td>2.4</td>\n",
       "      <td>4.6</td>\n",
       "      <td>Sample 2</td>\n",
       "      <td>38.2</td>\n",
       "      <td>2019</td>\n",
       "      <td>EURA1c</td>\n",
       "      <td>Frozen</td>\n",
       "      <td>Roche Diagnostics</td>\n",
       "    </tr>\n",
       "    <tr>\n",
       "      <th>Abbott Alinity</th>\n",
       "      <td>17.0</td>\n",
       "      <td>34.0</td>\n",
       "      <td>-2.5</td>\n",
       "      <td>8.2</td>\n",
       "      <td>Sample 1</td>\n",
       "      <td>37.5</td>\n",
       "      <td>2020</td>\n",
       "      <td>EURA1c</td>\n",
       "      <td>Frozen</td>\n",
       "      <td>Abbot</td>\n",
       "    </tr>\n",
       "    <tr>\n",
       "      <th>Abbott Alinity</th>\n",
       "      <td>15.0</td>\n",
       "      <td>34.2</td>\n",
       "      <td>-2.3</td>\n",
       "      <td>8.2</td>\n",
       "      <td>Sample 2</td>\n",
       "      <td>37.5</td>\n",
       "      <td>2020</td>\n",
       "      <td>EURA1c</td>\n",
       "      <td>Frozen</td>\n",
       "      <td>Abbot</td>\n",
       "    </tr>\n",
       "    <tr>\n",
       "      <th>Abbott Alinity</th>\n",
       "      <td>12.0</td>\n",
       "      <td>36.1</td>\n",
       "      <td>-0.4</td>\n",
       "      <td>2.1</td>\n",
       "      <td>Sample 1</td>\n",
       "      <td>37.1</td>\n",
       "      <td>2020</td>\n",
       "      <td>EURA1c</td>\n",
       "      <td>Fresh</td>\n",
       "      <td>Abbot</td>\n",
       "    </tr>\n",
       "    <tr>\n",
       "      <th>...</th>\n",
       "      <td>...</td>\n",
       "      <td>...</td>\n",
       "      <td>...</td>\n",
       "      <td>...</td>\n",
       "      <td>...</td>\n",
       "      <td>...</td>\n",
       "      <td>...</td>\n",
       "      <td>...</td>\n",
       "      <td>...</td>\n",
       "      <td>...</td>\n",
       "    </tr>\n",
       "    <tr>\n",
       "      <th>Trinity Biotech Premier Hb9210</th>\n",
       "      <td>27.0</td>\n",
       "      <td>59.7</td>\n",
       "      <td>1.8</td>\n",
       "      <td>4.0</td>\n",
       "      <td>Sample 2</td>\n",
       "      <td>57.9</td>\n",
       "      <td>2016</td>\n",
       "      <td>EURA1c</td>\n",
       "      <td>Fresh</td>\n",
       "      <td>Trinity Biotech</td>\n",
       "    </tr>\n",
       "    <tr>\n",
       "      <th>Trinity Biotech Premier Hb9210</th>\n",
       "      <td>20.0</td>\n",
       "      <td>45.0</td>\n",
       "      <td>0.8</td>\n",
       "      <td>2.2</td>\n",
       "      <td>Sample 1</td>\n",
       "      <td>44.2</td>\n",
       "      <td>2017</td>\n",
       "      <td>EURA1c</td>\n",
       "      <td>Frozen</td>\n",
       "      <td>Trinity Biotech</td>\n",
       "    </tr>\n",
       "    <tr>\n",
       "      <th>Trinity Biotech Premier Hb9210</th>\n",
       "      <td>21.0</td>\n",
       "      <td>58.0</td>\n",
       "      <td>0.0</td>\n",
       "      <td>2.4</td>\n",
       "      <td>Sample 2</td>\n",
       "      <td>58.0</td>\n",
       "      <td>2017</td>\n",
       "      <td>EURA1c</td>\n",
       "      <td>Frozen</td>\n",
       "      <td>Trinity Biotech</td>\n",
       "    </tr>\n",
       "    <tr>\n",
       "      <th>Trinity Biotech Premier Hb9210</th>\n",
       "      <td>29.0</td>\n",
       "      <td>45.3</td>\n",
       "      <td>1.1</td>\n",
       "      <td>3.7</td>\n",
       "      <td>Sample 1</td>\n",
       "      <td>44.2</td>\n",
       "      <td>2017</td>\n",
       "      <td>EURA1c</td>\n",
       "      <td>Fresh</td>\n",
       "      <td>Trinity Biotech</td>\n",
       "    </tr>\n",
       "    <tr>\n",
       "      <th>Trinity Biotech Premier Hb9210</th>\n",
       "      <td>29.0</td>\n",
       "      <td>59.5</td>\n",
       "      <td>1.5</td>\n",
       "      <td>2.8</td>\n",
       "      <td>Sample 2</td>\n",
       "      <td>58.0</td>\n",
       "      <td>2017</td>\n",
       "      <td>EURA1c</td>\n",
       "      <td>Fresh</td>\n",
       "      <td>Trinity Biotech</td>\n",
       "    </tr>\n",
       "  </tbody>\n",
       "</table>\n",
       "<p>514 rows × 10 columns</p>\n",
       "</div>"
      ],
      "text/plain": [
       "                                                       N  Mean  Bias   CV  \\\n",
       "Method name                                                                 \n",
       "(part of cobas 6000/8000) Roche Diagnostics cob...  10.0  74.0   3.9  2.7   \n",
       "(part of cobas 6000/8000) Roche Diagnostics cob...  10.0  40.6   2.4  4.6   \n",
       "Abbott Alinity                                      17.0  34.0  -2.5  8.2   \n",
       "Abbott Alinity                                      15.0  34.2  -2.3  8.2   \n",
       "Abbott Alinity                                      12.0  36.1  -0.4  2.1   \n",
       "...                                                  ...   ...   ...  ...   \n",
       "Trinity Biotech Premier Hb9210                      27.0  59.7   1.8  4.0   \n",
       "Trinity Biotech Premier Hb9210                      20.0  45.0   0.8  2.2   \n",
       "Trinity Biotech Premier Hb9210                      21.0  58.0   0.0  2.4   \n",
       "Trinity Biotech Premier Hb9210                      29.0  45.3   1.1  3.7   \n",
       "Trinity Biotech Premier Hb9210                      29.0  59.5   1.5  2.8   \n",
       "\n",
       "                                                      Sample  Refrence Value  \\\n",
       "Method name                                                                    \n",
       "(part of cobas 6000/8000) Roche Diagnostics cob...  Sample 1            70.1   \n",
       "(part of cobas 6000/8000) Roche Diagnostics cob...  Sample 2            38.2   \n",
       "Abbott Alinity                                      Sample 1            37.5   \n",
       "Abbott Alinity                                      Sample 2            37.5   \n",
       "Abbott Alinity                                      Sample 1            37.1   \n",
       "...                                                      ...             ...   \n",
       "Trinity Biotech Premier Hb9210                      Sample 2            57.9   \n",
       "Trinity Biotech Premier Hb9210                      Sample 1            44.2   \n",
       "Trinity Biotech Premier Hb9210                      Sample 2            58.0   \n",
       "Trinity Biotech Premier Hb9210                      Sample 1            44.2   \n",
       "Trinity Biotech Premier Hb9210                      Sample 2            58.0   \n",
       "\n",
       "                                                    Year  Source    Type  \\\n",
       "Method name                                                                \n",
       "(part of cobas 6000/8000) Roche Diagnostics cob...  2019  EURA1c  Frozen   \n",
       "(part of cobas 6000/8000) Roche Diagnostics cob...  2019  EURA1c  Frozen   \n",
       "Abbott Alinity                                      2020  EURA1c  Frozen   \n",
       "Abbott Alinity                                      2020  EURA1c  Frozen   \n",
       "Abbott Alinity                                      2020  EURA1c   Fresh   \n",
       "...                                                  ...     ...     ...   \n",
       "Trinity Biotech Premier Hb9210                      2016  EURA1c   Fresh   \n",
       "Trinity Biotech Premier Hb9210                      2017  EURA1c  Frozen   \n",
       "Trinity Biotech Premier Hb9210                      2017  EURA1c  Frozen   \n",
       "Trinity Biotech Premier Hb9210                      2017  EURA1c   Fresh   \n",
       "Trinity Biotech Premier Hb9210                      2017  EURA1c   Fresh   \n",
       "\n",
       "                                                         Manufacturer  \n",
       "Method name                                                            \n",
       "(part of cobas 6000/8000) Roche Diagnostics cob...  Roche Diagnostics  \n",
       "(part of cobas 6000/8000) Roche Diagnostics cob...  Roche Diagnostics  \n",
       "Abbott Alinity                                                  Abbot  \n",
       "Abbott Alinity                                                  Abbot  \n",
       "Abbott Alinity                                                  Abbot  \n",
       "...                                                               ...  \n",
       "Trinity Biotech Premier Hb9210                        Trinity Biotech  \n",
       "Trinity Biotech Premier Hb9210                        Trinity Biotech  \n",
       "Trinity Biotech Premier Hb9210                        Trinity Biotech  \n",
       "Trinity Biotech Premier Hb9210                        Trinity Biotech  \n",
       "Trinity Biotech Premier Hb9210                        Trinity Biotech  \n",
       "\n",
       "[514 rows x 10 columns]"
      ]
     },
     "execution_count": 21,
     "metadata": {},
     "output_type": "execute_result"
    }
   ],
   "source": [
    "df4 = df.set_index('Method name')\n",
    "df4"
   ]
  },
  {
   "cell_type": "code",
   "execution_count": 22,
   "id": "5ce9d383",
   "metadata": {
    "scrolled": false
   },
   "outputs": [
    {
     "data": {
      "text/plain": [
       "<matplotlib.legend.Legend at 0x1baf13ce100>"
      ]
     },
     "execution_count": 22,
     "metadata": {},
     "output_type": "execute_result"
    },
    {
     "data": {
      "image/png": "[encoded data removed]",
      "text/plain": [
       "<Figure size 432x288 with 1 Axes>"
      ]
     },
     "metadata": {
      "needs_background": "light"
     },
     "output_type": "display_data"
    }
   ],
   "source": [
    "sns.lineplot(data=df, x=\"Year\", y=\"CV\", hue=\"Manufacturer\")\n",
    "plt.legend(bbox_to_anchor=(1.02, 1), loc='upper left', borderaxespad=0)"
   ]
  },
  {
   "cell_type": "code",
   "execution_count": 23,
   "id": "392b2558",
   "metadata": {},
   "outputs": [
    {
     "data": {
      "application/vnd.plotly.v1+json": {
       "config": {
        "plotlyServerURL": "https://plot.ly"
       },
       "data": [
        {
         "hovertemplate": "Year=%{x}<br>CV=%{y}<extra></extra>",
         "legendgroup": "",
         "line": {
          "color": "#636efa",
          "dash": "solid"
         },
         "marker": {
          "symbol": "circle"
         },
         "mode": "lines",
         "name": "",
         "orientation": "v",
         "showlegend": false,
         "type": "scatter",
         "x": [
          2019,
          2019,
          2020,
          2020,
          2020,
          2020,
          2017,
          2017,
          2017,
          2017,
          2018,
          2018,
          2018,
          2018,
          2019,
          2019,
          2019,
          2019,
          2020,
          2020,
          2020,
          2020,
          2016,
          2016,
          2016,
          2016,
          2020,
          2020,
          2020,
          2020,
          2016,
          2016,
          2019,
          2019,
          2019,
          2019,
          2020,
          2020,
          2020,
          2020,
          2020,
          2020,
          2016,
          2016,
          2019,
          2019,
          2020,
          2020,
          2016,
          2016,
          2017,
          2017,
          2018,
          2018,
          2016,
          2016,
          2017,
          2017,
          2016,
          2016,
          2017,
          2017,
          2018,
          2018,
          2018,
          2018,
          2019,
          2019,
          2019,
          2019,
          2020,
          2020,
          2020,
          2020,
          2020,
          2020,
          2018,
          2018,
          2016,
          2016,
          2017,
          2017,
          2018,
          2018,
          2019,
          2019,
          2020,
          2020,
          2018,
          2018,
          2019,
          2019,
          2016,
          2016,
          2016,
          2016,
          2017,
          2017,
          2017,
          2017,
          2018,
          2018,
          2018,
          2018,
          2019,
          2019,
          2019,
          2019,
          2020,
          2020,
          2020,
          2020,
          2016,
          2016,
          2016,
          2016,
          2017,
          2017,
          2017,
          2017,
          2018,
          2018,
          2018,
          2018,
          2019,
          2019,
          2019,
          2019,
          2020,
          2020,
          2020,
          2020,
          2020,
          2020,
          2017,
          2017,
          2018,
          2018,
          2018,
          2018,
          2016,
          2016,
          2016,
          2016,
          2017,
          2017,
          2017,
          2017,
          2018,
          2018,
          2018,
          2018,
          2019,
          2019,
          2019,
          2019,
          2020,
          2020,
          2020,
          2020,
          2018,
          2018,
          2019,
          2019,
          2020,
          2020,
          2018,
          2018,
          2019,
          2019,
          2020,
          2020,
          2020,
          2020,
          2020,
          2020,
          2016,
          2016,
          2017,
          2017,
          2018,
          2018,
          2017,
          2017,
          2017,
          2017,
          2018,
          2018,
          2018,
          2018,
          2019,
          2019,
          2019,
          2019,
          2020,
          2020,
          2020,
          2020,
          2016,
          2016,
          2016,
          2016,
          2017,
          2017,
          2017,
          2017,
          2018,
          2018,
          2018,
          2018,
          2019,
          2019,
          2019,
          2019,
          2020,
          2020,
          2020,
          2020,
          2016,
          2016,
          2016,
          2016,
          2019,
          2019,
          2020,
          2020,
          2020,
          2020,
          2018,
          2018,
          2017,
          2017,
          2018,
          2018,
          2020,
          2020,
          2016,
          2016,
          2016,
          2016,
          2017,
          2017,
          2017,
          2017,
          2018,
          2018,
          2019,
          2019,
          2019,
          2019,
          2020,
          2020,
          2020,
          2020,
          2018,
          2018,
          2019,
          2019,
          2016,
          2016,
          2016,
          2016,
          2017,
          2017,
          2017,
          2017,
          2018,
          2018,
          2018,
          2018,
          2019,
          2019,
          2020,
          2020,
          2020,
          2020,
          2019,
          2019,
          2019,
          2019,
          2019,
          2019,
          2020,
          2020,
          2020,
          2020,
          2020,
          2020,
          2019,
          2019,
          2020,
          2020,
          2020,
          2020,
          2019,
          2019,
          2019,
          2019,
          2019,
          2019,
          2020,
          2020,
          2020,
          2020,
          2019,
          2019,
          2019,
          2019,
          2020,
          2020,
          2020,
          2020,
          2019,
          2019,
          2016,
          2016,
          2016,
          2016,
          2017,
          2017,
          2017,
          2017,
          2019,
          2019,
          2020,
          2020,
          2020,
          2020,
          2018,
          2018,
          2018,
          2018,
          2019,
          2019,
          2016,
          2016,
          2016,
          2016,
          2017,
          2017,
          2017,
          2017,
          2019,
          2019,
          2020,
          2020,
          2020,
          2020,
          2018,
          2018,
          2018,
          2018,
          2019,
          2019,
          2016,
          2016,
          2017,
          2017,
          2019,
          2019,
          2020,
          2020,
          2020,
          2020,
          2018,
          2018,
          2018,
          2018,
          2019,
          2019,
          2020,
          2020,
          2020,
          2020,
          2019,
          2019,
          2019,
          2019,
          2020,
          2020,
          2016,
          2016,
          2017,
          2017,
          2018,
          2018,
          2020,
          2020,
          2019,
          2019,
          2018,
          2018,
          2018,
          2018,
          2019,
          2019,
          2020,
          2020,
          2020,
          2020,
          2016,
          2016,
          2016,
          2016,
          2017,
          2017,
          2017,
          2017,
          2019,
          2019,
          2016,
          2016,
          2016,
          2016,
          2017,
          2017,
          2017,
          2017,
          2018,
          2018,
          2018,
          2018,
          2019,
          2019,
          2020,
          2020,
          2020,
          2020,
          2016,
          2016,
          2018,
          2018,
          2019,
          2019,
          2020,
          2020,
          2018,
          2018,
          2018,
          2018,
          2018,
          2018,
          2019,
          2019,
          2020,
          2020,
          2020,
          2020,
          2016,
          2016,
          2016,
          2016,
          2017,
          2017,
          2017,
          2017,
          2018,
          2018,
          2018,
          2018,
          2019,
          2019,
          2020,
          2020,
          2020,
          2020,
          2016,
          2016,
          2016,
          2016,
          2017,
          2017,
          2017,
          2017,
          2018,
          2018,
          2018,
          2018,
          2019,
          2019,
          2020,
          2020,
          2020,
          2020,
          2019,
          2019,
          2020,
          2020,
          2020,
          2020,
          2020,
          2020,
          2017,
          2017,
          2018,
          2018,
          2018,
          2018,
          2018,
          2018,
          2019,
          2019,
          2020,
          2020,
          2020,
          2020,
          2016,
          2016,
          2016,
          2016,
          2017,
          2017,
          2017,
          2017
         ],
         "xaxis": "x",
         "y": [
          2.7,
          4.6,
          8.2,
          8.2,
          2.1,
          1.9,
          6.8,
          6.6,
          3.9,
          3.1,
          6.1,
          8,
          3.1,
          3,
          4,
          6.2,
          1.9,
          3.1,
          9.3,
          8,
          7.4,
          7.1,
          5.2,
          6.8,
          1.5,
          1.7,
          9.8,
          8.8,
          8.2,
          8.1,
          2,
          6.1,
          7.3,
          10.4,
          3.9,
          4,
          6.9,
          6.4,
          2.7,
          2.9,
          4.1,
          4.5,
          5.1,
          4,
          2.7,
          5.1,
          4.2,
          4.5,
          3.5,
          3.2,
          3.9,
          3.6,
          3.1,
          3.6,
          5.6,
          5.5,
          7.2,
          6.1,
          7.9,
          5,
          7.1,
          4.8,
          7.8,
          7.1,
          6.7,
          6.9,
          5.6,
          6.6,
          6.3,
          6.6,
          8,
          7.9,
          6,
          6.7,
          5.5,
          6.5,
          2.8,
          1.5,
          3.9,
          3.1,
          5.1,
          5,
          3.5,
          3.6,
          3.3,
          3.2,
          3.8,
          3.8,
          10.8,
          13.7,
          6.9,
          7.6,
          5.5,
          4.9,
          4.6,
          5.1,
          6.5,
          4.5,
          4.7,
          4.8,
          4.9,
          5.8,
          5.3,
          5.4,
          5.2,
          6.6,
          3.4,
          4.3,
          7.2,
          6.4,
          4.7,
          4.4,
          2.1,
          1.7,
          1.6,
          2.1,
          2.6,
          1.5,
          3.2,
          2.5,
          2.1,
          2.8,
          3.5,
          3.9,
          2.3,
          3.6,
          2.8,
          3.6,
          2.9,
          3.1,
          3.1,
          2.7,
          4.5,
          4.4,
          4.4,
          4.1,
          5.3,
          5.5,
          2.3,
          4.9,
          5.8,
          3.9,
          4.1,
          3.8,
          6.3,
          3.9,
          3.9,
          3,
          4.7,
          5.3,
          4.1,
          4.9,
          5.3,
          8.9,
          2.8,
          5.2,
          8.1,
          8.3,
          6.5,
          6.4,
          6.7,
          3.8,
          3,
          5.4,
          8.2,
          6.2,
          7,
          8,
          4.3,
          8.9,
          9,
          9.4,
          8.8,
          9.9,
          8.5,
          3.6,
          12.1,
          17.1,
          8.3,
          6.9,
          8.6,
          7.6,
          4.6,
          3.9,
          3.1,
          2.6,
          4.2,
          4.4,
          3.8,
          3.8,
          3.6,
          5.1,
          3.2,
          4.4,
          4.9,
          5.1,
          5,
          4.9,
          2.9,
          3,
          3.7,
          3.1,
          3.1,
          3.2,
          3.2,
          2.7,
          4.5,
          5.2,
          2.8,
          3,
          5.7,
          5.4,
          2.8,
          3.8,
          4.2,
          4.2,
          3.1,
          3.2,
          3.9,
          3.1,
          3,
          2.9,
          4.6,
          3.9,
          4.8,
          5,
          3.8,
          3.1,
          3,
          3.2,
          3.5,
          3.9,
          3.6,
          5.1,
          12.4,
          11.8,
          8.7,
          7.4,
          5.5,
          5.1,
          10.2,
          9.5,
          5.6,
          6.6,
          6.4,
          6,
          4.6,
          8.7,
          6.8,
          7,
          12,
          8.9,
          5.5,
          4.9,
          4.9,
          5.8,
          4.8,
          5,
          5.2,
          4.7,
          4.7,
          4.1,
          5,
          4.7,
          3.8,
          3.5,
          4.9,
          5.4,
          3.6,
          4,
          3.8,
          4.1,
          6.1,
          4.3,
          9.3,
          8.4,
          3.6,
          5.4,
          3.7,
          6.1,
          3.5,
          4,
          6.2,
          6.3,
          4.1,
          4,
          4.5,
          4.6,
          2.7,
          2.3,
          2.8,
          2.8,
          2.3,
          2.1,
          6.3,
          10.3,
          3.3,
          7,
          3.3,
          3.5,
          4.5,
          4.6,
          4.2,
          4.1,
          3.9,
          4,
          3.3,
          3.1,
          8.5,
          9.2,
          3.7,
          4.1,
          2.4,
          3.8,
          2.5,
          2.5,
          2.9,
          2.2,
          3.7,
          2.6,
          2.9,
          2.4,
          3,
          3.7,
          3.7,
          4.2,
          3.9,
          3.9,
          2.8,
          3.9,
          2.6,
          3.2,
          2.6,
          2.9,
          2.6,
          1.6,
          2.6,
          2,
          2.1,
          1.4,
          2,
          1.5,
          2.4,
          3.3,
          3.3,
          2.9,
          3.3,
          3.3,
          2,
          2,
          1.9,
          2.1,
          3.2,
          3.8,
          2.8,
          2.2,
          3.1,
          2,
          2.8,
          3.1,
          6.5,
          4.9,
          4.9,
          4.8,
          2.9,
          3.4,
          4.1,
          3,
          2.9,
          4.1,
          2.7,
          3.7,
          3.4,
          3.6,
          6.7,
          5.2,
          6.1,
          11,
          5.6,
          6,
          5.6,
          3.9,
          6.8,
          8.6,
          7.3,
          7.8,
          5.6,
          4.3,
          4.4,
          5.2,
          3.5,
          4.4,
          3.5,
          3.8,
          3.8,
          3.8,
          5.5,
          4.5,
          3.8,
          3.5,
          3.9,
          3.3,
          3.4,
          3.7,
          5.1,
          7.3,
          4.3,
          4.2,
          8.5,
          7.1,
          5.1,
          4.2,
          4.3,
          3.7,
          4.3,
          5.7,
          3.9,
          4,
          5.4,
          4.8,
          3.8,
          5.3,
          2.9,
          4.6,
          5.2,
          5.6,
          4.5,
          4.8,
          4.9,
          3.6,
          5.8,
          6.1,
          10.8,
          13,
          5.5,
          5.1,
          5.5,
          6.5,
          4.4,
          6.8,
          1.8,
          2.1,
          2.7,
          3.4,
          5.1,
          5.1,
          2.3,
          2.4,
          4.8,
          4.7,
          5.1,
          6.2,
          5.5,
          4.5,
          4.5,
          3.2,
          4.2,
          5.2,
          5.2,
          4.4,
          6.6,
          7.1,
          4.4,
          4.5,
          8,
          7.6,
          4.1,
          3.8,
          2.8,
          2.4,
          3.7,
          3.8,
          2.7,
          2.6,
          3.4,
          4.6,
          2.9,
          2.7,
          2.4,
          2.9,
          3.5,
          3.7,
          2.7,
          2.8,
          3.9,
          2.6,
          4.8,
          5.2,
          3.4,
          3.7,
          3.1,
          2.7,
          3.5,
          2.9,
          2.9,
          3.4,
          4.3,
          3.9,
          3,
          4,
          2.4,
          5.4,
          5.1,
          4.4,
          4.2,
          6.6,
          4.2,
          3.2,
          3.5,
          4,
          2.2,
          2.4,
          3.7,
          2.8
         ],
         "yaxis": "y"
        }
       ],
       "layout": {
        "legend": {
         "tracegroupgap": 0
        },
        "template": {
         "data": {
          "bar": [
           {
            "error_x": {
             "color": "#2a3f5f"
            },
            "error_y": {
             "color": "#2a3f5f"
            },
            "marker": {
             "line": {
              "color": "#E5ECF6",
              "width": 0.5
             },
             "pattern": {
              "fillmode": "overlay",
              "size": 10,
              "solidity": 0.2
             }
            },
            "type": "bar"
           }
          ],
          "barpolar": [
           {
            "marker": {
             "line": {
              "color": "#E5ECF6",
              "width": 0.5
             },
             "pattern": {
              "fillmode": "overlay",
              "size": 10,
              "solidity": 0.2
             }
            },
            "type": "barpolar"
           }
          ],
          "carpet": [
           {
            "aaxis": {
             "endlinecolor": "#2a3f5f",
             "gridcolor": "white",
             "linecolor": "white",
             "minorgridcolor": "white",
             "startlinecolor": "#2a3f5f"
            },
            "baxis": {
             "endlinecolor": "#2a3f5f",
             "gridcolor": "white",
             "linecolor": "white",
             "minorgridcolor": "white",
             "startlinecolor": "#2a3f5f"
            },
            "type": "carpet"
           }
          ],
          "choropleth": [
           {
            "colorbar": {
             "outlinewidth": 0,
             "ticks": ""
            },
            "type": "choropleth"
           }
          ],
          "contour": [
           {
            "colorbar": {
             "outlinewidth": 0,
             "ticks": ""
            },
            "colorscale": [
             [
              0,
              "#0d0887"
             ],
             [
              0.1111111111111111,
              "#46039f"
             ],
             [
              0.2222222222222222,
              "#7201a8"
             ],
             [
              0.3333333333333333,
              "#9c179e"
             ],
             [
              0.4444444444444444,
              "#bd3786"
             ],
             [
              0.5555555555555556,
              "#d8576b"
             ],
             [
              0.6666666666666666,
              "#ed7953"
             ],
             [
              0.7777777777777778,
              "#fb9f3a"
             ],
             [
              0.8888888888888888,
              "#fdca26"
             ],
             [
              1,
              "#f0f921"
             ]
            ],
            "type": "contour"
           }
          ],
          "contourcarpet": [
           {
            "colorbar": {
             "outlinewidth": 0,
             "ticks": ""
            },
            "type": "contourcarpet"
           }
          ],
          "heatmap": [
           {
            "colorbar": {
             "outlinewidth": 0,
             "ticks": ""
            },
            "colorscale": [
             [
              0,
              "#0d0887"
             ],
             [
              0.1111111111111111,
              "#46039f"
             ],
             [
              0.2222222222222222,
              "#7201a8"
             ],
             [
              0.3333333333333333,
              "#9c179e"
             ],
             [
              0.4444444444444444,
              "#bd3786"
             ],
             [
              0.5555555555555556,
              "#d8576b"
             ],
             [
              0.6666666666666666,
              "#ed7953"
             ],
             [
              0.7777777777777778,
              "#fb9f3a"
             ],
             [
              0.8888888888888888,
              "#fdca26"
             ],
             [
              1,
              "#f0f921"
             ]
            ],
            "type": "heatmap"
           }
          ],
          "heatmapgl": [
           {
            "colorbar": {
             "outlinewidth": 0,
             "ticks": ""
            },
            "colorscale": [
             [
              0,
              "#0d0887"
             ],
             [
              0.1111111111111111,
              "#46039f"
             ],
             [
              0.2222222222222222,
              "#7201a8"
             ],
             [
              0.3333333333333333,
              "#9c179e"
             ],
             [
              0.4444444444444444,
              "#bd3786"
             ],
             [
              0.5555555555555556,
              "#d8576b"
             ],
             [
              0.6666666666666666,
              "#ed7953"
             ],
             [
              0.7777777777777778,
              "#fb9f3a"
             ],
             [
              0.8888888888888888,
              "#fdca26"
             ],
             [
              1,
              "#f0f921"
             ]
            ],
            "type": "heatmapgl"
           }
          ],
          "histogram": [
           {
            "marker": {
             "pattern": {
              "fillmode": "overlay",
              "size": 10,
              "solidity": 0.2
             }
            },
            "type": "histogram"
           }
          ],
          "histogram2d": [
           {
            "colorbar": {
             "outlinewidth": 0,
             "ticks": ""
            },
            "colorscale": [
             [
              0,
              "#0d0887"
             ],
             [
              0.1111111111111111,
              "#46039f"
             ],
             [
              0.2222222222222222,
              "#7201a8"
             ],
             [
              0.3333333333333333,
              "#9c179e"
             ],
             [
              0.4444444444444444,
              "#bd3786"
             ],
             [
              0.5555555555555556,
              "#d8576b"
             ],
             [
              0.6666666666666666,
              "#ed7953"
             ],
             [
              0.7777777777777778,
              "#fb9f3a"
             ],
             [
              0.8888888888888888,
              "#fdca26"
             ],
             [
              1,
              "#f0f921"
             ]
            ],
            "type": "histogram2d"
           }
          ],
          "histogram2dcontour": [
           {
            "colorbar": {
             "outlinewidth": 0,
             "ticks": ""
            },
            "colorscale": [
             [
              0,
              "#0d0887"
             ],
             [
              0.1111111111111111,
              "#46039f"
             ],
             [
              0.2222222222222222,
              "#7201a8"
             ],
             [
              0.3333333333333333,
              "#9c179e"
             ],
             [
              0.4444444444444444,
              "#bd3786"
             ],
             [
              0.5555555555555556,
              "#d8576b"
             ],
             [
              0.6666666666666666,
              "#ed7953"
             ],
             [
              0.7777777777777778,
              "#fb9f3a"
             ],
             [
              0.8888888888888888,
              "#fdca26"
             ],
             [
              1,
              "#f0f921"
             ]
            ],
            "type": "histogram2dcontour"
           }
          ],
          "mesh3d": [
           {
            "colorbar": {
             "outlinewidth": 0,
             "ticks": ""
            },
            "type": "mesh3d"
           }
          ],
          "parcoords": [
           {
            "line": {
             "colorbar": {
              "outlinewidth": 0,
              "ticks": ""
             }
            },
            "type": "parcoords"
           }
          ],
          "pie": [
           {
            "automargin": true,
            "type": "pie"
           }
          ],
          "scatter": [
           {
            "fillpattern": {
             "fillmode": "overlay",
             "size": 10,
             "solidity": 0.2
            },
            "type": "scatter"
           }
          ],
          "scatter3d": [
           {
            "line": {
             "colorbar": {
              "outlinewidth": 0,
              "ticks": ""
             }
            },
            "marker": {
             "colorbar": {
              "outlinewidth": 0,
              "ticks": ""
             }
            },
            "type": "scatter3d"
           }
          ],
          "scattercarpet": [
           {
            "marker": {
             "colorbar": {
              "outlinewidth": 0,
              "ticks": ""
             }
            },
            "type": "scattercarpet"
           }
          ],
          "scattergeo": [
           {
            "marker": {
             "colorbar": {
              "outlinewidth": 0,
              "ticks": ""
             }
            },
            "type": "scattergeo"
           }
          ],
          "scattergl": [
           {
            "marker": {
             "colorbar": {
              "outlinewidth": 0,
              "ticks": ""
             }
            },
            "type": "scattergl"
           }
          ],
          "scattermapbox": [
           {
            "marker": {
             "colorbar": {
              "outlinewidth": 0,
              "ticks": ""
             }
            },
            "type": "scattermapbox"
           }
          ],
          "scatterpolar": [
           {
            "marker": {
             "colorbar": {
              "outlinewidth": 0,
              "ticks": ""
             }
            },
            "type": "scatterpolar"
           }
          ],
          "scatterpolargl": [
           {
            "marker": {
             "colorbar": {
              "outlinewidth": 0,
              "ticks": ""
             }
            },
            "type": "scatterpolargl"
           }
          ],
          "scatterternary": [
           {
            "marker": {
             "colorbar": {
              "outlinewidth": 0,
              "ticks": ""
             }
            },
            "type": "scatterternary"
           }
          ],
          "surface": [
           {
            "colorbar": {
             "outlinewidth": 0,
             "ticks": ""
            },
            "colorscale": [
             [
              0,
              "#0d0887"
             ],
             [
              0.1111111111111111,
              "#46039f"
             ],
             [
              0.2222222222222222,
              "#7201a8"
             ],
             [
              0.3333333333333333,
              "#9c179e"
             ],
             [
              0.4444444444444444,
              "#bd3786"
             ],
             [
              0.5555555555555556,
              "#d8576b"
             ],
             [
              0.6666666666666666,
              "#ed7953"
             ],
             [
              0.7777777777777778,
              "#fb9f3a"
             ],
             [
              0.8888888888888888,
              "#fdca26"
             ],
             [
              1,
              "#f0f921"
             ]
            ],
            "type": "surface"
           }
          ],
          "table": [
           {
            "cells": {
             "fill": {
              "color": "#EBF0F8"
             },
             "line": {
              "color": "white"
             }
            },
            "header": {
             "fill": {
              "color": "#C8D4E3"
             },
             "line": {
              "color": "white"
             }
            },
            "type": "table"
           }
          ]
         },
         "layout": {
          "annotationdefaults": {
           "arrowcolor": "#2a3f5f",
           "arrowhead": 0,
           "arrowwidth": 1
          },
          "autotypenumbers": "strict",
          "coloraxis": {
           "colorbar": {
            "outlinewidth": 0,
            "ticks": ""
           }
          },
          "colorscale": {
           "diverging": [
            [
             0,
             "#8e0152"
            ],
            [
             0.1,
             "#c51b7d"
            ],
            [
             0.2,
             "#de77ae"
            ],
            [
             0.3,
             "#f1b6da"
            ],
            [
             0.4,
             "#fde0ef"
            ],
            [
             0.5,
             "#f7f7f7"
            ],
            [
             0.6,
             "#e6f5d0"
            ],
            [
             0.7,
             "#b8e186"
            ],
            [
             0.8,
             "#7fbc41"
            ],
            [
             0.9,
             "#4d9221"
            ],
            [
             1,
             "#276419"
            ]
           ],
           "sequential": [
            [
             0,
             "#0d0887"
            ],
            [
             0.1111111111111111,
             "#46039f"
            ],
            [
             0.2222222222222222,
             "#7201a8"
            ],
            [
             0.3333333333333333,
             "#9c179e"
            ],
            [
             0.4444444444444444,
             "#bd3786"
            ],
            [
             0.5555555555555556,
             "#d8576b"
            ],
            [
             0.6666666666666666,
             "#ed7953"
            ],
            [
             0.7777777777777778,
             "#fb9f3a"
            ],
            [
             0.8888888888888888,
             "#fdca26"
            ],
            [
             1,
             "#f0f921"
            ]
           ],
           "sequentialminus": [
            [
             0,
             "#0d0887"
            ],
            [
             0.1111111111111111,
             "#46039f"
            ],
            [
             0.2222222222222222,
             "#7201a8"
            ],
            [
             0.3333333333333333,
             "#9c179e"
            ],
            [
             0.4444444444444444,
             "#bd3786"
            ],
            [
             0.5555555555555556,
             "#d8576b"
            ],
            [
             0.6666666666666666,
             "#ed7953"
            ],
            [
             0.7777777777777778,
             "#fb9f3a"
            ],
            [
             0.8888888888888888,
             "#fdca26"
            ],
            [
             1,
             "#f0f921"
            ]
           ]
          },
          "colorway": [
           "#636efa",
           "#EF553B",
           "#00cc96",
           "#ab63fa",
           "#FFA15A",
           "#19d3f3",
           "#FF6692",
           "#B6E880",
           "#FF97FF",
           "#FECB52"
          ],
          "font": {
           "color": "#2a3f5f"
          },
          "geo": {
           "bgcolor": "white",
           "lakecolor": "white",
           "landcolor": "#E5ECF6",
           "showlakes": true,
           "showland": true,
           "subunitcolor": "white"
          },
          "hoverlabel": {
           "align": "left"
          },
          "hovermode": "closest",
          "mapbox": {
           "style": "light"
          },
          "paper_bgcolor": "white",
          "plot_bgcolor": "#E5ECF6",
          "polar": {
           "angularaxis": {
            "gridcolor": "white",
            "linecolor": "white",
            "ticks": ""
           },
           "bgcolor": "#E5ECF6",
           "radialaxis": {
            "gridcolor": "white",
            "linecolor": "white",
            "ticks": ""
           }
          },
          "scene": {
           "xaxis": {
            "backgroundcolor": "#E5ECF6",
            "gridcolor": "white",
            "gridwidth": 2,
            "linecolor": "white",
            "showbackground": true,
            "ticks": "",
            "zerolinecolor": "white"
           },
           "yaxis": {
            "backgroundcolor": "#E5ECF6",
            "gridcolor": "white",
            "gridwidth": 2,
            "linecolor": "white",
            "showbackground": true,
            "ticks": "",
            "zerolinecolor": "white"
           },
           "zaxis": {
            "backgroundcolor": "#E5ECF6",
            "gridcolor": "white",
            "gridwidth": 2,
            "linecolor": "white",
            "showbackground": true,
            "ticks": "",
            "zerolinecolor": "white"
           }
          },
          "shapedefaults": {
           "line": {
            "color": "#2a3f5f"
           }
          },
          "ternary": {
           "aaxis": {
            "gridcolor": "white",
            "linecolor": "white",
            "ticks": ""
           },
           "baxis": {
            "gridcolor": "white",
            "linecolor": "white",
            "ticks": ""
           },
           "bgcolor": "#E5ECF6",
           "caxis": {
            "gridcolor": "white",
            "linecolor": "white",
            "ticks": ""
           }
          },
          "title": {
           "x": 0.05
          },
          "xaxis": {
           "automargin": true,
           "gridcolor": "white",
           "linecolor": "white",
           "ticks": "",
           "title": {
            "standoff": 15
           },
           "zerolinecolor": "white",
           "zerolinewidth": 2
          },
          "yaxis": {
           "automargin": true,
           "gridcolor": "white",
           "linecolor": "white",
           "ticks": "",
           "title": {
            "standoff": 15
           },
           "zerolinecolor": "white",
           "zerolinewidth": 2
          }
         }
        },
        "title": {
         "text": "test"
        },
        "xaxis": {
         "anchor": "y",
         "domain": [
          0,
          1
         ],
         "title": {
          "text": "Year"
         }
        },
        "yaxis": {
         "anchor": "x",
         "domain": [
          0,
          1
         ],
         "title": {
          "text": "CV"
         }
        }
       }
      },
      "text/html": [
       "<div>                            <div id=\"51ef8e6b-d1bd-4853-a9ed-69d3681cb310\" class=\"plotly-graph-div\" style=\"height:525px; width:100%;\"></div>            <script type=\"text/javascript\">                require([\"plotly\"], function(Plotly) {                    window.PLOTLYENV=window.PLOTLYENV || {};                                    if (document.getElementById(\"51ef8e6b-d1bd-4853-a9ed-69d3681cb310\")) {                    Plotly.newPlot(                        \"51ef8e6b-d1bd-4853-a9ed-69d3681cb310\",                        [{\"hovertemplate\":\"Year=%{x}<br>CV=%{y}<extra></extra>\",\"legendgroup\":\"\",\"line\":{\"color\":\"#636efa\",\"dash\":\"solid\"},\"marker\":{\"symbol\":\"circle\"},\"mode\":\"lines\",\"name\":\"\",\"orientation\":\"v\",\"showlegend\":false,\"x\":[2019,2019,2020,2020,2020,2020,2017,2017,2017,2017,2018,2018,2018,2018,2019,2019,2019,2019,2020,2020,2020,2020,2016,2016,2016,2016,2020,2020,2020,2020,2016,2016,2019,2019,2019,2019,2020,2020,2020,2020,2020,2020,2016,2016,2019,2019,2020,2020,2016,2016,2017,2017,2018,2018,2016,2016,2017,2017,2016,2016,2017,2017,2018,2018,2018,2018,2019,2019,2019,2019,2020,2020,2020,2020,2020,2020,2018,2018,2016,2016,2017,2017,2018,2018,2019,2019,2020,2020,2018,2018,2019,2019,2016,2016,2016,2016,2017,2017,2017,2017,2018,2018,2018,2018,2019,2019,2019,2019,2020,2020,2020,2020,2016,2016,2016,2016,2017,2017,2017,2017,2018,2018,2018,2018,2019,2019,2019,2019,2020,2020,2020,2020,2020,2020,2017,2017,2018,2018,2018,2018,2016,2016,2016,2016,2017,2017,2017,2017,2018,2018,2018,2018,2019,2019,2019,2019,2020,2020,2020,2020,2018,2018,2019,2019,2020,2020,2018,2018,2019,2019,2020,2020,2020,2020,2020,2020,2016,2016,2017,2017,2018,2018,2017,2017,2017,2017,2018,2018,2018,2018,2019,2019,2019,2019,2020,2020,2020,2020,2016,2016,2016,2016,2017,2017,2017,2017,2018,2018,2018,2018,2019,2019,2019,2019,2020,2020,2020,2020,2016,2016,2016,2016,2019,2019,2020,2020,2020,2020,2018,2018,2017,2017,2018,2018,2020,2020,2016,2016,2016,2016,2017,2017,2017,2017,2018,2018,2019,2019,2019,2019,2020,2020,2020,2020,2018,2018,2019,2019,2016,2016,2016,2016,2017,2017,2017,2017,2018,2018,2018,2018,2019,2019,2020,2020,2020,2020,2019,2019,2019,2019,2019,2019,2020,2020,2020,2020,2020,2020,2019,2019,2020,2020,2020,2020,2019,2019,2019,2019,2019,2019,2020,2020,2020,2020,2019,2019,2019,2019,2020,2020,2020,2020,2019,2019,2016,2016,2016,2016,2017,2017,2017,2017,2019,2019,2020,2020,2020,2020,2018,2018,2018,2018,2019,2019,2016,2016,2016,2016,2017,2017,2017,2017,2019,2019,2020,2020,2020,2020,2018,2018,2018,2018,2019,2019,2016,2016,2017,2017,2019,2019,2020,2020,2020,2020,2018,2018,2018,2018,2019,2019,2020,2020,2020,2020,2019,2019,2019,2019,2020,2020,2016,2016,2017,2017,2018,2018,2020,2020,2019,2019,2018,2018,2018,2018,2019,2019,2020,2020,2020,2020,2016,2016,2016,2016,2017,2017,2017,2017,2019,2019,2016,2016,2016,2016,2017,2017,2017,2017,2018,2018,2018,2018,2019,2019,2020,2020,2020,2020,2016,2016,2018,2018,2019,2019,2020,2020,2018,2018,2018,2018,2018,2018,2019,2019,2020,2020,2020,2020,2016,2016,2016,2016,2017,2017,2017,2017,2018,2018,2018,2018,2019,2019,2020,2020,2020,2020,2016,2016,2016,2016,2017,2017,2017,2017,2018,2018,2018,2018,2019,2019,2020,2020,2020,2020,2019,2019,2020,2020,2020,2020,2020,2020,2017,2017,2018,2018,2018,2018,2018,2018,2019,2019,2020,2020,2020,2020,2016,2016,2016,2016,2017,2017,2017,2017],\"xaxis\":\"x\",\"y\":[2.7,4.6,8.2,8.2,2.1,1.9,6.8,6.6,3.9,3.1,6.1,8.0,3.1,3.0,4.0,6.2,1.9,3.1,9.3,8.0,7.4,7.1,5.2,6.8,1.5,1.7,9.8,8.8,8.2,8.1,2.0,6.1,7.3,10.4,3.9,4.0,6.9,6.4,2.7,2.9,4.1,4.5,5.1,4.0,2.7,5.1,4.2,4.5,3.5,3.2,3.9,3.6,3.1,3.6,5.6,5.5,7.2,6.1,7.9,5.0,7.1,4.8,7.8,7.1,6.7,6.9,5.6,6.6,6.3,6.6,8.0,7.9,6.0,6.7,5.5,6.5,2.8,1.5,3.9,3.1,5.1,5.0,3.5,3.6,3.3,3.2,3.8,3.8,10.8,13.7,6.9,7.6,5.5,4.9,4.6,5.1,6.5,4.5,4.7,4.8,4.9,5.8,5.3,5.4,5.2,6.6,3.4,4.3,7.2,6.4,4.7,4.4,2.1,1.7,1.6,2.1,2.6,1.5,3.2,2.5,2.1,2.8,3.5,3.9,2.3,3.6,2.8,3.6,2.9,3.1,3.1,2.7,4.5,4.4,4.4,4.1,5.3,5.5,2.3,4.9,5.8,3.9,4.1,3.8,6.3,3.9,3.9,3.0,4.7,5.3,4.1,4.9,5.3,8.9,2.8,5.2,8.1,8.3,6.5,6.4,6.7,3.8,3.0,5.4,8.2,6.2,7.0,8.0,4.3,8.9,9.0,9.4,8.8,9.9,8.5,3.6,12.1,17.1,8.3,6.9,8.6,7.6,4.6,3.9,3.1,2.6,4.2,4.4,3.8,3.8,3.6,5.1,3.2,4.4,4.9,5.1,5.0,4.9,2.9,3.0,3.7,3.1,3.1,3.2,3.2,2.7,4.5,5.2,2.8,3.0,5.7,5.4,2.8,3.8,4.2,4.2,3.1,3.2,3.9,3.1,3.0,2.9,4.6,3.9,4.8,5.0,3.8,3.1,3.0,3.2,3.5,3.9,3.6,5.1,12.4,11.8,8.7,7.4,5.5,5.1,10.2,9.5,5.6,6.6,6.4,6.0,4.6,8.7,6.8,7.0,12.0,8.9,5.5,4.9,4.9,5.8,4.8,5.0,5.2,4.7,4.7,4.1,5.0,4.7,3.8,3.5,4.9,5.4,3.6,4.0,3.8,4.1,6.1,4.3,9.3,8.4,3.6,5.4,3.7,6.1,3.5,4.0,6.2,6.3,4.1,4.0,4.5,4.6,2.7,2.3,2.8,2.8,2.3,2.1,6.3,10.3,3.3,7.0,3.3,3.5,4.5,4.6,4.2,4.1,3.9,4.0,3.3,3.1,8.5,9.2,3.7,4.1,2.4,3.8,2.5,2.5,2.9,2.2,3.7,2.6,2.9,2.4,3.0,3.7,3.7,4.2,3.9,3.9,2.8,3.9,2.6,3.2,2.6,2.9,2.6,1.6,2.6,2.0,2.1,1.4,2.0,1.5,2.4,3.3,3.3,2.9,3.3,3.3,2.0,2.0,1.9,2.1,3.2,3.8,2.8,2.2,3.1,2.0,2.8,3.1,6.5,4.9,4.9,4.8,2.9,3.4,4.1,3.0,2.9,4.1,2.7,3.7,3.4,3.6,6.7,5.2,6.1,11.0,5.6,6.0,5.6,3.9,6.8,8.6,7.3,7.8,5.6,4.3,4.4,5.2,3.5,4.4,3.5,3.8,3.8,3.8,5.5,4.5,3.8,3.5,3.9,3.3,3.4,3.7,5.1,7.3,4.3,4.2,8.5,7.1,5.1,4.2,4.3,3.7,4.3,5.7,3.9,4.0,5.4,4.8,3.8,5.3,2.9,4.6,5.2,5.6,4.5,4.8,4.9,3.6,5.8,6.1,10.8,13.0,5.5,5.1,5.5,6.5,4.4,6.8,1.8,2.1,2.7,3.4,5.1,5.1,2.3,2.4,4.8,4.7,5.1,6.2,5.5,4.5,4.5,3.2,4.2,5.2,5.2,4.4,6.6,7.1,4.4,4.5,8.0,7.6,4.1,3.8,2.8,2.4,3.7,3.8,2.7,2.6,3.4,4.6,2.9,2.7,2.4,2.9,3.5,3.7,2.7,2.8,3.9,2.6,4.8,5.2,3.4,3.7,3.1,2.7,3.5,2.9,2.9,3.4,4.3,3.9,3.0,4.0,2.4,5.4,5.1,4.4,4.2,6.6,4.2,3.2,3.5,4.0,2.2,2.4,3.7,2.8],\"yaxis\":\"y\",\"type\":\"scatter\"}],                        {\"template\":{\"data\":{\"histogram2dcontour\":[{\"type\":\"histogram2dcontour\",\"colorbar\":{\"outlinewidth\":0,\"ticks\":\"\"},\"colorscale\":[[0.0,\"#0d0887\"],[0.1111111111111111,\"#46039f\"],[0.2222222222222222,\"#7201a8\"],[0.3333333333333333,\"#9c179e\"],[0.4444444444444444,\"#bd3786\"],[0.5555555555555556,\"#d8576b\"],[0.6666666666666666,\"#ed7953\"],[0.7777777777777778,\"#fb9f3a\"],[0.8888888888888888,\"#fdca26\"],[1.0,\"#f0f921\"]]}],\"choropleth\":[{\"type\":\"choropleth\",\"colorbar\":{\"outlinewidth\":0,\"ticks\":\"\"}}],\"histogram2d\":[{\"type\":\"histogram2d\",\"colorbar\":{\"outlinewidth\":0,\"ticks\":\"\"},\"colorscale\":[[0.0,\"#0d0887\"],[0.1111111111111111,\"#46039f\"],[0.2222222222222222,\"#7201a8\"],[0.3333333333333333,\"#9c179e\"],[0.4444444444444444,\"#bd3786\"],[0.5555555555555556,\"#d8576b\"],[0.6666666666666666,\"#ed7953\"],[0.7777777777777778,\"#fb9f3a\"],[0.8888888888888888,\"#fdca26\"],[1.0,\"#f0f921\"]]}],\"heatmap\":[{\"type\":\"heatmap\",\"colorbar\":{\"outlinewidth\":0,\"ticks\":\"\"},\"colorscale\":[[0.0,\"#0d0887\"],[0.1111111111111111,\"#46039f\"],[0.2222222222222222,\"#7201a8\"],[0.3333333333333333,\"#9c179e\"],[0.4444444444444444,\"#bd3786\"],[0.5555555555555556,\"#d8576b\"],[0.6666666666666666,\"#ed7953\"],[0.7777777777777778,\"#fb9f3a\"],[0.8888888888888888,\"#fdca26\"],[1.0,\"#f0f921\"]]}],\"heatmapgl\":[{\"type\":\"heatmapgl\",\"colorbar\":{\"outlinewidth\":0,\"ticks\":\"\"},\"colorscale\":[[0.0,\"#0d0887\"],[0.1111111111111111,\"#46039f\"],[0.2222222222222222,\"#7201a8\"],[0.3333333333333333,\"#9c179e\"],[0.4444444444444444,\"#bd3786\"],[0.5555555555555556,\"#d8576b\"],[0.6666666666666666,\"#ed7953\"],[0.7777777777777778,\"#fb9f3a\"],[0.8888888888888888,\"#fdca26\"],[1.0,\"#f0f921\"]]}],\"contourcarpet\":[{\"type\":\"contourcarpet\",\"colorbar\":{\"outlinewidth\":0,\"ticks\":\"\"}}],\"contour\":[{\"type\":\"contour\",\"colorbar\":{\"outlinewidth\":0,\"ticks\":\"\"},\"colorscale\":[[0.0,\"#0d0887\"],[0.1111111111111111,\"#46039f\"],[0.2222222222222222,\"#7201a8\"],[0.3333333333333333,\"#9c179e\"],[0.4444444444444444,\"#bd3786\"],[0.5555555555555556,\"#d8576b\"],[0.6666666666666666,\"#ed7953\"],[0.7777777777777778,\"#fb9f3a\"],[0.8888888888888888,\"#fdca26\"],[1.0,\"#f0f921\"]]}],\"surface\":[{\"type\":\"surface\",\"colorbar\":{\"outlinewidth\":0,\"ticks\":\"\"},\"colorscale\":[[0.0,\"#0d0887\"],[0.1111111111111111,\"#46039f\"],[0.2222222222222222,\"#7201a8\"],[0.3333333333333333,\"#9c179e\"],[0.4444444444444444,\"#bd3786\"],[0.5555555555555556,\"#d8576b\"],[0.6666666666666666,\"#ed7953\"],[0.7777777777777778,\"#fb9f3a\"],[0.8888888888888888,\"#fdca26\"],[1.0,\"#f0f921\"]]}],\"mesh3d\":[{\"type\":\"mesh3d\",\"colorbar\":{\"outlinewidth\":0,\"ticks\":\"\"}}],\"scatter\":[{\"fillpattern\":{\"fillmode\":\"overlay\",\"size\":10,\"solidity\":0.2},\"type\":\"scatter\"}],\"parcoords\":[{\"type\":\"parcoords\",\"line\":{\"colorbar\":{\"outlinewidth\":0,\"ticks\":\"\"}}}],\"scatterpolargl\":[{\"type\":\"scatterpolargl\",\"marker\":{\"colorbar\":{\"outlinewidth\":0,\"ticks\":\"\"}}}],\"bar\":[{\"error_x\":{\"color\":\"#2a3f5f\"},\"error_y\":{\"color\":\"#2a3f5f\"},\"marker\":{\"line\":{\"color\":\"#E5ECF6\",\"width\":0.5},\"pattern\":{\"fillmode\":\"overlay\",\"size\":10,\"solidity\":0.2}},\"type\":\"bar\"}],\"scattergeo\":[{\"type\":\"scattergeo\",\"marker\":{\"colorbar\":{\"outlinewidth\":0,\"ticks\":\"\"}}}],\"scatterpolar\":[{\"type\":\"scatterpolar\",\"marker\":{\"colorbar\":{\"outlinewidth\":0,\"ticks\":\"\"}}}],\"histogram\":[{\"marker\":{\"pattern\":{\"fillmode\":\"overlay\",\"size\":10,\"solidity\":0.2}},\"type\":\"histogram\"}],\"scattergl\":[{\"type\":\"scattergl\",\"marker\":{\"colorbar\":{\"outlinewidth\":0,\"ticks\":\"\"}}}],\"scatter3d\":[{\"type\":\"scatter3d\",\"line\":{\"colorbar\":{\"outlinewidth\":0,\"ticks\":\"\"}},\"marker\":{\"colorbar\":{\"outlinewidth\":0,\"ticks\":\"\"}}}],\"scattermapbox\":[{\"type\":\"scattermapbox\",\"marker\":{\"colorbar\":{\"outlinewidth\":0,\"ticks\":\"\"}}}],\"scatterternary\":[{\"type\":\"scatterternary\",\"marker\":{\"colorbar\":{\"outlinewidth\":0,\"ticks\":\"\"}}}],\"scattercarpet\":[{\"type\":\"scattercarpet\",\"marker\":{\"colorbar\":{\"outlinewidth\":0,\"ticks\":\"\"}}}],\"carpet\":[{\"aaxis\":{\"endlinecolor\":\"#2a3f5f\",\"gridcolor\":\"white\",\"linecolor\":\"white\",\"minorgridcolor\":\"white\",\"startlinecolor\":\"#2a3f5f\"},\"baxis\":{\"endlinecolor\":\"#2a3f5f\",\"gridcolor\":\"white\",\"linecolor\":\"white\",\"minorgridcolor\":\"white\",\"startlinecolor\":\"#2a3f5f\"},\"type\":\"carpet\"}],\"table\":[{\"cells\":{\"fill\":{\"color\":\"#EBF0F8\"},\"line\":{\"color\":\"white\"}},\"header\":{\"fill\":{\"color\":\"#C8D4E3\"},\"line\":{\"color\":\"white\"}},\"type\":\"table\"}],\"barpolar\":[{\"marker\":{\"line\":{\"color\":\"#E5ECF6\",\"width\":0.5},\"pattern\":{\"fillmode\":\"overlay\",\"size\":10,\"solidity\":0.2}},\"type\":\"barpolar\"}],\"pie\":[{\"automargin\":true,\"type\":\"pie\"}]},\"layout\":{\"autotypenumbers\":\"strict\",\"colorway\":[\"#636efa\",\"#EF553B\",\"#00cc96\",\"#ab63fa\",\"#FFA15A\",\"#19d3f3\",\"#FF6692\",\"#B6E880\",\"#FF97FF\",\"#FECB52\"],\"font\":{\"color\":\"#2a3f5f\"},\"hovermode\":\"closest\",\"hoverlabel\":{\"align\":\"left\"},\"paper_bgcolor\":\"white\",\"plot_bgcolor\":\"#E5ECF6\",\"polar\":{\"bgcolor\":\"#E5ECF6\",\"angularaxis\":{\"gridcolor\":\"white\",\"linecolor\":\"white\",\"ticks\":\"\"},\"radialaxis\":{\"gridcolor\":\"white\",\"linecolor\":\"white\",\"ticks\":\"\"}},\"ternary\":{\"bgcolor\":\"#E5ECF6\",\"aaxis\":{\"gridcolor\":\"white\",\"linecolor\":\"white\",\"ticks\":\"\"},\"baxis\":{\"gridcolor\":\"white\",\"linecolor\":\"white\",\"ticks\":\"\"},\"caxis\":{\"gridcolor\":\"white\",\"linecolor\":\"white\",\"ticks\":\"\"}},\"coloraxis\":{\"colorbar\":{\"outlinewidth\":0,\"ticks\":\"\"}},\"colorscale\":{\"sequential\":[[0.0,\"#0d0887\"],[0.1111111111111111,\"#46039f\"],[0.2222222222222222,\"#7201a8\"],[0.3333333333333333,\"#9c179e\"],[0.4444444444444444,\"#bd3786\"],[0.5555555555555556,\"#d8576b\"],[0.6666666666666666,\"#ed7953\"],[0.7777777777777778,\"#fb9f3a\"],[0.8888888888888888,\"#fdca26\"],[1.0,\"#f0f921\"]],\"sequentialminus\":[[0.0,\"#0d0887\"],[0.1111111111111111,\"#46039f\"],[0.2222222222222222,\"#7201a8\"],[0.3333333333333333,\"#9c179e\"],[0.4444444444444444,\"#bd3786\"],[0.5555555555555556,\"#d8576b\"],[0.6666666666666666,\"#ed7953\"],[0.7777777777777778,\"#fb9f3a\"],[0.8888888888888888,\"#fdca26\"],[1.0,\"#f0f921\"]],\"diverging\":[[0,\"#8e0152\"],[0.1,\"#c51b7d\"],[0.2,\"#de77ae\"],[0.3,\"#f1b6da\"],[0.4,\"#fde0ef\"],[0.5,\"#f7f7f7\"],[0.6,\"#e6f5d0\"],[0.7,\"#b8e186\"],[0.8,\"#7fbc41\"],[0.9,\"#4d9221\"],[1,\"#276419\"]]},\"xaxis\":{\"gridcolor\":\"white\",\"linecolor\":\"white\",\"ticks\":\"\",\"title\":{\"standoff\":15},\"zerolinecolor\":\"white\",\"automargin\":true,\"zerolinewidth\":2},\"yaxis\":{\"gridcolor\":\"white\",\"linecolor\":\"white\",\"ticks\":\"\",\"title\":{\"standoff\":15},\"zerolinecolor\":\"white\",\"automargin\":true,\"zerolinewidth\":2},\"scene\":{\"xaxis\":{\"backgroundcolor\":\"#E5ECF6\",\"gridcolor\":\"white\",\"linecolor\":\"white\",\"showbackground\":true,\"ticks\":\"\",\"zerolinecolor\":\"white\",\"gridwidth\":2},\"yaxis\":{\"backgroundcolor\":\"#E5ECF6\",\"gridcolor\":\"white\",\"linecolor\":\"white\",\"showbackground\":true,\"ticks\":\"\",\"zerolinecolor\":\"white\",\"gridwidth\":2},\"zaxis\":{\"backgroundcolor\":\"#E5ECF6\",\"gridcolor\":\"white\",\"linecolor\":\"white\",\"showbackground\":true,\"ticks\":\"\",\"zerolinecolor\":\"white\",\"gridwidth\":2}},\"shapedefaults\":{\"line\":{\"color\":\"#2a3f5f\"}},\"annotationdefaults\":{\"arrowcolor\":\"#2a3f5f\",\"arrowhead\":0,\"arrowwidth\":1},\"geo\":{\"bgcolor\":\"white\",\"landcolor\":\"#E5ECF6\",\"subunitcolor\":\"white\",\"showland\":true,\"showlakes\":true,\"lakecolor\":\"white\"},\"title\":{\"x\":0.05},\"mapbox\":{\"style\":\"light\"}}},\"xaxis\":{\"anchor\":\"y\",\"domain\":[0.0,1.0],\"title\":{\"text\":\"Year\"}},\"yaxis\":{\"anchor\":\"x\",\"domain\":[0.0,1.0],\"title\":{\"text\":\"CV\"}},\"legend\":{\"tracegroupgap\":0},\"title\":{\"text\":\"test\"}},                        {\"responsive\": true}                    ).then(function(){\n",
       "                            \n",
       "var gd = document.getElementById('51ef8e6b-d1bd-4853-a9ed-69d3681cb310');\n",
       "var x = new MutationObserver(function (mutations, observer) {{\n",
       "        var display = window.getComputedStyle(gd).display;\n",
       "        if (!display || display === 'none') {{\n",
       "            console.log([gd, 'removed!']);\n",
       "            Plotly.purge(gd);\n",
       "            observer.disconnect();\n",
       "        }}\n",
       "}});\n",
       "\n",
       "// Listen for the removal of the full notebook cells\n",
       "var notebookContainer = gd.closest('#notebook-container');\n",
       "if (notebookContainer) {{\n",
       "    x.observe(notebookContainer, {childList: true});\n",
       "}}\n",
       "\n",
       "// Listen for the clearing of the current output cell\n",
       "var outputEl = gd.closest('.output');\n",
       "if (outputEl) {{\n",
       "    x.observe(outputEl, {childList: true});\n",
       "}}\n",
       "\n",
       "                        })                };                });            </script>        </div>"
      ]
     },
     "metadata": {},
     "output_type": "display_data"
    }
   ],
   "source": [
    "fig = px.line(df, x=\"Year\", y=\"CV\", title='test')\n",
    "fig.show()"
   ]
  },
  {
   "cell_type": "code",
   "execution_count": 24,
   "id": "b6993e59",
   "metadata": {},
   "outputs": [],
   "source": [
    "def plotCV(method):\n",
    "    df3.loc[[method]].iplot(\n",
    "                    xTitle='Year',\n",
    "                    x = 'Year',\n",
    "                    y = 'CV',\n",
    "                    mode='lines+markers',\n",
    "                    yTitle='CV {}'.format(method)\n",
    "                    \n",
    "        \n",
    "                     )"
   ]
  },
  {
   "cell_type": "code",
   "execution_count": 25,
   "id": "e0c93fcb",
   "metadata": {},
   "outputs": [
    {
     "data": {
      "application/vnd.jupyter.widget-view+json": {
       "model_id": "2aee2bb6a93846aa9f1b1a22c141617d",
       "version_major": 2,
       "version_minor": 0
      },
      "text/plain": [
       "interactive(children=(Dropdown(description='method', options=('(part of cobas 6000/8000) Roche Diagnostics cob…"
      ]
     },
     "metadata": {},
     "output_type": "display_data"
    },
    {
     "data": {
      "text/plain": [
       "<function __main__.plotCV(method)>"
      ]
     },
     "execution_count": 25,
     "metadata": {},
     "output_type": "execute_result"
    }
   ],
   "source": [
    "interact(plotCV, method=df3.index.unique())"
   ]
  },
  {
   "cell_type": "code",
   "execution_count": 26,
   "id": "df947a99",
   "metadata": {},
   "outputs": [],
   "source": [
    "def plotBias(method):\n",
    "    df3.loc[[method]].iplot(\n",
    "                    xTitle='Year',\n",
    "                    x = 'Year',\n",
    "                    y = 'Bias',\n",
    "                    mode='lines+markers',\n",
    "                    yTitle='Bias {}'.format(method)\n",
    "                    \n",
    "        \n",
    "                     )"
   ]
  },
  {
   "cell_type": "code",
   "execution_count": 27,
   "id": "d5fd46f8",
   "metadata": {},
   "outputs": [
    {
     "data": {
      "application/vnd.jupyter.widget-view+json": {
       "model_id": "0c37c49abd284a28b5326d3c80830db4",
       "version_major": 2,
       "version_minor": 0
      },
      "text/plain": [
       "interactive(children=(Dropdown(description='method', options=('(part of cobas 6000/8000) Roche Diagnostics cob…"
      ]
     },
     "metadata": {},
     "output_type": "display_data"
    },
    {
     "data": {
      "text/plain": [
       "<function __main__.plotBias(method)>"
      ]
     },
     "execution_count": 27,
     "metadata": {},
     "output_type": "execute_result"
    }
   ],
   "source": [
    "interact(plotBias, method=df3.index.unique())"
   ]
  },
  {
   "cell_type": "code",
   "execution_count": 28,
   "id": "8564e626",
   "metadata": {},
   "outputs": [],
   "source": [
    "def plotBiasScatter(method):\n",
    "    df4.loc[[method]].iplot(\n",
    "                    xTitle='Year',\n",
    "                    x = 'Year',\n",
    "                    y = 'Bias',\n",
    "                    mode='markers',\n",
    "                    yTitle='Bias {}'.format(method)\n",
    "                    \n",
    "        \n",
    "                     )"
   ]
  },
  {
   "cell_type": "code",
   "execution_count": 29,
   "id": "c90b8725",
   "metadata": {},
   "outputs": [
    {
     "data": {
      "application/vnd.jupyter.widget-view+json": {
       "model_id": "8aafc8d2e04c454aafee03cf14e66b27",
       "version_major": 2,
       "version_minor": 0
      },
      "text/plain": [
       "interactive(children=(Dropdown(description='method', options=('(part of cobas 6000/8000) Roche Diagnostics cob…"
      ]
     },
     "metadata": {},
     "output_type": "display_data"
    },
    {
     "data": {
      "text/plain": [
       "<function __main__.plotBiasScatter(method)>"
      ]
     },
     "execution_count": 29,
     "metadata": {},
     "output_type": "execute_result"
    }
   ],
   "source": [
    "interact(plotBiasScatter, method=df3.index.unique())"
   ]
  }
 ],
 "metadata": {
  "kernelspec": {
   "display_name": "Python 3 (ipykernel)",
   "language": "python",
   "name": "python3"
  },
  "language_info": {
   "codemirror_mode": {
    "name": "ipython",
    "version": 3
   },
   "file_extension": ".py",
   "mimetype": "text/x-python",
   "name": "python",
   "nbconvert_exporter": "python",
   "pygments_lexer": "ipython3",
   "version": "3.9.7"
  }
 },
 "nbformat": 4,
 "nbformat_minor": 5
}
