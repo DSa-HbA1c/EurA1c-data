{
 "cells": [
  {
   "cell_type": "code",
   "execution_count": 1,
   "id": "dfacc185",
   "metadata": {},
   "outputs": [],
   "source": [
    "import pandas as pd\n",
    "import seaborn as sns\n",
    "import matplotlib.pyplot as plt\n",
    "from ipywidgets import interact, interactive, fixed, interact_manual\n",
    "import ipywidgets as widgets\n",
    "import plotly.express as px\n",
    "import cufflinks as cf"
   ]
  },
  {
   "cell_type": "code",
   "execution_count": 2,
   "id": "46219d34",
   "metadata": {},
   "outputs": [
    {
     "data": {
      "text/html": [
       "        <script type=\"text/javascript\">\n",
       "        window.PlotlyConfig = {MathJaxConfig: 'local'};\n",
       "        if (window.MathJax && window.MathJax.Hub && window.MathJax.Hub.Config) {window.MathJax.Hub.Config({SVG: {font: \"STIX-Web\"}});}\n",
       "        if (typeof require !== 'undefined') {\n",
       "        require.undef(\"plotly\");\n",
       "        requirejs.config({\n",
       "            paths: {\n",
       "                'plotly': ['https://cdn.plot.ly/plotly-2.12.1.min']\n",
       "            }\n",
       "        });\n",
       "        require(['plotly'], function(Plotly) {\n",
       "            window._Plotly = Plotly;\n",
       "        });\n",
       "        }\n",
       "        </script>\n",
       "        "
      ]
     },
     "metadata": {},
     "output_type": "display_data"
    }
   ],
   "source": [
    "cf.go_offline()\n",
    "cf.set_config_file(offline=False, world_readable=True)"
   ]
  },
  {
   "cell_type": "code",
   "execution_count": 3,
   "id": "67a93c00",
   "metadata": {
    "scrolled": true
   },
   "outputs": [
    {
     "data": {
      "text/html": [
       "<div>\n",
       "<style scoped>\n",
       "    .dataframe tbody tr th:only-of-type {\n",
       "        vertical-align: middle;\n",
       "    }\n",
       "\n",
       "    .dataframe tbody tr th {\n",
       "        vertical-align: top;\n",
       "    }\n",
       "\n",
       "    .dataframe thead th {\n",
       "        text-align: right;\n",
       "    }\n",
       "</style>\n",
       "<table border=\"1\" class=\"dataframe\">\n",
       "  <thead>\n",
       "    <tr style=\"text-align: right;\">\n",
       "      <th></th>\n",
       "      <th>Method name</th>\n",
       "      <th>N</th>\n",
       "      <th>Mean</th>\n",
       "      <th>Bias</th>\n",
       "      <th>CV</th>\n",
       "      <th>Sample</th>\n",
       "      <th>Refrence Value</th>\n",
       "      <th>Year</th>\n",
       "      <th>Source</th>\n",
       "      <th>Type</th>\n",
       "      <th>Manufacturer</th>\n",
       "      <th>Total Error</th>\n",
       "    </tr>\n",
       "  </thead>\n",
       "  <tbody>\n",
       "    <tr>\n",
       "      <th>0</th>\n",
       "      <td>(part of cobas 6000/8000) Roche Diagnostics co...</td>\n",
       "      <td>10.0</td>\n",
       "      <td>74.0</td>\n",
       "      <td>3.9</td>\n",
       "      <td>2.7</td>\n",
       "      <td>Sample 1</td>\n",
       "      <td>70.1</td>\n",
       "      <td>2019</td>\n",
       "      <td>EURA1c</td>\n",
       "      <td>Frozen</td>\n",
       "      <td>Roche Diagnostics</td>\n",
       "      <td>9.2</td>\n",
       "    </tr>\n",
       "    <tr>\n",
       "      <th>1</th>\n",
       "      <td>(part of cobas 6000/8000) Roche Diagnostics co...</td>\n",
       "      <td>10.0</td>\n",
       "      <td>40.6</td>\n",
       "      <td>2.4</td>\n",
       "      <td>4.6</td>\n",
       "      <td>Sample 2</td>\n",
       "      <td>38.2</td>\n",
       "      <td>2019</td>\n",
       "      <td>EURA1c</td>\n",
       "      <td>Frozen</td>\n",
       "      <td>Roche Diagnostics</td>\n",
       "      <td>11.4</td>\n",
       "    </tr>\n",
       "    <tr>\n",
       "      <th>2</th>\n",
       "      <td>Abbott Alinity</td>\n",
       "      <td>17.0</td>\n",
       "      <td>34.0</td>\n",
       "      <td>-2.5</td>\n",
       "      <td>8.2</td>\n",
       "      <td>Sample 1</td>\n",
       "      <td>37.5</td>\n",
       "      <td>2020</td>\n",
       "      <td>EURA1c</td>\n",
       "      <td>Frozen</td>\n",
       "      <td>Abbot</td>\n",
       "      <td>13.6</td>\n",
       "    </tr>\n",
       "    <tr>\n",
       "      <th>3</th>\n",
       "      <td>Abbott Alinity</td>\n",
       "      <td>15.0</td>\n",
       "      <td>34.2</td>\n",
       "      <td>-2.3</td>\n",
       "      <td>8.2</td>\n",
       "      <td>Sample 2</td>\n",
       "      <td>37.5</td>\n",
       "      <td>2020</td>\n",
       "      <td>EURA1c</td>\n",
       "      <td>Frozen</td>\n",
       "      <td>Abbot</td>\n",
       "      <td>13.8</td>\n",
       "    </tr>\n",
       "    <tr>\n",
       "      <th>4</th>\n",
       "      <td>Abbott Alinity</td>\n",
       "      <td>12.0</td>\n",
       "      <td>36.1</td>\n",
       "      <td>-0.4</td>\n",
       "      <td>2.1</td>\n",
       "      <td>Sample 1</td>\n",
       "      <td>37.1</td>\n",
       "      <td>2020</td>\n",
       "      <td>EURA1c</td>\n",
       "      <td>Fresh</td>\n",
       "      <td>Abbot</td>\n",
       "      <td>3.7</td>\n",
       "    </tr>\n",
       "    <tr>\n",
       "      <th>...</th>\n",
       "      <td>...</td>\n",
       "      <td>...</td>\n",
       "      <td>...</td>\n",
       "      <td>...</td>\n",
       "      <td>...</td>\n",
       "      <td>...</td>\n",
       "      <td>...</td>\n",
       "      <td>...</td>\n",
       "      <td>...</td>\n",
       "      <td>...</td>\n",
       "      <td>...</td>\n",
       "      <td>...</td>\n",
       "    </tr>\n",
       "    <tr>\n",
       "      <th>509</th>\n",
       "      <td>Trinity Biotech Premier Hb9210</td>\n",
       "      <td>27.0</td>\n",
       "      <td>59.7</td>\n",
       "      <td>1.8</td>\n",
       "      <td>4.0</td>\n",
       "      <td>Sample 2</td>\n",
       "      <td>57.9</td>\n",
       "      <td>2016</td>\n",
       "      <td>EURA1c</td>\n",
       "      <td>Fresh</td>\n",
       "      <td>Trinity Biotech</td>\n",
       "      <td>9.6</td>\n",
       "    </tr>\n",
       "    <tr>\n",
       "      <th>510</th>\n",
       "      <td>Trinity Biotech Premier Hb9210</td>\n",
       "      <td>20.0</td>\n",
       "      <td>45.0</td>\n",
       "      <td>0.8</td>\n",
       "      <td>2.2</td>\n",
       "      <td>Sample 1</td>\n",
       "      <td>44.2</td>\n",
       "      <td>2017</td>\n",
       "      <td>EURA1c</td>\n",
       "      <td>Frozen</td>\n",
       "      <td>Trinity Biotech</td>\n",
       "      <td>5.1</td>\n",
       "    </tr>\n",
       "    <tr>\n",
       "      <th>511</th>\n",
       "      <td>Trinity Biotech Premier Hb9210</td>\n",
       "      <td>21.0</td>\n",
       "      <td>58.0</td>\n",
       "      <td>0.0</td>\n",
       "      <td>2.4</td>\n",
       "      <td>Sample 2</td>\n",
       "      <td>58.0</td>\n",
       "      <td>2017</td>\n",
       "      <td>EURA1c</td>\n",
       "      <td>Frozen</td>\n",
       "      <td>Trinity Biotech</td>\n",
       "      <td>4.7</td>\n",
       "    </tr>\n",
       "    <tr>\n",
       "      <th>512</th>\n",
       "      <td>Trinity Biotech Premier Hb9210</td>\n",
       "      <td>29.0</td>\n",
       "      <td>45.3</td>\n",
       "      <td>1.1</td>\n",
       "      <td>3.7</td>\n",
       "      <td>Sample 1</td>\n",
       "      <td>44.2</td>\n",
       "      <td>2017</td>\n",
       "      <td>EURA1c</td>\n",
       "      <td>Fresh</td>\n",
       "      <td>Trinity Biotech</td>\n",
       "      <td>8.4</td>\n",
       "    </tr>\n",
       "    <tr>\n",
       "      <th>513</th>\n",
       "      <td>Trinity Biotech Premier Hb9210</td>\n",
       "      <td>29.0</td>\n",
       "      <td>59.5</td>\n",
       "      <td>1.5</td>\n",
       "      <td>2.8</td>\n",
       "      <td>Sample 2</td>\n",
       "      <td>58.0</td>\n",
       "      <td>2017</td>\n",
       "      <td>EURA1c</td>\n",
       "      <td>Fresh</td>\n",
       "      <td>Trinity Biotech</td>\n",
       "      <td>7.0</td>\n",
       "    </tr>\n",
       "  </tbody>\n",
       "</table>\n",
       "<p>514 rows × 12 columns</p>\n",
       "</div>"
      ],
      "text/plain": [
       "                                           Method name     N  Mean  Bias   CV  \\\n",
       "0    (part of cobas 6000/8000) Roche Diagnostics co...  10.0  74.0   3.9  2.7   \n",
       "1    (part of cobas 6000/8000) Roche Diagnostics co...  10.0  40.6   2.4  4.6   \n",
       "2                                       Abbott Alinity  17.0  34.0  -2.5  8.2   \n",
       "3                                       Abbott Alinity  15.0  34.2  -2.3  8.2   \n",
       "4                                       Abbott Alinity  12.0  36.1  -0.4  2.1   \n",
       "..                                                 ...   ...   ...   ...  ...   \n",
       "509                     Trinity Biotech Premier Hb9210  27.0  59.7   1.8  4.0   \n",
       "510                     Trinity Biotech Premier Hb9210  20.0  45.0   0.8  2.2   \n",
       "511                     Trinity Biotech Premier Hb9210  21.0  58.0   0.0  2.4   \n",
       "512                     Trinity Biotech Premier Hb9210  29.0  45.3   1.1  3.7   \n",
       "513                     Trinity Biotech Premier Hb9210  29.0  59.5   1.5  2.8   \n",
       "\n",
       "       Sample  Refrence Value  Year  Source    Type       Manufacturer  \\\n",
       "0    Sample 1            70.1  2019  EURA1c  Frozen  Roche Diagnostics   \n",
       "1    Sample 2            38.2  2019  EURA1c  Frozen  Roche Diagnostics   \n",
       "2    Sample 1            37.5  2020  EURA1c  Frozen              Abbot   \n",
       "3    Sample 2            37.5  2020  EURA1c  Frozen              Abbot   \n",
       "4    Sample 1            37.1  2020  EURA1c   Fresh              Abbot   \n",
       "..        ...             ...   ...     ...     ...                ...   \n",
       "509  Sample 2            57.9  2016  EURA1c   Fresh    Trinity Biotech   \n",
       "510  Sample 1            44.2  2017  EURA1c  Frozen    Trinity Biotech   \n",
       "511  Sample 2            58.0  2017  EURA1c  Frozen    Trinity Biotech   \n",
       "512  Sample 1            44.2  2017  EURA1c   Fresh    Trinity Biotech   \n",
       "513  Sample 2            58.0  2017  EURA1c   Fresh    Trinity Biotech   \n",
       "\n",
       "     Total Error  \n",
       "0            9.2  \n",
       "1           11.4  \n",
       "2           13.6  \n",
       "3           13.8  \n",
       "4            3.7  \n",
       "..           ...  \n",
       "509          9.6  \n",
       "510          5.1  \n",
       "511          4.7  \n",
       "512          8.4  \n",
       "513          7.0  \n",
       "\n",
       "[514 rows x 12 columns]"
      ]
     },
     "execution_count": 3,
     "metadata": {},
     "output_type": "execute_result"
    }
   ],
   "source": [
    "df = pd.read_excel('data/EurA1c_report_definitief.xlsx')\n",
    "df"
   ]
  },
  {
   "cell_type": "code",
   "execution_count": 4,
   "id": "e70d16dd",
   "metadata": {},
   "outputs": [
    {
     "data": {
      "text/html": [
       "<div>\n",
       "<style scoped>\n",
       "    .dataframe tbody tr th:only-of-type {\n",
       "        vertical-align: middle;\n",
       "    }\n",
       "\n",
       "    .dataframe tbody tr th {\n",
       "        vertical-align: top;\n",
       "    }\n",
       "\n",
       "    .dataframe thead th {\n",
       "        text-align: right;\n",
       "    }\n",
       "</style>\n",
       "<table border=\"1\" class=\"dataframe\">\n",
       "  <thead>\n",
       "    <tr style=\"text-align: right;\">\n",
       "      <th></th>\n",
       "      <th>Method name</th>\n",
       "      <th>Year</th>\n",
       "      <th>N</th>\n",
       "      <th>Mean</th>\n",
       "      <th>Bias</th>\n",
       "      <th>CV</th>\n",
       "      <th>Refrence Value</th>\n",
       "      <th>Total Error</th>\n",
       "    </tr>\n",
       "  </thead>\n",
       "  <tbody>\n",
       "    <tr>\n",
       "      <th>141</th>\n",
       "      <td>Tosoh G7</td>\n",
       "      <td>2016</td>\n",
       "      <td>30.25</td>\n",
       "      <td>50.450</td>\n",
       "      <td>0.350</td>\n",
       "      <td>5.200</td>\n",
       "      <td>50.10</td>\n",
       "      <td>10.550</td>\n",
       "    </tr>\n",
       "    <tr>\n",
       "      <th>142</th>\n",
       "      <td>Tosoh G7</td>\n",
       "      <td>2017</td>\n",
       "      <td>23.25</td>\n",
       "      <td>52.425</td>\n",
       "      <td>1.325</td>\n",
       "      <td>4.425</td>\n",
       "      <td>51.10</td>\n",
       "      <td>10.000</td>\n",
       "    </tr>\n",
       "    <tr>\n",
       "      <th>143</th>\n",
       "      <td>Tosoh G7</td>\n",
       "      <td>2018</td>\n",
       "      <td>20.25</td>\n",
       "      <td>51.500</td>\n",
       "      <td>1.350</td>\n",
       "      <td>4.750</td>\n",
       "      <td>50.15</td>\n",
       "      <td>10.650</td>\n",
       "    </tr>\n",
       "    <tr>\n",
       "      <th>144</th>\n",
       "      <td>Tosoh G7</td>\n",
       "      <td>2019</td>\n",
       "      <td>19.00</td>\n",
       "      <td>54.000</td>\n",
       "      <td>-0.150</td>\n",
       "      <td>6.850</td>\n",
       "      <td>54.15</td>\n",
       "      <td>13.250</td>\n",
       "    </tr>\n",
       "    <tr>\n",
       "      <th>145</th>\n",
       "      <td>Tosoh G7</td>\n",
       "      <td>2020</td>\n",
       "      <td>27.00</td>\n",
       "      <td>37.550</td>\n",
       "      <td>1.050</td>\n",
       "      <td>6.125</td>\n",
       "      <td>37.30</td>\n",
       "      <td>13.050</td>\n",
       "    </tr>\n",
       "    <tr>\n",
       "      <th>146</th>\n",
       "      <td>Tosoh G8</td>\n",
       "      <td>2016</td>\n",
       "      <td>159.00</td>\n",
       "      <td>50.225</td>\n",
       "      <td>0.125</td>\n",
       "      <td>3.275</td>\n",
       "      <td>50.10</td>\n",
       "      <td>6.525</td>\n",
       "    </tr>\n",
       "    <tr>\n",
       "      <th>147</th>\n",
       "      <td>Tosoh G8</td>\n",
       "      <td>2017</td>\n",
       "      <td>180.00</td>\n",
       "      <td>51.750</td>\n",
       "      <td>0.650</td>\n",
       "      <td>3.200</td>\n",
       "      <td>51.10</td>\n",
       "      <td>6.925</td>\n",
       "    </tr>\n",
       "    <tr>\n",
       "      <th>148</th>\n",
       "      <td>Tosoh G8</td>\n",
       "      <td>2018</td>\n",
       "      <td>223.75</td>\n",
       "      <td>51.325</td>\n",
       "      <td>1.175</td>\n",
       "      <td>3.400</td>\n",
       "      <td>50.15</td>\n",
       "      <td>7.850</td>\n",
       "    </tr>\n",
       "    <tr>\n",
       "      <th>149</th>\n",
       "      <td>Tosoh G8</td>\n",
       "      <td>2019</td>\n",
       "      <td>352.50</td>\n",
       "      <td>56.150</td>\n",
       "      <td>2.000</td>\n",
       "      <td>2.650</td>\n",
       "      <td>54.15</td>\n",
       "      <td>7.200</td>\n",
       "    </tr>\n",
       "    <tr>\n",
       "      <th>150</th>\n",
       "      <td>Tosoh G8</td>\n",
       "      <td>2020</td>\n",
       "      <td>232.75</td>\n",
       "      <td>37.900</td>\n",
       "      <td>1.400</td>\n",
       "      <td>3.175</td>\n",
       "      <td>37.30</td>\n",
       "      <td>7.650</td>\n",
       "    </tr>\n",
       "    <tr>\n",
       "      <th>151</th>\n",
       "      <td>Tosoh GX</td>\n",
       "      <td>2019</td>\n",
       "      <td>22.00</td>\n",
       "      <td>56.300</td>\n",
       "      <td>2.150</td>\n",
       "      <td>3.250</td>\n",
       "      <td>54.15</td>\n",
       "      <td>8.500</td>\n",
       "    </tr>\n",
       "    <tr>\n",
       "      <th>152</th>\n",
       "      <td>Tosoh GX</td>\n",
       "      <td>2020</td>\n",
       "      <td>21.00</td>\n",
       "      <td>37.725</td>\n",
       "      <td>1.225</td>\n",
       "      <td>4.275</td>\n",
       "      <td>37.30</td>\n",
       "      <td>9.625</td>\n",
       "    </tr>\n",
       "    <tr>\n",
       "      <th>153</th>\n",
       "      <td>Tosoh not specified/other</td>\n",
       "      <td>2017</td>\n",
       "      <td>55.00</td>\n",
       "      <td>51.700</td>\n",
       "      <td>0.600</td>\n",
       "      <td>3.200</td>\n",
       "      <td>51.10</td>\n",
       "      <td>6.900</td>\n",
       "    </tr>\n",
       "    <tr>\n",
       "      <th>154</th>\n",
       "      <td>Tosoh not specified/other</td>\n",
       "      <td>2018</td>\n",
       "      <td>58.00</td>\n",
       "      <td>50.850</td>\n",
       "      <td>0.700</td>\n",
       "      <td>3.150</td>\n",
       "      <td>50.15</td>\n",
       "      <td>6.900</td>\n",
       "    </tr>\n",
       "    <tr>\n",
       "      <th>155</th>\n",
       "      <td>Tosoh not specified/other</td>\n",
       "      <td>2020</td>\n",
       "      <td>98.50</td>\n",
       "      <td>37.750</td>\n",
       "      <td>1.250</td>\n",
       "      <td>2.900</td>\n",
       "      <td>37.10</td>\n",
       "      <td>6.950</td>\n",
       "    </tr>\n",
       "    <tr>\n",
       "      <th>156</th>\n",
       "      <td>Trinity Biotech Premier Hb9210</td>\n",
       "      <td>2016</td>\n",
       "      <td>21.50</td>\n",
       "      <td>50.250</td>\n",
       "      <td>0.150</td>\n",
       "      <td>3.725</td>\n",
       "      <td>50.10</td>\n",
       "      <td>7.450</td>\n",
       "    </tr>\n",
       "    <tr>\n",
       "      <th>157</th>\n",
       "      <td>Trinity Biotech Premier Hb9210</td>\n",
       "      <td>2017</td>\n",
       "      <td>24.75</td>\n",
       "      <td>51.950</td>\n",
       "      <td>0.850</td>\n",
       "      <td>2.775</td>\n",
       "      <td>51.10</td>\n",
       "      <td>6.300</td>\n",
       "    </tr>\n",
       "    <tr>\n",
       "      <th>158</th>\n",
       "      <td>Trinity Biotech Premier Hb9210</td>\n",
       "      <td>2018</td>\n",
       "      <td>27.00</td>\n",
       "      <td>50.500</td>\n",
       "      <td>0.350</td>\n",
       "      <td>3.800</td>\n",
       "      <td>50.15</td>\n",
       "      <td>7.775</td>\n",
       "    </tr>\n",
       "    <tr>\n",
       "      <th>159</th>\n",
       "      <td>Trinity Biotech Premier Hb9210</td>\n",
       "      <td>2019</td>\n",
       "      <td>28.50</td>\n",
       "      <td>54.800</td>\n",
       "      <td>0.650</td>\n",
       "      <td>3.900</td>\n",
       "      <td>54.15</td>\n",
       "      <td>8.300</td>\n",
       "    </tr>\n",
       "    <tr>\n",
       "      <th>160</th>\n",
       "      <td>Trinity Biotech Premier Hb9210</td>\n",
       "      <td>2020</td>\n",
       "      <td>24.50</td>\n",
       "      <td>37.225</td>\n",
       "      <td>0.725</td>\n",
       "      <td>5.075</td>\n",
       "      <td>37.30</td>\n",
       "      <td>10.650</td>\n",
       "    </tr>\n",
       "  </tbody>\n",
       "</table>\n",
       "</div>"
      ],
      "text/plain": [
       "                        Method name  Year       N    Mean   Bias     CV  \\\n",
       "141                        Tosoh G7  2016   30.25  50.450  0.350  5.200   \n",
       "142                        Tosoh G7  2017   23.25  52.425  1.325  4.425   \n",
       "143                        Tosoh G7  2018   20.25  51.500  1.350  4.750   \n",
       "144                        Tosoh G7  2019   19.00  54.000 -0.150  6.850   \n",
       "145                        Tosoh G7  2020   27.00  37.550  1.050  6.125   \n",
       "146                        Tosoh G8  2016  159.00  50.225  0.125  3.275   \n",
       "147                        Tosoh G8  2017  180.00  51.750  0.650  3.200   \n",
       "148                        Tosoh G8  2018  223.75  51.325  1.175  3.400   \n",
       "149                        Tosoh G8  2019  352.50  56.150  2.000  2.650   \n",
       "150                        Tosoh G8  2020  232.75  37.900  1.400  3.175   \n",
       "151                        Tosoh GX  2019   22.00  56.300  2.150  3.250   \n",
       "152                        Tosoh GX  2020   21.00  37.725  1.225  4.275   \n",
       "153       Tosoh not specified/other  2017   55.00  51.700  0.600  3.200   \n",
       "154       Tosoh not specified/other  2018   58.00  50.850  0.700  3.150   \n",
       "155       Tosoh not specified/other  2020   98.50  37.750  1.250  2.900   \n",
       "156  Trinity Biotech Premier Hb9210  2016   21.50  50.250  0.150  3.725   \n",
       "157  Trinity Biotech Premier Hb9210  2017   24.75  51.950  0.850  2.775   \n",
       "158  Trinity Biotech Premier Hb9210  2018   27.00  50.500  0.350  3.800   \n",
       "159  Trinity Biotech Premier Hb9210  2019   28.50  54.800  0.650  3.900   \n",
       "160  Trinity Biotech Premier Hb9210  2020   24.50  37.225  0.725  5.075   \n",
       "\n",
       "     Refrence Value  Total Error  \n",
       "141           50.10       10.550  \n",
       "142           51.10       10.000  \n",
       "143           50.15       10.650  \n",
       "144           54.15       13.250  \n",
       "145           37.30       13.050  \n",
       "146           50.10        6.525  \n",
       "147           51.10        6.925  \n",
       "148           50.15        7.850  \n",
       "149           54.15        7.200  \n",
       "150           37.30        7.650  \n",
       "151           54.15        8.500  \n",
       "152           37.30        9.625  \n",
       "153           51.10        6.900  \n",
       "154           50.15        6.900  \n",
       "155           37.10        6.950  \n",
       "156           50.10        7.450  \n",
       "157           51.10        6.300  \n",
       "158           50.15        7.775  \n",
       "159           54.15        8.300  \n",
       "160           37.30       10.650  "
      ]
     },
     "execution_count": 4,
     "metadata": {},
     "output_type": "execute_result"
    }
   ],
   "source": [
    "# test = df2.loc[:, df2.columns != 'Year']\n",
    "df2 = df.groupby(['Method name','Year']).mean().reset_index()\n",
    "df2.tail(20)"
   ]
  },
  {
   "cell_type": "code",
   "execution_count": 5,
   "id": "4215fb9d",
   "metadata": {},
   "outputs": [
    {
     "data": {
      "text/html": [
       "<div>\n",
       "<style scoped>\n",
       "    .dataframe tbody tr th:only-of-type {\n",
       "        vertical-align: middle;\n",
       "    }\n",
       "\n",
       "    .dataframe tbody tr th {\n",
       "        vertical-align: top;\n",
       "    }\n",
       "\n",
       "    .dataframe thead th {\n",
       "        text-align: right;\n",
       "    }\n",
       "</style>\n",
       "<table border=\"1\" class=\"dataframe\">\n",
       "  <thead>\n",
       "    <tr style=\"text-align: right;\">\n",
       "      <th></th>\n",
       "      <th>Year</th>\n",
       "      <th>N</th>\n",
       "      <th>Mean</th>\n",
       "      <th>Bias</th>\n",
       "      <th>CV</th>\n",
       "      <th>Refrence Value</th>\n",
       "      <th>Total Error</th>\n",
       "    </tr>\n",
       "    <tr>\n",
       "      <th>Method name</th>\n",
       "      <th></th>\n",
       "      <th></th>\n",
       "      <th></th>\n",
       "      <th></th>\n",
       "      <th></th>\n",
       "      <th></th>\n",
       "      <th></th>\n",
       "    </tr>\n",
       "  </thead>\n",
       "  <tbody>\n",
       "    <tr>\n",
       "      <th>(part of cobas 6000/8000) Roche Diagnostics cobas c 513</th>\n",
       "      <td>2019</td>\n",
       "      <td>10.00</td>\n",
       "      <td>57.300</td>\n",
       "      <td>3.150</td>\n",
       "      <td>3.650</td>\n",
       "      <td>54.15</td>\n",
       "      <td>10.300</td>\n",
       "    </tr>\n",
       "    <tr>\n",
       "      <th>Abbott ARCHITECT</th>\n",
       "      <td>2017</td>\n",
       "      <td>34.25</td>\n",
       "      <td>49.525</td>\n",
       "      <td>-1.575</td>\n",
       "      <td>5.100</td>\n",
       "      <td>51.10</td>\n",
       "      <td>8.400</td>\n",
       "    </tr>\n",
       "    <tr>\n",
       "      <th>Abbott ARCHITECT</th>\n",
       "      <td>2018</td>\n",
       "      <td>58.50</td>\n",
       "      <td>47.925</td>\n",
       "      <td>-2.225</td>\n",
       "      <td>5.050</td>\n",
       "      <td>50.15</td>\n",
       "      <td>7.700</td>\n",
       "    </tr>\n",
       "    <tr>\n",
       "      <th>Abbott ARCHITECT (enzymatic)</th>\n",
       "      <td>2016</td>\n",
       "      <td>22.50</td>\n",
       "      <td>48.025</td>\n",
       "      <td>-2.075</td>\n",
       "      <td>3.800</td>\n",
       "      <td>50.10</td>\n",
       "      <td>5.350</td>\n",
       "    </tr>\n",
       "    <tr>\n",
       "      <th>Abbott ARCHITECT (enzymatic)</th>\n",
       "      <td>2019</td>\n",
       "      <td>31.50</td>\n",
       "      <td>54.000</td>\n",
       "      <td>-0.150</td>\n",
       "      <td>3.800</td>\n",
       "      <td>54.15</td>\n",
       "      <td>7.300</td>\n",
       "    </tr>\n",
       "    <tr>\n",
       "      <th>...</th>\n",
       "      <td>...</td>\n",
       "      <td>...</td>\n",
       "      <td>...</td>\n",
       "      <td>...</td>\n",
       "      <td>...</td>\n",
       "      <td>...</td>\n",
       "      <td>...</td>\n",
       "    </tr>\n",
       "    <tr>\n",
       "      <th>Trinity Biotech Premier Hb9210</th>\n",
       "      <td>2016</td>\n",
       "      <td>21.50</td>\n",
       "      <td>50.250</td>\n",
       "      <td>0.150</td>\n",
       "      <td>3.725</td>\n",
       "      <td>50.10</td>\n",
       "      <td>7.450</td>\n",
       "    </tr>\n",
       "    <tr>\n",
       "      <th>Trinity Biotech Premier Hb9210</th>\n",
       "      <td>2017</td>\n",
       "      <td>24.75</td>\n",
       "      <td>51.950</td>\n",
       "      <td>0.850</td>\n",
       "      <td>2.775</td>\n",
       "      <td>51.10</td>\n",
       "      <td>6.300</td>\n",
       "    </tr>\n",
       "    <tr>\n",
       "      <th>Trinity Biotech Premier Hb9210</th>\n",
       "      <td>2018</td>\n",
       "      <td>27.00</td>\n",
       "      <td>50.500</td>\n",
       "      <td>0.350</td>\n",
       "      <td>3.800</td>\n",
       "      <td>50.15</td>\n",
       "      <td>7.775</td>\n",
       "    </tr>\n",
       "    <tr>\n",
       "      <th>Trinity Biotech Premier Hb9210</th>\n",
       "      <td>2019</td>\n",
       "      <td>28.50</td>\n",
       "      <td>54.800</td>\n",
       "      <td>0.650</td>\n",
       "      <td>3.900</td>\n",
       "      <td>54.15</td>\n",
       "      <td>8.300</td>\n",
       "    </tr>\n",
       "    <tr>\n",
       "      <th>Trinity Biotech Premier Hb9210</th>\n",
       "      <td>2020</td>\n",
       "      <td>24.50</td>\n",
       "      <td>37.225</td>\n",
       "      <td>0.725</td>\n",
       "      <td>5.075</td>\n",
       "      <td>37.30</td>\n",
       "      <td>10.650</td>\n",
       "    </tr>\n",
       "  </tbody>\n",
       "</table>\n",
       "<p>161 rows × 7 columns</p>\n",
       "</div>"
      ],
      "text/plain": [
       "                                                    Year      N    Mean  \\\n",
       "Method name                                                               \n",
       "(part of cobas 6000/8000) Roche Diagnostics cob...  2019  10.00  57.300   \n",
       "Abbott ARCHITECT                                    2017  34.25  49.525   \n",
       "Abbott ARCHITECT                                    2018  58.50  47.925   \n",
       "Abbott ARCHITECT (enzymatic)                        2016  22.50  48.025   \n",
       "Abbott ARCHITECT (enzymatic)                        2019  31.50  54.000   \n",
       "...                                                  ...    ...     ...   \n",
       "Trinity Biotech Premier Hb9210                      2016  21.50  50.250   \n",
       "Trinity Biotech Premier Hb9210                      2017  24.75  51.950   \n",
       "Trinity Biotech Premier Hb9210                      2018  27.00  50.500   \n",
       "Trinity Biotech Premier Hb9210                      2019  28.50  54.800   \n",
       "Trinity Biotech Premier Hb9210                      2020  24.50  37.225   \n",
       "\n",
       "                                                     Bias     CV  \\\n",
       "Method name                                                        \n",
       "(part of cobas 6000/8000) Roche Diagnostics cob...  3.150  3.650   \n",
       "Abbott ARCHITECT                                   -1.575  5.100   \n",
       "Abbott ARCHITECT                                   -2.225  5.050   \n",
       "Abbott ARCHITECT (enzymatic)                       -2.075  3.800   \n",
       "Abbott ARCHITECT (enzymatic)                       -0.150  3.800   \n",
       "...                                                   ...    ...   \n",
       "Trinity Biotech Premier Hb9210                      0.150  3.725   \n",
       "Trinity Biotech Premier Hb9210                      0.850  2.775   \n",
       "Trinity Biotech Premier Hb9210                      0.350  3.800   \n",
       "Trinity Biotech Premier Hb9210                      0.650  3.900   \n",
       "Trinity Biotech Premier Hb9210                      0.725  5.075   \n",
       "\n",
       "                                                    Refrence Value  \\\n",
       "Method name                                                          \n",
       "(part of cobas 6000/8000) Roche Diagnostics cob...           54.15   \n",
       "Abbott ARCHITECT                                             51.10   \n",
       "Abbott ARCHITECT                                             50.15   \n",
       "Abbott ARCHITECT (enzymatic)                                 50.10   \n",
       "Abbott ARCHITECT (enzymatic)                                 54.15   \n",
       "...                                                            ...   \n",
       "Trinity Biotech Premier Hb9210                               50.10   \n",
       "Trinity Biotech Premier Hb9210                               51.10   \n",
       "Trinity Biotech Premier Hb9210                               50.15   \n",
       "Trinity Biotech Premier Hb9210                               54.15   \n",
       "Trinity Biotech Premier Hb9210                               37.30   \n",
       "\n",
       "                                                    Total Error  \n",
       "Method name                                                      \n",
       "(part of cobas 6000/8000) Roche Diagnostics cob...       10.300  \n",
       "Abbott ARCHITECT                                          8.400  \n",
       "Abbott ARCHITECT                                          7.700  \n",
       "Abbott ARCHITECT (enzymatic)                              5.350  \n",
       "Abbott ARCHITECT (enzymatic)                              7.300  \n",
       "...                                                         ...  \n",
       "Trinity Biotech Premier Hb9210                            7.450  \n",
       "Trinity Biotech Premier Hb9210                            6.300  \n",
       "Trinity Biotech Premier Hb9210                            7.775  \n",
       "Trinity Biotech Premier Hb9210                            8.300  \n",
       "Trinity Biotech Premier Hb9210                           10.650  \n",
       "\n",
       "[161 rows x 7 columns]"
      ]
     },
     "execution_count": 5,
     "metadata": {},
     "output_type": "execute_result"
    }
   ],
   "source": [
    "df3 = df2.set_index('Method name')\n",
    "df3"
   ]
  },
  {
   "cell_type": "code",
   "execution_count": 6,
   "id": "c726a7d2",
   "metadata": {},
   "outputs": [
    {
     "data": {
      "text/html": [
       "<div>\n",
       "<style scoped>\n",
       "    .dataframe tbody tr th:only-of-type {\n",
       "        vertical-align: middle;\n",
       "    }\n",
       "\n",
       "    .dataframe tbody tr th {\n",
       "        vertical-align: top;\n",
       "    }\n",
       "\n",
       "    .dataframe thead th {\n",
       "        text-align: right;\n",
       "    }\n",
       "</style>\n",
       "<table border=\"1\" class=\"dataframe\">\n",
       "  <thead>\n",
       "    <tr style=\"text-align: right;\">\n",
       "      <th></th>\n",
       "      <th>N</th>\n",
       "      <th>Mean</th>\n",
       "      <th>Bias</th>\n",
       "      <th>CV</th>\n",
       "      <th>Sample</th>\n",
       "      <th>Refrence Value</th>\n",
       "      <th>Year</th>\n",
       "      <th>Source</th>\n",
       "      <th>Type</th>\n",
       "      <th>Manufacturer</th>\n",
       "      <th>Total Error</th>\n",
       "    </tr>\n",
       "    <tr>\n",
       "      <th>Method name</th>\n",
       "      <th></th>\n",
       "      <th></th>\n",
       "      <th></th>\n",
       "      <th></th>\n",
       "      <th></th>\n",
       "      <th></th>\n",
       "      <th></th>\n",
       "      <th></th>\n",
       "      <th></th>\n",
       "      <th></th>\n",
       "      <th></th>\n",
       "    </tr>\n",
       "  </thead>\n",
       "  <tbody>\n",
       "    <tr>\n",
       "      <th>(part of cobas 6000/8000) Roche Diagnostics cobas c 513</th>\n",
       "      <td>10.0</td>\n",
       "      <td>74.0</td>\n",
       "      <td>3.9</td>\n",
       "      <td>2.7</td>\n",
       "      <td>Sample 1</td>\n",
       "      <td>70.1</td>\n",
       "      <td>2019</td>\n",
       "      <td>EURA1c</td>\n",
       "      <td>Frozen</td>\n",
       "      <td>Roche Diagnostics</td>\n",
       "      <td>9.2</td>\n",
       "    </tr>\n",
       "    <tr>\n",
       "      <th>(part of cobas 6000/8000) Roche Diagnostics cobas c 513</th>\n",
       "      <td>10.0</td>\n",
       "      <td>40.6</td>\n",
       "      <td>2.4</td>\n",
       "      <td>4.6</td>\n",
       "      <td>Sample 2</td>\n",
       "      <td>38.2</td>\n",
       "      <td>2019</td>\n",
       "      <td>EURA1c</td>\n",
       "      <td>Frozen</td>\n",
       "      <td>Roche Diagnostics</td>\n",
       "      <td>11.4</td>\n",
       "    </tr>\n",
       "    <tr>\n",
       "      <th>Abbott Alinity</th>\n",
       "      <td>17.0</td>\n",
       "      <td>34.0</td>\n",
       "      <td>-2.5</td>\n",
       "      <td>8.2</td>\n",
       "      <td>Sample 1</td>\n",
       "      <td>37.5</td>\n",
       "      <td>2020</td>\n",
       "      <td>EURA1c</td>\n",
       "      <td>Frozen</td>\n",
       "      <td>Abbot</td>\n",
       "      <td>13.6</td>\n",
       "    </tr>\n",
       "    <tr>\n",
       "      <th>Abbott Alinity</th>\n",
       "      <td>15.0</td>\n",
       "      <td>34.2</td>\n",
       "      <td>-2.3</td>\n",
       "      <td>8.2</td>\n",
       "      <td>Sample 2</td>\n",
       "      <td>37.5</td>\n",
       "      <td>2020</td>\n",
       "      <td>EURA1c</td>\n",
       "      <td>Frozen</td>\n",
       "      <td>Abbot</td>\n",
       "      <td>13.8</td>\n",
       "    </tr>\n",
       "    <tr>\n",
       "      <th>Abbott Alinity</th>\n",
       "      <td>12.0</td>\n",
       "      <td>36.1</td>\n",
       "      <td>-0.4</td>\n",
       "      <td>2.1</td>\n",
       "      <td>Sample 1</td>\n",
       "      <td>37.1</td>\n",
       "      <td>2020</td>\n",
       "      <td>EURA1c</td>\n",
       "      <td>Fresh</td>\n",
       "      <td>Abbot</td>\n",
       "      <td>3.7</td>\n",
       "    </tr>\n",
       "    <tr>\n",
       "      <th>...</th>\n",
       "      <td>...</td>\n",
       "      <td>...</td>\n",
       "      <td>...</td>\n",
       "      <td>...</td>\n",
       "      <td>...</td>\n",
       "      <td>...</td>\n",
       "      <td>...</td>\n",
       "      <td>...</td>\n",
       "      <td>...</td>\n",
       "      <td>...</td>\n",
       "      <td>...</td>\n",
       "    </tr>\n",
       "    <tr>\n",
       "      <th>Trinity Biotech Premier Hb9210</th>\n",
       "      <td>27.0</td>\n",
       "      <td>59.7</td>\n",
       "      <td>1.8</td>\n",
       "      <td>4.0</td>\n",
       "      <td>Sample 2</td>\n",
       "      <td>57.9</td>\n",
       "      <td>2016</td>\n",
       "      <td>EURA1c</td>\n",
       "      <td>Fresh</td>\n",
       "      <td>Trinity Biotech</td>\n",
       "      <td>9.6</td>\n",
       "    </tr>\n",
       "    <tr>\n",
       "      <th>Trinity Biotech Premier Hb9210</th>\n",
       "      <td>20.0</td>\n",
       "      <td>45.0</td>\n",
       "      <td>0.8</td>\n",
       "      <td>2.2</td>\n",
       "      <td>Sample 1</td>\n",
       "      <td>44.2</td>\n",
       "      <td>2017</td>\n",
       "      <td>EURA1c</td>\n",
       "      <td>Frozen</td>\n",
       "      <td>Trinity Biotech</td>\n",
       "      <td>5.1</td>\n",
       "    </tr>\n",
       "    <tr>\n",
       "      <th>Trinity Biotech Premier Hb9210</th>\n",
       "      <td>21.0</td>\n",
       "      <td>58.0</td>\n",
       "      <td>0.0</td>\n",
       "      <td>2.4</td>\n",
       "      <td>Sample 2</td>\n",
       "      <td>58.0</td>\n",
       "      <td>2017</td>\n",
       "      <td>EURA1c</td>\n",
       "      <td>Frozen</td>\n",
       "      <td>Trinity Biotech</td>\n",
       "      <td>4.7</td>\n",
       "    </tr>\n",
       "    <tr>\n",
       "      <th>Trinity Biotech Premier Hb9210</th>\n",
       "      <td>29.0</td>\n",
       "      <td>45.3</td>\n",
       "      <td>1.1</td>\n",
       "      <td>3.7</td>\n",
       "      <td>Sample 1</td>\n",
       "      <td>44.2</td>\n",
       "      <td>2017</td>\n",
       "      <td>EURA1c</td>\n",
       "      <td>Fresh</td>\n",
       "      <td>Trinity Biotech</td>\n",
       "      <td>8.4</td>\n",
       "    </tr>\n",
       "    <tr>\n",
       "      <th>Trinity Biotech Premier Hb9210</th>\n",
       "      <td>29.0</td>\n",
       "      <td>59.5</td>\n",
       "      <td>1.5</td>\n",
       "      <td>2.8</td>\n",
       "      <td>Sample 2</td>\n",
       "      <td>58.0</td>\n",
       "      <td>2017</td>\n",
       "      <td>EURA1c</td>\n",
       "      <td>Fresh</td>\n",
       "      <td>Trinity Biotech</td>\n",
       "      <td>7.0</td>\n",
       "    </tr>\n",
       "  </tbody>\n",
       "</table>\n",
       "<p>514 rows × 11 columns</p>\n",
       "</div>"
      ],
      "text/plain": [
       "                                                       N  Mean  Bias   CV  \\\n",
       "Method name                                                                 \n",
       "(part of cobas 6000/8000) Roche Diagnostics cob...  10.0  74.0   3.9  2.7   \n",
       "(part of cobas 6000/8000) Roche Diagnostics cob...  10.0  40.6   2.4  4.6   \n",
       "Abbott Alinity                                      17.0  34.0  -2.5  8.2   \n",
       "Abbott Alinity                                      15.0  34.2  -2.3  8.2   \n",
       "Abbott Alinity                                      12.0  36.1  -0.4  2.1   \n",
       "...                                                  ...   ...   ...  ...   \n",
       "Trinity Biotech Premier Hb9210                      27.0  59.7   1.8  4.0   \n",
       "Trinity Biotech Premier Hb9210                      20.0  45.0   0.8  2.2   \n",
       "Trinity Biotech Premier Hb9210                      21.0  58.0   0.0  2.4   \n",
       "Trinity Biotech Premier Hb9210                      29.0  45.3   1.1  3.7   \n",
       "Trinity Biotech Premier Hb9210                      29.0  59.5   1.5  2.8   \n",
       "\n",
       "                                                      Sample  Refrence Value  \\\n",
       "Method name                                                                    \n",
       "(part of cobas 6000/8000) Roche Diagnostics cob...  Sample 1            70.1   \n",
       "(part of cobas 6000/8000) Roche Diagnostics cob...  Sample 2            38.2   \n",
       "Abbott Alinity                                      Sample 1            37.5   \n",
       "Abbott Alinity                                      Sample 2            37.5   \n",
       "Abbott Alinity                                      Sample 1            37.1   \n",
       "...                                                      ...             ...   \n",
       "Trinity Biotech Premier Hb9210                      Sample 2            57.9   \n",
       "Trinity Biotech Premier Hb9210                      Sample 1            44.2   \n",
       "Trinity Biotech Premier Hb9210                      Sample 2            58.0   \n",
       "Trinity Biotech Premier Hb9210                      Sample 1            44.2   \n",
       "Trinity Biotech Premier Hb9210                      Sample 2            58.0   \n",
       "\n",
       "                                                    Year  Source    Type  \\\n",
       "Method name                                                                \n",
       "(part of cobas 6000/8000) Roche Diagnostics cob...  2019  EURA1c  Frozen   \n",
       "(part of cobas 6000/8000) Roche Diagnostics cob...  2019  EURA1c  Frozen   \n",
       "Abbott Alinity                                      2020  EURA1c  Frozen   \n",
       "Abbott Alinity                                      2020  EURA1c  Frozen   \n",
       "Abbott Alinity                                      2020  EURA1c   Fresh   \n",
       "...                                                  ...     ...     ...   \n",
       "Trinity Biotech Premier Hb9210                      2016  EURA1c   Fresh   \n",
       "Trinity Biotech Premier Hb9210                      2017  EURA1c  Frozen   \n",
       "Trinity Biotech Premier Hb9210                      2017  EURA1c  Frozen   \n",
       "Trinity Biotech Premier Hb9210                      2017  EURA1c   Fresh   \n",
       "Trinity Biotech Premier Hb9210                      2017  EURA1c   Fresh   \n",
       "\n",
       "                                                         Manufacturer  \\\n",
       "Method name                                                             \n",
       "(part of cobas 6000/8000) Roche Diagnostics cob...  Roche Diagnostics   \n",
       "(part of cobas 6000/8000) Roche Diagnostics cob...  Roche Diagnostics   \n",
       "Abbott Alinity                                                  Abbot   \n",
       "Abbott Alinity                                                  Abbot   \n",
       "Abbott Alinity                                                  Abbot   \n",
       "...                                                               ...   \n",
       "Trinity Biotech Premier Hb9210                        Trinity Biotech   \n",
       "Trinity Biotech Premier Hb9210                        Trinity Biotech   \n",
       "Trinity Biotech Premier Hb9210                        Trinity Biotech   \n",
       "Trinity Biotech Premier Hb9210                        Trinity Biotech   \n",
       "Trinity Biotech Premier Hb9210                        Trinity Biotech   \n",
       "\n",
       "                                                    Total Error  \n",
       "Method name                                                      \n",
       "(part of cobas 6000/8000) Roche Diagnostics cob...          9.2  \n",
       "(part of cobas 6000/8000) Roche Diagnostics cob...         11.4  \n",
       "Abbott Alinity                                             13.6  \n",
       "Abbott Alinity                                             13.8  \n",
       "Abbott Alinity                                              3.7  \n",
       "...                                                         ...  \n",
       "Trinity Biotech Premier Hb9210                              9.6  \n",
       "Trinity Biotech Premier Hb9210                              5.1  \n",
       "Trinity Biotech Premier Hb9210                              4.7  \n",
       "Trinity Biotech Premier Hb9210                              8.4  \n",
       "Trinity Biotech Premier Hb9210                              7.0  \n",
       "\n",
       "[514 rows x 11 columns]"
      ]
     },
     "execution_count": 6,
     "metadata": {},
     "output_type": "execute_result"
    }
   ],
   "source": [
    "df4 = df.set_index('Method name')\n",
    "df4"
   ]
  },
  {
   "cell_type": "code",
   "execution_count": 7,
   "id": "a1a18524",
   "metadata": {},
   "outputs": [
    {
     "data": {
      "text/html": [
       "<div>\n",
       "<style scoped>\n",
       "    .dataframe tbody tr th:only-of-type {\n",
       "        vertical-align: middle;\n",
       "    }\n",
       "\n",
       "    .dataframe tbody tr th {\n",
       "        vertical-align: top;\n",
       "    }\n",
       "\n",
       "    .dataframe thead th {\n",
       "        text-align: right;\n",
       "    }\n",
       "</style>\n",
       "<table border=\"1\" class=\"dataframe\">\n",
       "  <thead>\n",
       "    <tr style=\"text-align: right;\">\n",
       "      <th></th>\n",
       "      <th>Year</th>\n",
       "      <th>Bias</th>\n",
       "      <th>CV</th>\n",
       "      <th>Total Error</th>\n",
       "    </tr>\n",
       "    <tr>\n",
       "      <th>Method name</th>\n",
       "      <th></th>\n",
       "      <th></th>\n",
       "      <th></th>\n",
       "      <th></th>\n",
       "    </tr>\n",
       "  </thead>\n",
       "  <tbody>\n",
       "    <tr>\n",
       "      <th>(part of cobas 6000/8000) Roche Diagnostics cobas c 513</th>\n",
       "      <td>2019</td>\n",
       "      <td>3.150</td>\n",
       "      <td>3.650</td>\n",
       "      <td>10.300</td>\n",
       "    </tr>\n",
       "    <tr>\n",
       "      <th>Abbott ARCHITECT</th>\n",
       "      <td>2017</td>\n",
       "      <td>-1.575</td>\n",
       "      <td>5.100</td>\n",
       "      <td>8.400</td>\n",
       "    </tr>\n",
       "    <tr>\n",
       "      <th>Abbott ARCHITECT</th>\n",
       "      <td>2018</td>\n",
       "      <td>-2.225</td>\n",
       "      <td>5.050</td>\n",
       "      <td>7.700</td>\n",
       "    </tr>\n",
       "    <tr>\n",
       "      <th>Abbott ARCHITECT (enzymatic)</th>\n",
       "      <td>2016</td>\n",
       "      <td>-2.075</td>\n",
       "      <td>3.800</td>\n",
       "      <td>5.350</td>\n",
       "    </tr>\n",
       "    <tr>\n",
       "      <th>Abbott ARCHITECT (enzymatic)</th>\n",
       "      <td>2019</td>\n",
       "      <td>-0.150</td>\n",
       "      <td>3.800</td>\n",
       "      <td>7.300</td>\n",
       "    </tr>\n",
       "    <tr>\n",
       "      <th>...</th>\n",
       "      <td>...</td>\n",
       "      <td>...</td>\n",
       "      <td>...</td>\n",
       "      <td>...</td>\n",
       "    </tr>\n",
       "    <tr>\n",
       "      <th>Trinity Biotech Premier Hb9210</th>\n",
       "      <td>2016</td>\n",
       "      <td>0.150</td>\n",
       "      <td>3.725</td>\n",
       "      <td>7.450</td>\n",
       "    </tr>\n",
       "    <tr>\n",
       "      <th>Trinity Biotech Premier Hb9210</th>\n",
       "      <td>2017</td>\n",
       "      <td>0.850</td>\n",
       "      <td>2.775</td>\n",
       "      <td>6.300</td>\n",
       "    </tr>\n",
       "    <tr>\n",
       "      <th>Trinity Biotech Premier Hb9210</th>\n",
       "      <td>2018</td>\n",
       "      <td>0.350</td>\n",
       "      <td>3.800</td>\n",
       "      <td>7.775</td>\n",
       "    </tr>\n",
       "    <tr>\n",
       "      <th>Trinity Biotech Premier Hb9210</th>\n",
       "      <td>2019</td>\n",
       "      <td>0.650</td>\n",
       "      <td>3.900</td>\n",
       "      <td>8.300</td>\n",
       "    </tr>\n",
       "    <tr>\n",
       "      <th>Trinity Biotech Premier Hb9210</th>\n",
       "      <td>2020</td>\n",
       "      <td>0.725</td>\n",
       "      <td>5.075</td>\n",
       "      <td>10.650</td>\n",
       "    </tr>\n",
       "  </tbody>\n",
       "</table>\n",
       "<p>161 rows × 4 columns</p>\n",
       "</div>"
      ],
      "text/plain": [
       "                                                    Year   Bias     CV  \\\n",
       "Method name                                                              \n",
       "(part of cobas 6000/8000) Roche Diagnostics cob...  2019  3.150  3.650   \n",
       "Abbott ARCHITECT                                    2017 -1.575  5.100   \n",
       "Abbott ARCHITECT                                    2018 -2.225  5.050   \n",
       "Abbott ARCHITECT (enzymatic)                        2016 -2.075  3.800   \n",
       "Abbott ARCHITECT (enzymatic)                        2019 -0.150  3.800   \n",
       "...                                                  ...    ...    ...   \n",
       "Trinity Biotech Premier Hb9210                      2016  0.150  3.725   \n",
       "Trinity Biotech Premier Hb9210                      2017  0.850  2.775   \n",
       "Trinity Biotech Premier Hb9210                      2018  0.350  3.800   \n",
       "Trinity Biotech Premier Hb9210                      2019  0.650  3.900   \n",
       "Trinity Biotech Premier Hb9210                      2020  0.725  5.075   \n",
       "\n",
       "                                                    Total Error  \n",
       "Method name                                                      \n",
       "(part of cobas 6000/8000) Roche Diagnostics cob...       10.300  \n",
       "Abbott ARCHITECT                                          8.400  \n",
       "Abbott ARCHITECT                                          7.700  \n",
       "Abbott ARCHITECT (enzymatic)                              5.350  \n",
       "Abbott ARCHITECT (enzymatic)                              7.300  \n",
       "...                                                         ...  \n",
       "Trinity Biotech Premier Hb9210                            7.450  \n",
       "Trinity Biotech Premier Hb9210                            6.300  \n",
       "Trinity Biotech Premier Hb9210                            7.775  \n",
       "Trinity Biotech Premier Hb9210                            8.300  \n",
       "Trinity Biotech Premier Hb9210                           10.650  \n",
       "\n",
       "[161 rows x 4 columns]"
      ]
     },
     "execution_count": 7,
     "metadata": {},
     "output_type": "execute_result"
    }
   ],
   "source": [
    "df5 = df3[['Year','Bias','CV','Total Error']]\n",
    "df5"
   ]
  },
  {
   "cell_type": "code",
   "execution_count": 8,
   "id": "5ce9d383",
   "metadata": {
    "scrolled": false
   },
   "outputs": [
    {
     "data": {
      "text/plain": [
       "<matplotlib.legend.Legend at 0x1de6c017640>"
      ]
     },
     "execution_count": 8,
     "metadata": {},
     "output_type": "execute_result"
    },
    {
     "data": {
      "image/png": "[encoded data removed]",
      "text/plain": [
       "<Figure size 432x288 with 1 Axes>"
      ]
     },
     "metadata": {
      "needs_background": "light"
     },
     "output_type": "display_data"
    }
   ],
   "source": [
    "sns.lineplot(data=df, x=\"Year\", y=\"CV\", hue=\"Manufacturer\")\n",
    "plt.legend(bbox_to_anchor=(1.02, 1), loc='upper left', borderaxespad=0)"
   ]
  },
  {
   "cell_type": "code",
   "execution_count": 9,
   "id": "392b2558",
   "metadata": {},
   "outputs": [
    {
     "data": {
      "application/vnd.plotly.v1+json": {
       "config": {
        "plotlyServerURL": "https://plot.ly"
       },
       "data": [
        {
         "hovertemplate": "Year=%{x}<br>CV=%{y}<extra></extra>",
         "legendgroup": "",
         "line": {
          "color": "#636efa",
          "dash": "solid"
         },
         "marker": {
          "symbol": "circle"
         },
         "mode": "lines",
         "name": "",
         "orientation": "v",
         "showlegend": false,
         "type": "scatter",
         "x": [
          2019,
          2019,
          2020,
          2020,
          2020,
          2020,
          2017,
          2017,
          2017,
          2017,
          2018,
          2018,
          2018,
          2018,
          2019,
          2019,
          2019,
          2019,
          2020,
          2020,
          2020,
          2020,
          2016,
          2016,
          2016,
          2016,
          2020,
          2020,
          2020,
          2020,
          2016,
          2016,
          2019,
          2019,
          2019,
          2019,
          2020,
          2020,
          2020,
          2020,
          2020,
          2020,
          2016,
          2016,
          2019,
          2019,
          2020,
          2020,
          2016,
          2016,
          2017,
          2017,
          2018,
          2018,
          2016,
          2016,
          2017,
          2017,
          2016,
          2016,
          2017,
          2017,
          2018,
          2018,
          2018,
          2018,
          2019,
          2019,
          2019,
          2019,
          2020,
          2020,
          2020,
          2020,
          2020,
          2020,
          2018,
          2018,
          2016,
          2016,
          2017,
          2017,
          2018,
          2018,
          2019,
          2019,
          2020,
          2020,
          2018,
          2018,
          2019,
          2019,
          2016,
          2016,
          2016,
          2016,
          2017,
          2017,
          2017,
          2017,
          2018,
          2018,
          2018,
          2018,
          2019,
          2019,
          2019,
          2019,
          2020,
          2020,
          2020,
          2020,
          2016,
          2016,
          2016,
          2016,
          2017,
          2017,
          2017,
          2017,
          2018,
          2018,
          2018,
          2018,
          2019,
          2019,
          2019,
          2019,
          2020,
          2020,
          2020,
          2020,
          2020,
          2020,
          2017,
          2017,
          2018,
          2018,
          2018,
          2018,
          2016,
          2016,
          2016,
          2016,
          2017,
          2017,
          2017,
          2017,
          2018,
          2018,
          2018,
          2018,
          2019,
          2019,
          2019,
          2019,
          2020,
          2020,
          2020,
          2020,
          2018,
          2018,
          2019,
          2019,
          2020,
          2020,
          2018,
          2018,
          2019,
          2019,
          2020,
          2020,
          2020,
          2020,
          2020,
          2020,
          2016,
          2016,
          2017,
          2017,
          2018,
          2018,
          2017,
          2017,
          2017,
          2017,
          2018,
          2018,
          2018,
          2018,
          2019,
          2019,
          2019,
          2019,
          2020,
          2020,
          2020,
          2020,
          2016,
          2016,
          2016,
          2016,
          2017,
          2017,
          2017,
          2017,
          2018,
          2018,
          2018,
          2018,
          2019,
          2019,
          2019,
          2019,
          2020,
          2020,
          2020,
          2020,
          2016,
          2016,
          2016,
          2016,
          2019,
          2019,
          2020,
          2020,
          2020,
          2020,
          2018,
          2018,
          2017,
          2017,
          2018,
          2018,
          2020,
          2020,
          2016,
          2016,
          2016,
          2016,
          2017,
          2017,
          2017,
          2017,
          2018,
          2018,
          2019,
          2019,
          2019,
          2019,
          2020,
          2020,
          2020,
          2020,
          2018,
          2018,
          2019,
          2019,
          2016,
          2016,
          2016,
          2016,
          2017,
          2017,
          2017,
          2017,
          2018,
          2018,
          2018,
          2018,
          2019,
          2019,
          2020,
          2020,
          2020,
          2020,
          2019,
          2019,
          2019,
          2019,
          2019,
          2019,
          2020,
          2020,
          2020,
          2020,
          2020,
          2020,
          2019,
          2019,
          2020,
          2020,
          2020,
          2020,
          2019,
          2019,
          2019,
          2019,
          2019,
          2019,
          2020,
          2020,
          2020,
          2020,
          2019,
          2019,
          2019,
          2019,
          2020,
          2020,
          2020,
          2020,
          2019,
          2019,
          2016,
          2016,
          2016,
          2016,
          2017,
          2017,
          2017,
          2017,
          2019,
          2019,
          2020,
          2020,
          2020,
          2020,
          2018,
          2018,
          2018,
          2018,
          2019,
          2019,
          2016,
          2016,
          2016,
          2016,
          2017,
          2017,
          2017,
          2017,
          2019,
          2019,
          2020,
          2020,
          2020,
          2020,
          2018,
          2018,
          2018,
          2018,
          2019,
          2019,
          2016,
          2016,
          2017,
          2017,
          2019,
          2019,
          2020,
          2020,
          2020,
          2020,
          2018,
          2018,
          2018,
          2018,
          2019,
          2019,
          2020,
          2020,
          2020,
          2020,
          2019,
          2019,
          2019,
          2019,
          2020,
          2020,
          2016,
          2016,
          2017,
          2017,
          2018,
          2018,
          2020,
          2020,
          2019,
          2019,
          2018,
          2018,
          2018,
          2018,
          2019,
          2019,
          2020,
          2020,
          2020,
          2020,
          2016,
          2016,
          2016,
          2016,
          2017,
          2017,
          2017,
          2017,
          2019,
          2019,
          2016,
          2016,
          2016,
          2016,
          2017,
          2017,
          2017,
          2017,
          2018,
          2018,
          2018,
          2018,
          2019,
          2019,
          2020,
          2020,
          2020,
          2020,
          2016,
          2016,
          2018,
          2018,
          2019,
          2019,
          2020,
          2020,
          2018,
          2018,
          2018,
          2018,
          2018,
          2018,
          2019,
          2019,
          2020,
          2020,
          2020,
          2020,
          2016,
          2016,
          2016,
          2016,
          2017,
          2017,
          2017,
          2017,
          2018,
          2018,
          2018,
          2018,
          2019,
          2019,
          2020,
          2020,
          2020,
          2020,
          2016,
          2016,
          2016,
          2016,
          2017,
          2017,
          2017,
          2017,
          2018,
          2018,
          2018,
          2018,
          2019,
          2019,
          2020,
          2020,
          2020,
          2020,
          2019,
          2019,
          2020,
          2020,
          2020,
          2020,
          2020,
          2020,
          2017,
          2017,
          2018,
          2018,
          2018,
          2018,
          2018,
          2018,
          2019,
          2019,
          2020,
          2020,
          2020,
          2020,
          2016,
          2016,
          2016,
          2016,
          2017,
          2017,
          2017,
          2017
         ],
         "xaxis": "x",
         "y": [
          2.7,
          4.6,
          8.2,
          8.2,
          2.1,
          1.9,
          6.8,
          6.6,
          3.9,
          3.1,
          6.1,
          8,
          3.1,
          3,
          4,
          6.2,
          1.9,
          3.1,
          9.3,
          8,
          7.4,
          7.1,
          5.2,
          6.8,
          1.5,
          1.7,
          9.8,
          8.8,
          8.2,
          8.1,
          2,
          6.1,
          7.3,
          10.4,
          3.9,
          4,
          6.9,
          6.4,
          2.7,
          2.9,
          4.1,
          4.5,
          5.1,
          4,
          2.7,
          5.1,
          4.2,
          4.5,
          3.5,
          3.2,
          3.9,
          3.6,
          3.1,
          3.6,
          5.6,
          5.5,
          7.2,
          6.1,
          7.9,
          5,
          7.1,
          4.8,
          7.8,
          7.1,
          6.7,
          6.9,
          5.6,
          6.6,
          6.3,
          6.6,
          8,
          7.9,
          6,
          6.7,
          5.5,
          6.5,
          2.8,
          1.5,
          3.9,
          3.1,
          5.1,
          5,
          3.5,
          3.6,
          3.3,
          3.2,
          3.8,
          3.8,
          10.8,
          13.7,
          6.9,
          7.6,
          5.5,
          4.9,
          4.6,
          5.1,
          6.5,
          4.5,
          4.7,
          4.8,
          4.9,
          5.8,
          5.3,
          5.4,
          5.2,
          6.6,
          3.4,
          4.3,
          7.2,
          6.4,
          4.7,
          4.4,
          2.1,
          1.7,
          1.6,
          2.1,
          2.6,
          1.5,
          3.2,
          2.5,
          2.1,
          2.8,
          3.5,
          3.9,
          2.3,
          3.6,
          2.8,
          3.6,
          2.9,
          3.1,
          3.1,
          2.7,
          4.5,
          4.4,
          4.4,
          4.1,
          5.3,
          5.5,
          2.3,
          4.9,
          5.8,
          3.9,
          4.1,
          3.8,
          6.3,
          3.9,
          3.9,
          3,
          4.7,
          5.3,
          4.1,
          4.9,
          5.3,
          8.9,
          2.8,
          5.2,
          8.1,
          8.3,
          6.5,
          6.4,
          6.7,
          3.8,
          3,
          5.4,
          8.2,
          6.2,
          7,
          8,
          4.3,
          8.9,
          9,
          9.4,
          8.8,
          9.9,
          8.5,
          3.6,
          12.1,
          17.1,
          8.3,
          6.9,
          8.6,
          7.6,
          4.6,
          3.9,
          3.1,
          2.6,
          4.2,
          4.4,
          3.8,
          3.8,
          3.6,
          5.1,
          3.2,
          4.4,
          4.9,
          5.1,
          5,
          4.9,
          2.9,
          3,
          3.7,
          3.1,
          3.1,
          3.2,
          3.2,
          2.7,
          4.5,
          5.2,
          2.8,
          3,
          5.7,
          5.4,
          2.8,
          3.8,
          4.2,
          4.2,
          3.1,
          3.2,
          3.9,
          3.1,
          3,
          2.9,
          4.6,
          3.9,
          4.8,
          5,
          3.8,
          3.1,
          3,
          3.2,
          3.5,
          3.9,
          3.6,
          5.1,
          12.4,
          11.8,
          8.7,
          7.4,
          5.5,
          5.1,
          10.2,
          9.5,
          5.6,
          6.6,
          6.4,
          6,
          4.6,
          8.7,
          6.8,
          7,
          12,
          8.9,
          5.5,
          4.9,
          4.9,
          5.8,
          4.8,
          5,
          5.2,
          4.7,
          4.7,
          4.1,
          5,
          4.7,
          3.8,
          3.5,
          4.9,
          5.4,
          3.6,
          4,
          3.8,
          4.1,
          6.1,
          4.3,
          9.3,
          8.4,
          3.6,
          5.4,
          3.7,
          6.1,
          3.5,
          4,
          6.2,
          6.3,
          4.1,
          4,
          4.5,
          4.6,
          2.7,
          2.3,
          2.8,
          2.8,
          2.3,
          2.1,
          6.3,
          10.3,
          3.3,
          7,
          3.3,
          3.5,
          4.5,
          4.6,
          4.2,
          4.1,
          3.9,
          4,
          3.3,
          3.1,
          8.5,
          9.2,
          3.7,
          4.1,
          2.4,
          3.8,
          2.5,
          2.5,
          2.9,
          2.2,
          3.7,
          2.6,
          2.9,
          2.4,
          3,
          3.7,
          3.7,
          4.2,
          3.9,
          3.9,
          2.8,
          3.9,
          2.6,
          3.2,
          2.6,
          2.9,
          2.6,
          1.6,
          2.6,
          2,
          2.1,
          1.4,
          2,
          1.5,
          2.4,
          3.3,
          3.3,
          2.9,
          3.3,
          3.3,
          2,
          2,
          1.9,
          2.1,
          3.2,
          3.8,
          2.8,
          2.2,
          3.1,
          2,
          2.8,
          3.1,
          6.5,
          4.9,
          4.9,
          4.8,
          2.9,
          3.4,
          4.1,
          3,
          2.9,
          4.1,
          2.7,
          3.7,
          3.4,
          3.6,
          6.7,
          5.2,
          6.1,
          11,
          5.6,
          6,
          5.6,
          3.9,
          6.8,
          8.6,
          7.3,
          7.8,
          5.6,
          4.3,
          4.4,
          5.2,
          3.5,
          4.4,
          3.5,
          3.8,
          3.8,
          3.8,
          5.5,
          4.5,
          3.8,
          3.5,
          3.9,
          3.3,
          3.4,
          3.7,
          5.1,
          7.3,
          4.3,
          4.2,
          8.5,
          7.1,
          5.1,
          4.2,
          4.3,
          3.7,
          4.3,
          5.7,
          3.9,
          4,
          5.4,
          4.8,
          3.8,
          5.3,
          2.9,
          4.6,
          5.2,
          5.6,
          4.5,
          4.8,
          4.9,
          3.6,
          5.8,
          6.1,
          10.8,
          13,
          5.5,
          5.1,
          5.5,
          6.5,
          4.4,
          6.8,
          1.8,
          2.1,
          2.7,
          3.4,
          5.1,
          5.1,
          2.3,
          2.4,
          4.8,
          4.7,
          5.1,
          6.2,
          5.5,
          4.5,
          4.5,
          3.2,
          4.2,
          5.2,
          5.2,
          4.4,
          6.6,
          7.1,
          4.4,
          4.5,
          8,
          7.6,
          4.1,
          3.8,
          2.8,
          2.4,
          3.7,
          3.8,
          2.7,
          2.6,
          3.4,
          4.6,
          2.9,
          2.7,
          2.4,
          2.9,
          3.5,
          3.7,
          2.7,
          2.8,
          3.9,
          2.6,
          4.8,
          5.2,
          3.4,
          3.7,
          3.1,
          2.7,
          3.5,
          2.9,
          2.9,
          3.4,
          4.3,
          3.9,
          3,
          4,
          2.4,
          5.4,
          5.1,
          4.4,
          4.2,
          6.6,
          4.2,
          3.2,
          3.5,
          4,
          2.2,
          2.4,
          3.7,
          2.8
         ],
         "yaxis": "y"
        }
       ],
       "layout": {
        "legend": {
         "tracegroupgap": 0
        },
        "template": {
         "data": {
          "bar": [
           {
            "error_x": {
             "color": "#2a3f5f"
            },
            "error_y": {
             "color": "#2a3f5f"
            },
            "marker": {
             "line": {
              "color": "#E5ECF6",
              "width": 0.5
             },
             "pattern": {
              "fillmode": "overlay",
              "size": 10,
              "solidity": 0.2
             }
            },
            "type": "bar"
           }
          ],
          "barpolar": [
           {
            "marker": {
             "line": {
              "color": "#E5ECF6",
              "width": 0.5
             },
             "pattern": {
              "fillmode": "overlay",
              "size": 10,
              "solidity": 0.2
             }
            },
            "type": "barpolar"
           }
          ],
          "carpet": [
           {
            "aaxis": {
             "endlinecolor": "#2a3f5f",
             "gridcolor": "white",
             "linecolor": "white",
             "minorgridcolor": "white",
             "startlinecolor": "#2a3f5f"
            },
            "baxis": {
             "endlinecolor": "#2a3f5f",
             "gridcolor": "white",
             "linecolor": "white",
             "minorgridcolor": "white",
             "startlinecolor": "#2a3f5f"
            },
            "type": "carpet"
           }
          ],
          "choropleth": [
           {
            "colorbar": {
             "outlinewidth": 0,
             "ticks": ""
            },
            "type": "choropleth"
           }
          ],
          "contour": [
           {
            "colorbar": {
             "outlinewidth": 0,
             "ticks": ""
            },
            "colorscale": [
             [
              0,
              "#0d0887"
             ],
             [
              0.1111111111111111,
              "#46039f"
             ],
             [
              0.2222222222222222,
              "#7201a8"
             ],
             [
              0.3333333333333333,
              "#9c179e"
             ],
             [
              0.4444444444444444,
              "#bd3786"
             ],
             [
              0.5555555555555556,
              "#d8576b"
             ],
             [
              0.6666666666666666,
              "#ed7953"
             ],
             [
              0.7777777777777778,
              "#fb9f3a"
             ],
             [
              0.8888888888888888,
              "#fdca26"
             ],
             [
              1,
              "#f0f921"
             ]
            ],
            "type": "contour"
           }
          ],
          "contourcarpet": [
           {
            "colorbar": {
             "outlinewidth": 0,
             "ticks": ""
            },
            "type": "contourcarpet"
           }
          ],
          "heatmap": [
           {
            "colorbar": {
             "outlinewidth": 0,
             "ticks": ""
            },
            "colorscale": [
             [
              0,
              "#0d0887"
             ],
             [
              0.1111111111111111,
              "#46039f"
             ],
             [
              0.2222222222222222,
              "#7201a8"
             ],
             [
              0.3333333333333333,
              "#9c179e"
             ],
             [
              0.4444444444444444,
              "#bd3786"
             ],
             [
              0.5555555555555556,
              "#d8576b"
             ],
             [
              0.6666666666666666,
              "#ed7953"
             ],
             [
              0.7777777777777778,
              "#fb9f3a"
             ],
             [
              0.8888888888888888,
              "#fdca26"
             ],
             [
              1,
              "#f0f921"
             ]
            ],
            "type": "heatmap"
           }
          ],
          "heatmapgl": [
           {
            "colorbar": {
             "outlinewidth": 0,
             "ticks": ""
            },
            "colorscale": [
             [
              0,
              "#0d0887"
             ],
             [
              0.1111111111111111,
              "#46039f"
             ],
             [
              0.2222222222222222,
              "#7201a8"
             ],
             [
              0.3333333333333333,
              "#9c179e"
             ],
             [
              0.4444444444444444,
              "#bd3786"
             ],
             [
              0.5555555555555556,
              "#d8576b"
             ],
             [
              0.6666666666666666,
              "#ed7953"
             ],
             [
              0.7777777777777778,
              "#fb9f3a"
             ],
             [
              0.8888888888888888,
              "#fdca26"
             ],
             [
              1,
              "#f0f921"
             ]
            ],
            "type": "heatmapgl"
           }
          ],
          "histogram": [
           {
            "marker": {
             "pattern": {
              "fillmode": "overlay",
              "size": 10,
              "solidity": 0.2
             }
            },
            "type": "histogram"
           }
          ],
          "histogram2d": [
           {
            "colorbar": {
             "outlinewidth": 0,
             "ticks": ""
            },
            "colorscale": [
             [
              0,
              "#0d0887"
             ],
             [
              0.1111111111111111,
              "#46039f"
             ],
             [
              0.2222222222222222,
              "#7201a8"
             ],
             [
              0.3333333333333333,
              "#9c179e"
             ],
             [
              0.4444444444444444,
              "#bd3786"
             ],
             [
              0.5555555555555556,
              "#d8576b"
             ],
             [
              0.6666666666666666,
              "#ed7953"
             ],
             [
              0.7777777777777778,
              "#fb9f3a"
             ],
             [
              0.8888888888888888,
              "#fdca26"
             ],
             [
              1,
              "#f0f921"
             ]
            ],
            "type": "histogram2d"
           }
          ],
          "histogram2dcontour": [
           {
            "colorbar": {
             "outlinewidth": 0,
             "ticks": ""
            },
            "colorscale": [
             [
              0,
              "#0d0887"
             ],
             [
              0.1111111111111111,
              "#46039f"
             ],
             [
              0.2222222222222222,
              "#7201a8"
             ],
             [
              0.3333333333333333,
              "#9c179e"
             ],
             [
              0.4444444444444444,
              "#bd3786"
             ],
             [
              0.5555555555555556,
              "#d8576b"
             ],
             [
              0.6666666666666666,
              "#ed7953"
             ],
             [
              0.7777777777777778,
              "#fb9f3a"
             ],
             [
              0.8888888888888888,
              "#fdca26"
             ],
             [
              1,
              "#f0f921"
             ]
            ],
            "type": "histogram2dcontour"
           }
          ],
          "mesh3d": [
           {
            "colorbar": {
             "outlinewidth": 0,
             "ticks": ""
            },
            "type": "mesh3d"
           }
          ],
          "parcoords": [
           {
            "line": {
             "colorbar": {
              "outlinewidth": 0,
              "ticks": ""
             }
            },
            "type": "parcoords"
           }
          ],
          "pie": [
           {
            "automargin": true,
            "type": "pie"
           }
          ],
          "scatter": [
           {
            "fillpattern": {
             "fillmode": "overlay",
             "size": 10,
             "solidity": 0.2
            },
            "type": "scatter"
           }
          ],
          "scatter3d": [
           {
            "line": {
             "colorbar": {
              "outlinewidth": 0,
              "ticks": ""
             }
            },
            "marker": {
             "colorbar": {
              "outlinewidth": 0,
              "ticks": ""
             }
            },
            "type": "scatter3d"
           }
          ],
          "scattercarpet": [
           {
            "marker": {
             "colorbar": {
              "outlinewidth": 0,
              "ticks": ""
             }
            },
            "type": "scattercarpet"
           }
          ],
          "scattergeo": [
           {
            "marker": {
             "colorbar": {
              "outlinewidth": 0,
              "ticks": ""
             }
            },
            "type": "scattergeo"
           }
          ],
          "scattergl": [
           {
            "marker": {
             "colorbar": {
              "outlinewidth": 0,
              "ticks": ""
             }
            },
            "type": "scattergl"
           }
          ],
          "scattermapbox": [
           {
            "marker": {
             "colorbar": {
              "outlinewidth": 0,
              "ticks": ""
             }
            },
            "type": "scattermapbox"
           }
          ],
          "scatterpolar": [
           {
            "marker": {
             "colorbar": {
              "outlinewidth": 0,
              "ticks": ""
             }
            },
            "type": "scatterpolar"
           }
          ],
          "scatterpolargl": [
           {
            "marker": {
             "colorbar": {
              "outlinewidth": 0,
              "ticks": ""
             }
            },
            "type": "scatterpolargl"
           }
          ],
          "scatterternary": [
           {
            "marker": {
             "colorbar": {
              "outlinewidth": 0,
              "ticks": ""
             }
            },
            "type": "scatterternary"
           }
          ],
          "surface": [
           {
            "colorbar": {
             "outlinewidth": 0,
             "ticks": ""
            },
            "colorscale": [
             [
              0,
              "#0d0887"
             ],
             [
              0.1111111111111111,
              "#46039f"
             ],
             [
              0.2222222222222222,
              "#7201a8"
             ],
             [
              0.3333333333333333,
              "#9c179e"
             ],
             [
              0.4444444444444444,
              "#bd3786"
             ],
             [
              0.5555555555555556,
              "#d8576b"
             ],
             [
              0.6666666666666666,
              "#ed7953"
             ],
             [
              0.7777777777777778,
              "#fb9f3a"
             ],
             [
              0.8888888888888888,
              "#fdca26"
             ],
             [
              1,
              "#f0f921"
             ]
            ],
            "type": "surface"
           }
          ],
          "table": [
           {
            "cells": {
             "fill": {
              "color": "#EBF0F8"
             },
             "line": {
              "color": "white"
             }
            },
            "header": {
             "fill": {
              "color": "#C8D4E3"
             },
             "line": {
              "color": "white"
             }
            },
            "type": "table"
           }
          ]
         },
         "layout": {
          "annotationdefaults": {
           "arrowcolor": "#2a3f5f",
           "arrowhead": 0,
           "arrowwidth": 1
          },
          "autotypenumbers": "strict",
          "coloraxis": {
           "colorbar": {
            "outlinewidth": 0,
            "ticks": ""
           }
          },
          "colorscale": {
           "diverging": [
            [
             0,
             "#8e0152"
            ],
            [
             0.1,
             "#c51b7d"
            ],
            [
             0.2,
             "#de77ae"
            ],
            [
             0.3,
             "#f1b6da"
            ],
            [
             0.4,
             "#fde0ef"
            ],
            [
             0.5,
             "#f7f7f7"
            ],
            [
             0.6,
             "#e6f5d0"
            ],
            [
             0.7,
             "#b8e186"
            ],
            [
             0.8,
             "#7fbc41"
            ],
            [
             0.9,
             "#4d9221"
            ],
            [
             1,
             "#276419"
            ]
           ],
           "sequential": [
            [
             0,
             "#0d0887"
            ],
            [
             0.1111111111111111,
             "#46039f"
            ],
            [
             0.2222222222222222,
             "#7201a8"
            ],
            [
             0.3333333333333333,
             "#9c179e"
            ],
            [
             0.4444444444444444,
             "#bd3786"
            ],
            [
             0.5555555555555556,
             "#d8576b"
            ],
            [
             0.6666666666666666,
             "#ed7953"
            ],
            [
             0.7777777777777778,
             "#fb9f3a"
            ],
            [
             0.8888888888888888,
             "#fdca26"
            ],
            [
             1,
             "#f0f921"
            ]
           ],
           "sequentialminus": [
            [
             0,
             "#0d0887"
            ],
            [
             0.1111111111111111,
             "#46039f"
            ],
            [
             0.2222222222222222,
             "#7201a8"
            ],
            [
             0.3333333333333333,
             "#9c179e"
            ],
            [
             0.4444444444444444,
             "#bd3786"
            ],
            [
             0.5555555555555556,
             "#d8576b"
            ],
            [
             0.6666666666666666,
             "#ed7953"
            ],
            [
             0.7777777777777778,
             "#fb9f3a"
            ],
            [
             0.8888888888888888,
             "#fdca26"
            ],
            [
             1,
             "#f0f921"
            ]
           ]
          },
          "colorway": [
           "#636efa",
           "#EF553B",
           "#00cc96",
           "#ab63fa",
           "#FFA15A",
           "#19d3f3",
           "#FF6692",
           "#B6E880",
           "#FF97FF",
           "#FECB52"
          ],
          "font": {
           "color": "#2a3f5f"
          },
          "geo": {
           "bgcolor": "white",
           "lakecolor": "white",
           "landcolor": "#E5ECF6",
           "showlakes": true,
           "showland": true,
           "subunitcolor": "white"
          },
          "hoverlabel": {
           "align": "left"
          },
          "hovermode": "closest",
          "mapbox": {
           "style": "light"
          },
          "paper_bgcolor": "white",
          "plot_bgcolor": "#E5ECF6",
          "polar": {
           "angularaxis": {
            "gridcolor": "white",
            "linecolor": "white",
            "ticks": ""
           },
           "bgcolor": "#E5ECF6",
           "radialaxis": {
            "gridcolor": "white",
            "linecolor": "white",
            "ticks": ""
           }
          },
          "scene": {
           "xaxis": {
            "backgroundcolor": "#E5ECF6",
            "gridcolor": "white",
            "gridwidth": 2,
            "linecolor": "white",
            "showbackground": true,
            "ticks": "",
            "zerolinecolor": "white"
           },
           "yaxis": {
            "backgroundcolor": "#E5ECF6",
            "gridcolor": "white",
            "gridwidth": 2,
            "linecolor": "white",
            "showbackground": true,
            "ticks": "",
            "zerolinecolor": "white"
           },
           "zaxis": {
            "backgroundcolor": "#E5ECF6",
            "gridcolor": "white",
            "gridwidth": 2,
            "linecolor": "white",
            "showbackground": true,
            "ticks": "",
            "zerolinecolor": "white"
           }
          },
          "shapedefaults": {
           "line": {
            "color": "#2a3f5f"
           }
          },
          "ternary": {
           "aaxis": {
            "gridcolor": "white",
            "linecolor": "white",
            "ticks": ""
           },
           "baxis": {
            "gridcolor": "white",
            "linecolor": "white",
            "ticks": ""
           },
           "bgcolor": "#E5ECF6",
           "caxis": {
            "gridcolor": "white",
            "linecolor": "white",
            "ticks": ""
           }
          },
          "title": {
           "x": 0.05
          },
          "xaxis": {
           "automargin": true,
           "gridcolor": "white",
           "linecolor": "white",
           "ticks": "",
           "title": {
            "standoff": 15
           },
           "zerolinecolor": "white",
           "zerolinewidth": 2
          },
          "yaxis": {
           "automargin": true,
           "gridcolor": "white",
           "linecolor": "white",
           "ticks": "",
           "title": {
            "standoff": 15
           },
           "zerolinecolor": "white",
           "zerolinewidth": 2
          }
         }
        },
        "title": {
         "text": "test"
        },
        "xaxis": {
         "anchor": "y",
         "domain": [
          0,
          1
         ],
         "title": {
          "text": "Year"
         }
        },
        "yaxis": {
         "anchor": "x",
         "domain": [
          0,
          1
         ],
         "title": {
          "text": "CV"
         }
        }
       }
      },
      "text/html": [
       "<div>                            <div id=\"4f4eed61-1d48-4d57-b680-c3851a870d22\" class=\"plotly-graph-div\" style=\"height:525px; width:100%;\"></div>            <script type=\"text/javascript\">                require([\"plotly\"], function(Plotly) {                    window.PLOTLYENV=window.PLOTLYENV || {};                                    if (document.getElementById(\"4f4eed61-1d48-4d57-b680-c3851a870d22\")) {                    Plotly.newPlot(                        \"4f4eed61-1d48-4d57-b680-c3851a870d22\",                        [{\"hovertemplate\":\"Year=%{x}<br>CV=%{y}<extra></extra>\",\"legendgroup\":\"\",\"line\":{\"color\":\"#636efa\",\"dash\":\"solid\"},\"marker\":{\"symbol\":\"circle\"},\"mode\":\"lines\",\"name\":\"\",\"orientation\":\"v\",\"showlegend\":false,\"x\":[2019,2019,2020,2020,2020,2020,2017,2017,2017,2017,2018,2018,2018,2018,2019,2019,2019,2019,2020,2020,2020,2020,2016,2016,2016,2016,2020,2020,2020,2020,2016,2016,2019,2019,2019,2019,2020,2020,2020,2020,2020,2020,2016,2016,2019,2019,2020,2020,2016,2016,2017,2017,2018,2018,2016,2016,2017,2017,2016,2016,2017,2017,2018,2018,2018,2018,2019,2019,2019,2019,2020,2020,2020,2020,2020,2020,2018,2018,2016,2016,2017,2017,2018,2018,2019,2019,2020,2020,2018,2018,2019,2019,2016,2016,2016,2016,2017,2017,2017,2017,2018,2018,2018,2018,2019,2019,2019,2019,2020,2020,2020,2020,2016,2016,2016,2016,2017,2017,2017,2017,2018,2018,2018,2018,2019,2019,2019,2019,2020,2020,2020,2020,2020,2020,2017,2017,2018,2018,2018,2018,2016,2016,2016,2016,2017,2017,2017,2017,2018,2018,2018,2018,2019,2019,2019,2019,2020,2020,2020,2020,2018,2018,2019,2019,2020,2020,2018,2018,2019,2019,2020,2020,2020,2020,2020,2020,2016,2016,2017,2017,2018,2018,2017,2017,2017,2017,2018,2018,2018,2018,2019,2019,2019,2019,2020,2020,2020,2020,2016,2016,2016,2016,2017,2017,2017,2017,2018,2018,2018,2018,2019,2019,2019,2019,2020,2020,2020,2020,2016,2016,2016,2016,2019,2019,2020,2020,2020,2020,2018,2018,2017,2017,2018,2018,2020,2020,2016,2016,2016,2016,2017,2017,2017,2017,2018,2018,2019,2019,2019,2019,2020,2020,2020,2020,2018,2018,2019,2019,2016,2016,2016,2016,2017,2017,2017,2017,2018,2018,2018,2018,2019,2019,2020,2020,2020,2020,2019,2019,2019,2019,2019,2019,2020,2020,2020,2020,2020,2020,2019,2019,2020,2020,2020,2020,2019,2019,2019,2019,2019,2019,2020,2020,2020,2020,2019,2019,2019,2019,2020,2020,2020,2020,2019,2019,2016,2016,2016,2016,2017,2017,2017,2017,2019,2019,2020,2020,2020,2020,2018,2018,2018,2018,2019,2019,2016,2016,2016,2016,2017,2017,2017,2017,2019,2019,2020,2020,2020,2020,2018,2018,2018,2018,2019,2019,2016,2016,2017,2017,2019,2019,2020,2020,2020,2020,2018,2018,2018,2018,2019,2019,2020,2020,2020,2020,2019,2019,2019,2019,2020,2020,2016,2016,2017,2017,2018,2018,2020,2020,2019,2019,2018,2018,2018,2018,2019,2019,2020,2020,2020,2020,2016,2016,2016,2016,2017,2017,2017,2017,2019,2019,2016,2016,2016,2016,2017,2017,2017,2017,2018,2018,2018,2018,2019,2019,2020,2020,2020,2020,2016,2016,2018,2018,2019,2019,2020,2020,2018,2018,2018,2018,2018,2018,2019,2019,2020,2020,2020,2020,2016,2016,2016,2016,2017,2017,2017,2017,2018,2018,2018,2018,2019,2019,2020,2020,2020,2020,2016,2016,2016,2016,2017,2017,2017,2017,2018,2018,2018,2018,2019,2019,2020,2020,2020,2020,2019,2019,2020,2020,2020,2020,2020,2020,2017,2017,2018,2018,2018,2018,2018,2018,2019,2019,2020,2020,2020,2020,2016,2016,2016,2016,2017,2017,2017,2017],\"xaxis\":\"x\",\"y\":[2.7,4.6,8.2,8.2,2.1,1.9,6.8,6.6,3.9,3.1,6.1,8.0,3.1,3.0,4.0,6.2,1.9,3.1,9.3,8.0,7.4,7.1,5.2,6.8,1.5,1.7,9.8,8.8,8.2,8.1,2.0,6.1,7.3,10.4,3.9,4.0,6.9,6.4,2.7,2.9,4.1,4.5,5.1,4.0,2.7,5.1,4.2,4.5,3.5,3.2,3.9,3.6,3.1,3.6,5.6,5.5,7.2,6.1,7.9,5.0,7.1,4.8,7.8,7.1,6.7,6.9,5.6,6.6,6.3,6.6,8.0,7.9,6.0,6.7,5.5,6.5,2.8,1.5,3.9,3.1,5.1,5.0,3.5,3.6,3.3,3.2,3.8,3.8,10.8,13.7,6.9,7.6,5.5,4.9,4.6,5.1,6.5,4.5,4.7,4.8,4.9,5.8,5.3,5.4,5.2,6.6,3.4,4.3,7.2,6.4,4.7,4.4,2.1,1.7,1.6,2.1,2.6,1.5,3.2,2.5,2.1,2.8,3.5,3.9,2.3,3.6,2.8,3.6,2.9,3.1,3.1,2.7,4.5,4.4,4.4,4.1,5.3,5.5,2.3,4.9,5.8,3.9,4.1,3.8,6.3,3.9,3.9,3.0,4.7,5.3,4.1,4.9,5.3,8.9,2.8,5.2,8.1,8.3,6.5,6.4,6.7,3.8,3.0,5.4,8.2,6.2,7.0,8.0,4.3,8.9,9.0,9.4,8.8,9.9,8.5,3.6,12.1,17.1,8.3,6.9,8.6,7.6,4.6,3.9,3.1,2.6,4.2,4.4,3.8,3.8,3.6,5.1,3.2,4.4,4.9,5.1,5.0,4.9,2.9,3.0,3.7,3.1,3.1,3.2,3.2,2.7,4.5,5.2,2.8,3.0,5.7,5.4,2.8,3.8,4.2,4.2,3.1,3.2,3.9,3.1,3.0,2.9,4.6,3.9,4.8,5.0,3.8,3.1,3.0,3.2,3.5,3.9,3.6,5.1,12.4,11.8,8.7,7.4,5.5,5.1,10.2,9.5,5.6,6.6,6.4,6.0,4.6,8.7,6.8,7.0,12.0,8.9,5.5,4.9,4.9,5.8,4.8,5.0,5.2,4.7,4.7,4.1,5.0,4.7,3.8,3.5,4.9,5.4,3.6,4.0,3.8,4.1,6.1,4.3,9.3,8.4,3.6,5.4,3.7,6.1,3.5,4.0,6.2,6.3,4.1,4.0,4.5,4.6,2.7,2.3,2.8,2.8,2.3,2.1,6.3,10.3,3.3,7.0,3.3,3.5,4.5,4.6,4.2,4.1,3.9,4.0,3.3,3.1,8.5,9.2,3.7,4.1,2.4,3.8,2.5,2.5,2.9,2.2,3.7,2.6,2.9,2.4,3.0,3.7,3.7,4.2,3.9,3.9,2.8,3.9,2.6,3.2,2.6,2.9,2.6,1.6,2.6,2.0,2.1,1.4,2.0,1.5,2.4,3.3,3.3,2.9,3.3,3.3,2.0,2.0,1.9,2.1,3.2,3.8,2.8,2.2,3.1,2.0,2.8,3.1,6.5,4.9,4.9,4.8,2.9,3.4,4.1,3.0,2.9,4.1,2.7,3.7,3.4,3.6,6.7,5.2,6.1,11.0,5.6,6.0,5.6,3.9,6.8,8.6,7.3,7.8,5.6,4.3,4.4,5.2,3.5,4.4,3.5,3.8,3.8,3.8,5.5,4.5,3.8,3.5,3.9,3.3,3.4,3.7,5.1,7.3,4.3,4.2,8.5,7.1,5.1,4.2,4.3,3.7,4.3,5.7,3.9,4.0,5.4,4.8,3.8,5.3,2.9,4.6,5.2,5.6,4.5,4.8,4.9,3.6,5.8,6.1,10.8,13.0,5.5,5.1,5.5,6.5,4.4,6.8,1.8,2.1,2.7,3.4,5.1,5.1,2.3,2.4,4.8,4.7,5.1,6.2,5.5,4.5,4.5,3.2,4.2,5.2,5.2,4.4,6.6,7.1,4.4,4.5,8.0,7.6,4.1,3.8,2.8,2.4,3.7,3.8,2.7,2.6,3.4,4.6,2.9,2.7,2.4,2.9,3.5,3.7,2.7,2.8,3.9,2.6,4.8,5.2,3.4,3.7,3.1,2.7,3.5,2.9,2.9,3.4,4.3,3.9,3.0,4.0,2.4,5.4,5.1,4.4,4.2,6.6,4.2,3.2,3.5,4.0,2.2,2.4,3.7,2.8],\"yaxis\":\"y\",\"type\":\"scatter\"}],                        {\"template\":{\"data\":{\"histogram2dcontour\":[{\"type\":\"histogram2dcontour\",\"colorbar\":{\"outlinewidth\":0,\"ticks\":\"\"},\"colorscale\":[[0.0,\"#0d0887\"],[0.1111111111111111,\"#46039f\"],[0.2222222222222222,\"#7201a8\"],[0.3333333333333333,\"#9c179e\"],[0.4444444444444444,\"#bd3786\"],[0.5555555555555556,\"#d8576b\"],[0.6666666666666666,\"#ed7953\"],[0.7777777777777778,\"#fb9f3a\"],[0.8888888888888888,\"#fdca26\"],[1.0,\"#f0f921\"]]}],\"choropleth\":[{\"type\":\"choropleth\",\"colorbar\":{\"outlinewidth\":0,\"ticks\":\"\"}}],\"histogram2d\":[{\"type\":\"histogram2d\",\"colorbar\":{\"outlinewidth\":0,\"ticks\":\"\"},\"colorscale\":[[0.0,\"#0d0887\"],[0.1111111111111111,\"#46039f\"],[0.2222222222222222,\"#7201a8\"],[0.3333333333333333,\"#9c179e\"],[0.4444444444444444,\"#bd3786\"],[0.5555555555555556,\"#d8576b\"],[0.6666666666666666,\"#ed7953\"],[0.7777777777777778,\"#fb9f3a\"],[0.8888888888888888,\"#fdca26\"],[1.0,\"#f0f921\"]]}],\"heatmap\":[{\"type\":\"heatmap\",\"colorbar\":{\"outlinewidth\":0,\"ticks\":\"\"},\"colorscale\":[[0.0,\"#0d0887\"],[0.1111111111111111,\"#46039f\"],[0.2222222222222222,\"#7201a8\"],[0.3333333333333333,\"#9c179e\"],[0.4444444444444444,\"#bd3786\"],[0.5555555555555556,\"#d8576b\"],[0.6666666666666666,\"#ed7953\"],[0.7777777777777778,\"#fb9f3a\"],[0.8888888888888888,\"#fdca26\"],[1.0,\"#f0f921\"]]}],\"heatmapgl\":[{\"type\":\"heatmapgl\",\"colorbar\":{\"outlinewidth\":0,\"ticks\":\"\"},\"colorscale\":[[0.0,\"#0d0887\"],[0.1111111111111111,\"#46039f\"],[0.2222222222222222,\"#7201a8\"],[0.3333333333333333,\"#9c179e\"],[0.4444444444444444,\"#bd3786\"],[0.5555555555555556,\"#d8576b\"],[0.6666666666666666,\"#ed7953\"],[0.7777777777777778,\"#fb9f3a\"],[0.8888888888888888,\"#fdca26\"],[1.0,\"#f0f921\"]]}],\"contourcarpet\":[{\"type\":\"contourcarpet\",\"colorbar\":{\"outlinewidth\":0,\"ticks\":\"\"}}],\"contour\":[{\"type\":\"contour\",\"colorbar\":{\"outlinewidth\":0,\"ticks\":\"\"},\"colorscale\":[[0.0,\"#0d0887\"],[0.1111111111111111,\"#46039f\"],[0.2222222222222222,\"#7201a8\"],[0.3333333333333333,\"#9c179e\"],[0.4444444444444444,\"#bd3786\"],[0.5555555555555556,\"#d8576b\"],[0.6666666666666666,\"#ed7953\"],[0.7777777777777778,\"#fb9f3a\"],[0.8888888888888888,\"#fdca26\"],[1.0,\"#f0f921\"]]}],\"surface\":[{\"type\":\"surface\",\"colorbar\":{\"outlinewidth\":0,\"ticks\":\"\"},\"colorscale\":[[0.0,\"#0d0887\"],[0.1111111111111111,\"#46039f\"],[0.2222222222222222,\"#7201a8\"],[0.3333333333333333,\"#9c179e\"],[0.4444444444444444,\"#bd3786\"],[0.5555555555555556,\"#d8576b\"],[0.6666666666666666,\"#ed7953\"],[0.7777777777777778,\"#fb9f3a\"],[0.8888888888888888,\"#fdca26\"],[1.0,\"#f0f921\"]]}],\"mesh3d\":[{\"type\":\"mesh3d\",\"colorbar\":{\"outlinewidth\":0,\"ticks\":\"\"}}],\"scatter\":[{\"fillpattern\":{\"fillmode\":\"overlay\",\"size\":10,\"solidity\":0.2},\"type\":\"scatter\"}],\"parcoords\":[{\"type\":\"parcoords\",\"line\":{\"colorbar\":{\"outlinewidth\":0,\"ticks\":\"\"}}}],\"scatterpolargl\":[{\"type\":\"scatterpolargl\",\"marker\":{\"colorbar\":{\"outlinewidth\":0,\"ticks\":\"\"}}}],\"bar\":[{\"error_x\":{\"color\":\"#2a3f5f\"},\"error_y\":{\"color\":\"#2a3f5f\"},\"marker\":{\"line\":{\"color\":\"#E5ECF6\",\"width\":0.5},\"pattern\":{\"fillmode\":\"overlay\",\"size\":10,\"solidity\":0.2}},\"type\":\"bar\"}],\"scattergeo\":[{\"type\":\"scattergeo\",\"marker\":{\"colorbar\":{\"outlinewidth\":0,\"ticks\":\"\"}}}],\"scatterpolar\":[{\"type\":\"scatterpolar\",\"marker\":{\"colorbar\":{\"outlinewidth\":0,\"ticks\":\"\"}}}],\"histogram\":[{\"marker\":{\"pattern\":{\"fillmode\":\"overlay\",\"size\":10,\"solidity\":0.2}},\"type\":\"histogram\"}],\"scattergl\":[{\"type\":\"scattergl\",\"marker\":{\"colorbar\":{\"outlinewidth\":0,\"ticks\":\"\"}}}],\"scatter3d\":[{\"type\":\"scatter3d\",\"line\":{\"colorbar\":{\"outlinewidth\":0,\"ticks\":\"\"}},\"marker\":{\"colorbar\":{\"outlinewidth\":0,\"ticks\":\"\"}}}],\"scattermapbox\":[{\"type\":\"scattermapbox\",\"marker\":{\"colorbar\":{\"outlinewidth\":0,\"ticks\":\"\"}}}],\"scatterternary\":[{\"type\":\"scatterternary\",\"marker\":{\"colorbar\":{\"outlinewidth\":0,\"ticks\":\"\"}}}],\"scattercarpet\":[{\"type\":\"scattercarpet\",\"marker\":{\"colorbar\":{\"outlinewidth\":0,\"ticks\":\"\"}}}],\"carpet\":[{\"aaxis\":{\"endlinecolor\":\"#2a3f5f\",\"gridcolor\":\"white\",\"linecolor\":\"white\",\"minorgridcolor\":\"white\",\"startlinecolor\":\"#2a3f5f\"},\"baxis\":{\"endlinecolor\":\"#2a3f5f\",\"gridcolor\":\"white\",\"linecolor\":\"white\",\"minorgridcolor\":\"white\",\"startlinecolor\":\"#2a3f5f\"},\"type\":\"carpet\"}],\"table\":[{\"cells\":{\"fill\":{\"color\":\"#EBF0F8\"},\"line\":{\"color\":\"white\"}},\"header\":{\"fill\":{\"color\":\"#C8D4E3\"},\"line\":{\"color\":\"white\"}},\"type\":\"table\"}],\"barpolar\":[{\"marker\":{\"line\":{\"color\":\"#E5ECF6\",\"width\":0.5},\"pattern\":{\"fillmode\":\"overlay\",\"size\":10,\"solidity\":0.2}},\"type\":\"barpolar\"}],\"pie\":[{\"automargin\":true,\"type\":\"pie\"}]},\"layout\":{\"autotypenumbers\":\"strict\",\"colorway\":[\"#636efa\",\"#EF553B\",\"#00cc96\",\"#ab63fa\",\"#FFA15A\",\"#19d3f3\",\"#FF6692\",\"#B6E880\",\"#FF97FF\",\"#FECB52\"],\"font\":{\"color\":\"#2a3f5f\"},\"hovermode\":\"closest\",\"hoverlabel\":{\"align\":\"left\"},\"paper_bgcolor\":\"white\",\"plot_bgcolor\":\"#E5ECF6\",\"polar\":{\"bgcolor\":\"#E5ECF6\",\"angularaxis\":{\"gridcolor\":\"white\",\"linecolor\":\"white\",\"ticks\":\"\"},\"radialaxis\":{\"gridcolor\":\"white\",\"linecolor\":\"white\",\"ticks\":\"\"}},\"ternary\":{\"bgcolor\":\"#E5ECF6\",\"aaxis\":{\"gridcolor\":\"white\",\"linecolor\":\"white\",\"ticks\":\"\"},\"baxis\":{\"gridcolor\":\"white\",\"linecolor\":\"white\",\"ticks\":\"\"},\"caxis\":{\"gridcolor\":\"white\",\"linecolor\":\"white\",\"ticks\":\"\"}},\"coloraxis\":{\"colorbar\":{\"outlinewidth\":0,\"ticks\":\"\"}},\"colorscale\":{\"sequential\":[[0.0,\"#0d0887\"],[0.1111111111111111,\"#46039f\"],[0.2222222222222222,\"#7201a8\"],[0.3333333333333333,\"#9c179e\"],[0.4444444444444444,\"#bd3786\"],[0.5555555555555556,\"#d8576b\"],[0.6666666666666666,\"#ed7953\"],[0.7777777777777778,\"#fb9f3a\"],[0.8888888888888888,\"#fdca26\"],[1.0,\"#f0f921\"]],\"sequentialminus\":[[0.0,\"#0d0887\"],[0.1111111111111111,\"#46039f\"],[0.2222222222222222,\"#7201a8\"],[0.3333333333333333,\"#9c179e\"],[0.4444444444444444,\"#bd3786\"],[0.5555555555555556,\"#d8576b\"],[0.6666666666666666,\"#ed7953\"],[0.7777777777777778,\"#fb9f3a\"],[0.8888888888888888,\"#fdca26\"],[1.0,\"#f0f921\"]],\"diverging\":[[0,\"#8e0152\"],[0.1,\"#c51b7d\"],[0.2,\"#de77ae\"],[0.3,\"#f1b6da\"],[0.4,\"#fde0ef\"],[0.5,\"#f7f7f7\"],[0.6,\"#e6f5d0\"],[0.7,\"#b8e186\"],[0.8,\"#7fbc41\"],[0.9,\"#4d9221\"],[1,\"#276419\"]]},\"xaxis\":{\"gridcolor\":\"white\",\"linecolor\":\"white\",\"ticks\":\"\",\"title\":{\"standoff\":15},\"zerolinecolor\":\"white\",\"automargin\":true,\"zerolinewidth\":2},\"yaxis\":{\"gridcolor\":\"white\",\"linecolor\":\"white\",\"ticks\":\"\",\"title\":{\"standoff\":15},\"zerolinecolor\":\"white\",\"automargin\":true,\"zerolinewidth\":2},\"scene\":{\"xaxis\":{\"backgroundcolor\":\"#E5ECF6\",\"gridcolor\":\"white\",\"linecolor\":\"white\",\"showbackground\":true,\"ticks\":\"\",\"zerolinecolor\":\"white\",\"gridwidth\":2},\"yaxis\":{\"backgroundcolor\":\"#E5ECF6\",\"gridcolor\":\"white\",\"linecolor\":\"white\",\"showbackground\":true,\"ticks\":\"\",\"zerolinecolor\":\"white\",\"gridwidth\":2},\"zaxis\":{\"backgroundcolor\":\"#E5ECF6\",\"gridcolor\":\"white\",\"linecolor\":\"white\",\"showbackground\":true,\"ticks\":\"\",\"zerolinecolor\":\"white\",\"gridwidth\":2}},\"shapedefaults\":{\"line\":{\"color\":\"#2a3f5f\"}},\"annotationdefaults\":{\"arrowcolor\":\"#2a3f5f\",\"arrowhead\":0,\"arrowwidth\":1},\"geo\":{\"bgcolor\":\"white\",\"landcolor\":\"#E5ECF6\",\"subunitcolor\":\"white\",\"showland\":true,\"showlakes\":true,\"lakecolor\":\"white\"},\"title\":{\"x\":0.05},\"mapbox\":{\"style\":\"light\"}}},\"xaxis\":{\"anchor\":\"y\",\"domain\":[0.0,1.0],\"title\":{\"text\":\"Year\"}},\"yaxis\":{\"anchor\":\"x\",\"domain\":[0.0,1.0],\"title\":{\"text\":\"CV\"}},\"legend\":{\"tracegroupgap\":0},\"title\":{\"text\":\"test\"}},                        {\"responsive\": true}                    ).then(function(){\n",
       "                            \n",
       "var gd = document.getElementById('4f4eed61-1d48-4d57-b680-c3851a870d22');\n",
       "var x = new MutationObserver(function (mutations, observer) {{\n",
       "        var display = window.getComputedStyle(gd).display;\n",
       "        if (!display || display === 'none') {{\n",
       "            console.log([gd, 'removed!']);\n",
       "            Plotly.purge(gd);\n",
       "            observer.disconnect();\n",
       "        }}\n",
       "}});\n",
       "\n",
       "// Listen for the removal of the full notebook cells\n",
       "var notebookContainer = gd.closest('#notebook-container');\n",
       "if (notebookContainer) {{\n",
       "    x.observe(notebookContainer, {childList: true});\n",
       "}}\n",
       "\n",
       "// Listen for the clearing of the current output cell\n",
       "var outputEl = gd.closest('.output');\n",
       "if (outputEl) {{\n",
       "    x.observe(outputEl, {childList: true});\n",
       "}}\n",
       "\n",
       "                        })                };                });            </script>        </div>"
      ]
     },
     "metadata": {},
     "output_type": "display_data"
    }
   ],
   "source": [
    "fig = px.line(df, x=\"Year\", y=\"CV\", title='test')\n",
    "fig.show()"
   ]
  },
  {
   "cell_type": "code",
   "execution_count": 10,
   "id": "b6993e59",
   "metadata": {},
   "outputs": [],
   "source": [
    "def plotCV(method):\n",
    "    df3.loc[[method]].iplot(\n",
    "                    xTitle='Year',\n",
    "                    x = 'Year',\n",
    "                    y = 'CV',\n",
    "                    mode='lines+markers',\n",
    "                    yTitle='CV {}'.format(method)\n",
    "                    \n",
    "        \n",
    "                     )"
   ]
  },
  {
   "cell_type": "code",
   "execution_count": 11,
   "id": "e0c93fcb",
   "metadata": {},
   "outputs": [
    {
     "data": {
      "application/vnd.jupyter.widget-view+json": {
       "model_id": "9a2f6f163080443aa8e568a3c77b4ab2",
       "version_major": 2,
       "version_minor": 0
      },
      "text/plain": [
       "interactive(children=(Dropdown(description='method', options=('(part of cobas 6000/8000) Roche Diagnostics cob…"
      ]
     },
     "metadata": {},
     "output_type": "display_data"
    },
    {
     "data": {
      "text/plain": [
       "<function __main__.plotCV(method)>"
      ]
     },
     "execution_count": 11,
     "metadata": {},
     "output_type": "execute_result"
    }
   ],
   "source": [
    "interact(plotCV, method=df3.index.unique())"
   ]
  },
  {
   "cell_type": "code",
   "execution_count": 12,
   "id": "df947a99",
   "metadata": {},
   "outputs": [],
   "source": [
    "def plotBias(method):\n",
    "    df3.loc[[method]].iplot(\n",
    "                    xTitle='Year',\n",
    "                    x = 'Year',\n",
    "                    y = 'Bias',\n",
    "                    mode='lines+markers',\n",
    "                    yTitle='Bias {}'.format(method)\n",
    "                    \n",
    "        \n",
    "                     )"
   ]
  },
  {
   "cell_type": "code",
   "execution_count": 13,
   "id": "d5fd46f8",
   "metadata": {},
   "outputs": [
    {
     "data": {
      "application/vnd.jupyter.widget-view+json": {
       "model_id": "c8b80858ba8641449d7e63bfc0ad9420",
       "version_major": 2,
       "version_minor": 0
      },
      "text/plain": [
       "interactive(children=(Dropdown(description='method', options=('(part of cobas 6000/8000) Roche Diagnostics cob…"
      ]
     },
     "metadata": {},
     "output_type": "display_data"
    },
    {
     "data": {
      "text/plain": [
       "<function __main__.plotBias(method)>"
      ]
     },
     "execution_count": 13,
     "metadata": {},
     "output_type": "execute_result"
    }
   ],
   "source": [
    "interact(plotBias, method=df3.index.unique())"
   ]
  },
  {
   "cell_type": "code",
   "execution_count": 14,
   "id": "c7bbb65e",
   "metadata": {},
   "outputs": [],
   "source": [
    "def plotTotalError(method):\n",
    "    df3.loc[[method]].iplot(\n",
    "                    xTitle='Year',\n",
    "                    x = 'Year',\n",
    "                    y = 'Total Error',\n",
    "                    mode='lines+markers',\n",
    "                    yTitle='Total Error {}'.format(method)\n",
    "                    \n",
    "        \n",
    "                     )"
   ]
  },
  {
   "cell_type": "code",
   "execution_count": 15,
   "id": "db2dd125",
   "metadata": {},
   "outputs": [
    {
     "data": {
      "application/vnd.jupyter.widget-view+json": {
       "model_id": "7c0e6b318cfc49c09892b1a9755a421c",
       "version_major": 2,
       "version_minor": 0
      },
      "text/plain": [
       "interactive(children=(Dropdown(description='method', options=('(part of cobas 6000/8000) Roche Diagnostics cob…"
      ]
     },
     "metadata": {},
     "output_type": "display_data"
    },
    {
     "data": {
      "text/plain": [
       "<function __main__.plotTotalError(method)>"
      ]
     },
     "execution_count": 15,
     "metadata": {},
     "output_type": "execute_result"
    }
   ],
   "source": [
    "interact(plotTotalError, method=df3.index.unique())"
   ]
  },
  {
   "cell_type": "code",
   "execution_count": 16,
   "id": "8a17692b",
   "metadata": {},
   "outputs": [],
   "source": [
    "def plotEverything(method):\n",
    "    df5.loc[[method]].iplot(\n",
    "                    xTitle='Year',\n",
    "                    x = 'Year',\n",
    "                    mode='lines+markers',\n",
    "                    yTitle='Total Error {}'.format(method)\n",
    "                    \n",
    "        \n",
    "                     )"
   ]
  },
  {
   "cell_type": "code",
   "execution_count": 17,
   "id": "bbf8dd30",
   "metadata": {},
   "outputs": [
    {
     "data": {
      "application/vnd.jupyter.widget-view+json": {
       "model_id": "028fe024be834dfda7038d294c7ecae3",
       "version_major": 2,
       "version_minor": 0
      },
      "text/plain": [
       "interactive(children=(Dropdown(description='method', options=('(part of cobas 6000/8000) Roche Diagnostics cob…"
      ]
     },
     "metadata": {},
     "output_type": "display_data"
    },
    {
     "data": {
      "text/plain": [
       "<function __main__.plotEverything(method)>"
      ]
     },
     "execution_count": 17,
     "metadata": {},
     "output_type": "execute_result"
    }
   ],
   "source": [
    "interact(plotEverything, method=df3.index.unique())"
   ]
  },
  {
   "cell_type": "code",
   "execution_count": 18,
   "id": "8564e626",
   "metadata": {},
   "outputs": [],
   "source": [
    "def plotBiasScatter(method):\n",
    "    df4.loc[[method]].iplot(\n",
    "                    xTitle='Year',\n",
    "                    x = 'Year',\n",
    "                    y = 'Bias',\n",
    "                    mode='markers',\n",
    "                    yTitle='Bias {}'.format(method)\n",
    "                    \n",
    "        \n",
    "                     )"
   ]
  },
  {
   "cell_type": "code",
   "execution_count": 19,
   "id": "c90b8725",
   "metadata": {},
   "outputs": [
    {
     "data": {
      "application/vnd.jupyter.widget-view+json": {
       "model_id": "b2e837f615c34df5bc1c20afbd7476bb",
       "version_major": 2,
       "version_minor": 0
      },
      "text/plain": [
       "interactive(children=(Dropdown(description='method', options=('(part of cobas 6000/8000) Roche Diagnostics cob…"
      ]
     },
     "metadata": {},
     "output_type": "display_data"
    },
    {
     "data": {
      "text/plain": [
       "<function __main__.plotBiasScatter(method)>"
      ]
     },
     "execution_count": 19,
     "metadata": {},
     "output_type": "execute_result"
    }
   ],
   "source": [
    "interact(plotBiasScatter, method=df3.index.unique())"
   ]
  },
  {
   "cell_type": "code",
   "execution_count": 20,
   "id": "fa508115",
   "metadata": {},
   "outputs": [
    {
     "data": {
      "application/vnd.plotly.v1+json": {
       "config": {
        "plotlyServerURL": "https://plot.ly"
       },
       "data": [
        {
         "alignmentgroup": "True",
         "boxpoints": "all",
         "hovertemplate": "Year=%{x}<br>Bias=%{y}<extra></extra>",
         "legendgroup": "2019",
         "marker": {
          "color": "#636efa"
         },
         "name": "2019",
         "notched": false,
         "offsetgroup": "2019",
         "orientation": "v",
         "showlegend": true,
         "type": "box",
         "x": [
          2019,
          2019,
          2019,
          2019,
          2019,
          2019,
          2019,
          2019,
          2019,
          2019,
          2019,
          2019,
          2019,
          2019,
          2019,
          2019,
          2019,
          2019,
          2019,
          2019,
          2019,
          2019,
          2019,
          2019,
          2019,
          2019,
          2019,
          2019,
          2019,
          2019,
          2019,
          2019,
          2019,
          2019,
          2019,
          2019,
          2019,
          2019
         ],
         "x0": " ",
         "xaxis": "x",
         "y": [
          3.15,
          -0.15,
          -2.725,
          -1.65,
          2.25,
          0,
          2.025,
          -0.5750000000000001,
          1.625,
          -4.55,
          1.25,
          -2.25,
          0.07499999999999998,
          -0.5750000000000001,
          -0.75,
          -0.275,
          3.45,
          1.7000000000000002,
          1.9500000000000002,
          0.4,
          1.9,
          1,
          2.1500000000000004,
          1.675,
          0.125,
          0.24999999999999997,
          -0.275,
          0.45000000000000007,
          1.7,
          2.2,
          1.75,
          1.9000000000000001,
          -5.550000000000001,
          1.6,
          -0.15,
          2,
          2.1500000000000004,
          0.65
         ],
         "y0": " ",
         "yaxis": "y"
        },
        {
         "alignmentgroup": "True",
         "boxpoints": "all",
         "hovertemplate": "Year=%{x}<br>Bias=%{y}<extra></extra>",
         "legendgroup": "2017",
         "marker": {
          "color": "#EF553B"
         },
         "name": "2017",
         "notched": false,
         "offsetgroup": "2017",
         "orientation": "v",
         "showlegend": true,
         "type": "box",
         "x": [
          2017,
          2017,
          2017,
          2017,
          2017,
          2017,
          2017,
          2017,
          2017,
          2017,
          2017,
          2017,
          2017,
          2017,
          2017,
          2017,
          2017,
          2017,
          2017,
          2017,
          2017,
          2017,
          2017,
          2017
         ],
         "x0": " ",
         "xaxis": "x",
         "y": [
          -1.575,
          -0.15000000000000002,
          2.1,
          1,
          0.02499999999999991,
          -0.275,
          1.625,
          0,
          0.25,
          0.525,
          0.6,
          0,
          1.4,
          0.825,
          0.025000000000000022,
          0.3,
          0,
          2.85,
          3.2750000000000004,
          1.5250000000000001,
          1.325,
          0.65,
          0.6,
          0.8500000000000001
         ],
         "y0": " ",
         "yaxis": "y"
        },
        {
         "alignmentgroup": "True",
         "boxpoints": "all",
         "hovertemplate": "Year=%{x}<br>Bias=%{y}<extra></extra>",
         "legendgroup": "2018",
         "marker": {
          "color": "#00cc96"
         },
         "name": "2018",
         "notched": false,
         "offsetgroup": "2018",
         "orientation": "v",
         "showlegend": true,
         "type": "box",
         "x": [
          2018,
          2018,
          2018,
          2018,
          2018,
          2018,
          2018,
          2018,
          2018,
          2018,
          2018,
          2018,
          2018,
          2018,
          2018,
          2018,
          2018,
          2018,
          2018,
          2018,
          2018,
          2018,
          2018,
          2018,
          2018,
          2018,
          2018,
          2018,
          2018,
          2018,
          2018,
          2018
         ],
         "x0": " ",
         "xaxis": "x",
         "y": [
          -2.225,
          -0.6499999999999999,
          1.25,
          -0.1,
          0.09999999999999998,
          0.7,
          -0.42500000000000004,
          2.475,
          1.4,
          -0.35,
          -1.6,
          -1.35,
          2.4,
          -0.1,
          0.024999999999999994,
          -1,
          -0.2,
          -0.5,
          0.725,
          0.2,
          0.125,
          -0.675,
          1.9500000000000002,
          0.8500000000000001,
          1.8,
          -3.75,
          0.55,
          1.6,
          1.35,
          1.175,
          0.7,
          0.35000000000000003
         ],
         "y0": " ",
         "yaxis": "y"
        },
        {
         "alignmentgroup": "True",
         "boxpoints": "all",
         "hovertemplate": "Year=%{x}<br>Bias=%{y}<extra></extra>",
         "legendgroup": "2016",
         "marker": {
          "color": "#ab63fa"
         },
         "name": "2016",
         "notched": false,
         "offsetgroup": "2016",
         "orientation": "v",
         "showlegend": true,
         "type": "box",
         "x": [
          2016,
          2016,
          2016,
          2016,
          2016,
          2016,
          2016,
          2016,
          2016,
          2016,
          2016,
          2016,
          2016,
          2016,
          2016,
          2016,
          2016,
          2016,
          2016,
          2016,
          2016,
          2016,
          2016,
          2016
         ],
         "x0": " ",
         "xaxis": "x",
         "y": [
          -2.0749999999999997,
          -1.8,
          1.7999999999999998,
          -0.7,
          0.5,
          -1.05,
          -0.19999999999999998,
          -0.6000000000000001,
          1.125,
          -4.699999999999999,
          -0.07500000000000001,
          -0.2,
          -0.375,
          -0.525,
          -0.95,
          -0.7,
          -0.8500000000000001,
          3.5,
          2.3249999999999997,
          0.175,
          -0.3,
          0.35,
          0.125,
          0.15000000000000002
         ],
         "y0": " ",
         "yaxis": "y"
        },
        {
         "alignmentgroup": "True",
         "boxpoints": "all",
         "hovertemplate": "Year=%{x}<br>Bias=%{y}<extra></extra>",
         "legendgroup": "2020",
         "marker": {
          "color": "#FFA15A"
         },
         "name": "2020",
         "notched": false,
         "offsetgroup": "2020",
         "orientation": "v",
         "showlegend": true,
         "type": "box",
         "x": [
          2020,
          2020,
          2020,
          2020,
          2020,
          2020,
          2020,
          2020,
          2020,
          2020,
          2020,
          2020,
          2020,
          2020,
          2020,
          2020,
          2020,
          2020,
          2020,
          2020,
          2020,
          2020,
          2020,
          2020,
          2020,
          2020,
          2020,
          2020,
          2020,
          2020,
          2020,
          2020,
          2020,
          2020,
          2020,
          2020,
          2020,
          2020,
          2020,
          2020,
          2020,
          2020,
          2020
         ],
         "x0": " ",
         "xaxis": "x",
         "y": [
          -0.875,
          2.15,
          -1.5,
          -1.4,
          0,
          -0.8500000000000001,
          1.95,
          0.44999999999999996,
          1.2000000000000002,
          0.7000000000000001,
          0.6000000000000001,
          0.175,
          -0.2,
          1.35,
          -0.4,
          1.3,
          0.35,
          0.875,
          0.32499999999999996,
          1.55,
          0.625,
          1.325,
          3.5,
          1.3,
          1.475,
          2.85,
          1.275,
          0.25,
          -0.15,
          0.17500000000000002,
          -0.175,
          0.25,
          0.8500000000000001,
          0.05,
          3.075,
          2.825,
          2.55,
          1.375,
          1.05,
          1.4,
          1.225,
          1.25,
          0.725
         ],
         "y0": " ",
         "yaxis": "y"
        }
       ],
       "layout": {
        "boxmode": "overlay",
        "legend": {
         "title": {
          "text": "Year"
         },
         "tracegroupgap": 0
        },
        "template": {
         "data": {
          "bar": [
           {
            "error_x": {
             "color": "#2a3f5f"
            },
            "error_y": {
             "color": "#2a3f5f"
            },
            "marker": {
             "line": {
              "color": "#E5ECF6",
              "width": 0.5
             },
             "pattern": {
              "fillmode": "overlay",
              "size": 10,
              "solidity": 0.2
             }
            },
            "type": "bar"
           }
          ],
          "barpolar": [
           {
            "marker": {
             "line": {
              "color": "#E5ECF6",
              "width": 0.5
             },
             "pattern": {
              "fillmode": "overlay",
              "size": 10,
              "solidity": 0.2
             }
            },
            "type": "barpolar"
           }
          ],
          "carpet": [
           {
            "aaxis": {
             "endlinecolor": "#2a3f5f",
             "gridcolor": "white",
             "linecolor": "white",
             "minorgridcolor": "white",
             "startlinecolor": "#2a3f5f"
            },
            "baxis": {
             "endlinecolor": "#2a3f5f",
             "gridcolor": "white",
             "linecolor": "white",
             "minorgridcolor": "white",
             "startlinecolor": "#2a3f5f"
            },
            "type": "carpet"
           }
          ],
          "choropleth": [
           {
            "colorbar": {
             "outlinewidth": 0,
             "ticks": ""
            },
            "type": "choropleth"
           }
          ],
          "contour": [
           {
            "colorbar": {
             "outlinewidth": 0,
             "ticks": ""
            },
            "colorscale": [
             [
              0,
              "#0d0887"
             ],
             [
              0.1111111111111111,
              "#46039f"
             ],
             [
              0.2222222222222222,
              "#7201a8"
             ],
             [
              0.3333333333333333,
              "#9c179e"
             ],
             [
              0.4444444444444444,
              "#bd3786"
             ],
             [
              0.5555555555555556,
              "#d8576b"
             ],
             [
              0.6666666666666666,
              "#ed7953"
             ],
             [
              0.7777777777777778,
              "#fb9f3a"
             ],
             [
              0.8888888888888888,
              "#fdca26"
             ],
             [
              1,
              "#f0f921"
             ]
            ],
            "type": "contour"
           }
          ],
          "contourcarpet": [
           {
            "colorbar": {
             "outlinewidth": 0,
             "ticks": ""
            },
            "type": "contourcarpet"
           }
          ],
          "heatmap": [
           {
            "colorbar": {
             "outlinewidth": 0,
             "ticks": ""
            },
            "colorscale": [
             [
              0,
              "#0d0887"
             ],
             [
              0.1111111111111111,
              "#46039f"
             ],
             [
              0.2222222222222222,
              "#7201a8"
             ],
             [
              0.3333333333333333,
              "#9c179e"
             ],
             [
              0.4444444444444444,
              "#bd3786"
             ],
             [
              0.5555555555555556,
              "#d8576b"
             ],
             [
              0.6666666666666666,
              "#ed7953"
             ],
             [
              0.7777777777777778,
              "#fb9f3a"
             ],
             [
              0.8888888888888888,
              "#fdca26"
             ],
             [
              1,
              "#f0f921"
             ]
            ],
            "type": "heatmap"
           }
          ],
          "heatmapgl": [
           {
            "colorbar": {
             "outlinewidth": 0,
             "ticks": ""
            },
            "colorscale": [
             [
              0,
              "#0d0887"
             ],
             [
              0.1111111111111111,
              "#46039f"
             ],
             [
              0.2222222222222222,
              "#7201a8"
             ],
             [
              0.3333333333333333,
              "#9c179e"
             ],
             [
              0.4444444444444444,
              "#bd3786"
             ],
             [
              0.5555555555555556,
              "#d8576b"
             ],
             [
              0.6666666666666666,
              "#ed7953"
             ],
             [
              0.7777777777777778,
              "#fb9f3a"
             ],
             [
              0.8888888888888888,
              "#fdca26"
             ],
             [
              1,
              "#f0f921"
             ]
            ],
            "type": "heatmapgl"
           }
          ],
          "histogram": [
           {
            "marker": {
             "pattern": {
              "fillmode": "overlay",
              "size": 10,
              "solidity": 0.2
             }
            },
            "type": "histogram"
           }
          ],
          "histogram2d": [
           {
            "colorbar": {
             "outlinewidth": 0,
             "ticks": ""
            },
            "colorscale": [
             [
              0,
              "#0d0887"
             ],
             [
              0.1111111111111111,
              "#46039f"
             ],
             [
              0.2222222222222222,
              "#7201a8"
             ],
             [
              0.3333333333333333,
              "#9c179e"
             ],
             [
              0.4444444444444444,
              "#bd3786"
             ],
             [
              0.5555555555555556,
              "#d8576b"
             ],
             [
              0.6666666666666666,
              "#ed7953"
             ],
             [
              0.7777777777777778,
              "#fb9f3a"
             ],
             [
              0.8888888888888888,
              "#fdca26"
             ],
             [
              1,
              "#f0f921"
             ]
            ],
            "type": "histogram2d"
           }
          ],
          "histogram2dcontour": [
           {
            "colorbar": {
             "outlinewidth": 0,
             "ticks": ""
            },
            "colorscale": [
             [
              0,
              "#0d0887"
             ],
             [
              0.1111111111111111,
              "#46039f"
             ],
             [
              0.2222222222222222,
              "#7201a8"
             ],
             [
              0.3333333333333333,
              "#9c179e"
             ],
             [
              0.4444444444444444,
              "#bd3786"
             ],
             [
              0.5555555555555556,
              "#d8576b"
             ],
             [
              0.6666666666666666,
              "#ed7953"
             ],
             [
              0.7777777777777778,
              "#fb9f3a"
             ],
             [
              0.8888888888888888,
              "#fdca26"
             ],
             [
              1,
              "#f0f921"
             ]
            ],
            "type": "histogram2dcontour"
           }
          ],
          "mesh3d": [
           {
            "colorbar": {
             "outlinewidth": 0,
             "ticks": ""
            },
            "type": "mesh3d"
           }
          ],
          "parcoords": [
           {
            "line": {
             "colorbar": {
              "outlinewidth": 0,
              "ticks": ""
             }
            },
            "type": "parcoords"
           }
          ],
          "pie": [
           {
            "automargin": true,
            "type": "pie"
           }
          ],
          "scatter": [
           {
            "fillpattern": {
             "fillmode": "overlay",
             "size": 10,
             "solidity": 0.2
            },
            "type": "scatter"
           }
          ],
          "scatter3d": [
           {
            "line": {
             "colorbar": {
              "outlinewidth": 0,
              "ticks": ""
             }
            },
            "marker": {
             "colorbar": {
              "outlinewidth": 0,
              "ticks": ""
             }
            },
            "type": "scatter3d"
           }
          ],
          "scattercarpet": [
           {
            "marker": {
             "colorbar": {
              "outlinewidth": 0,
              "ticks": ""
             }
            },
            "type": "scattercarpet"
           }
          ],
          "scattergeo": [
           {
            "marker": {
             "colorbar": {
              "outlinewidth": 0,
              "ticks": ""
             }
            },
            "type": "scattergeo"
           }
          ],
          "scattergl": [
           {
            "marker": {
             "colorbar": {
              "outlinewidth": 0,
              "ticks": ""
             }
            },
            "type": "scattergl"
           }
          ],
          "scattermapbox": [
           {
            "marker": {
             "colorbar": {
              "outlinewidth": 0,
              "ticks": ""
             }
            },
            "type": "scattermapbox"
           }
          ],
          "scatterpolar": [
           {
            "marker": {
             "colorbar": {
              "outlinewidth": 0,
              "ticks": ""
             }
            },
            "type": "scatterpolar"
           }
          ],
          "scatterpolargl": [
           {
            "marker": {
             "colorbar": {
              "outlinewidth": 0,
              "ticks": ""
             }
            },
            "type": "scatterpolargl"
           }
          ],
          "scatterternary": [
           {
            "marker": {
             "colorbar": {
              "outlinewidth": 0,
              "ticks": ""
             }
            },
            "type": "scatterternary"
           }
          ],
          "surface": [
           {
            "colorbar": {
             "outlinewidth": 0,
             "ticks": ""
            },
            "colorscale": [
             [
              0,
              "#0d0887"
             ],
             [
              0.1111111111111111,
              "#46039f"
             ],
             [
              0.2222222222222222,
              "#7201a8"
             ],
             [
              0.3333333333333333,
              "#9c179e"
             ],
             [
              0.4444444444444444,
              "#bd3786"
             ],
             [
              0.5555555555555556,
              "#d8576b"
             ],
             [
              0.6666666666666666,
              "#ed7953"
             ],
             [
              0.7777777777777778,
              "#fb9f3a"
             ],
             [
              0.8888888888888888,
              "#fdca26"
             ],
             [
              1,
              "#f0f921"
             ]
            ],
            "type": "surface"
           }
          ],
          "table": [
           {
            "cells": {
             "fill": {
              "color": "#EBF0F8"
             },
             "line": {
              "color": "white"
             }
            },
            "header": {
             "fill": {
              "color": "#C8D4E3"
             },
             "line": {
              "color": "white"
             }
            },
            "type": "table"
           }
          ]
         },
         "layout": {
          "annotationdefaults": {
           "arrowcolor": "#2a3f5f",
           "arrowhead": 0,
           "arrowwidth": 1
          },
          "autotypenumbers": "strict",
          "coloraxis": {
           "colorbar": {
            "outlinewidth": 0,
            "ticks": ""
           }
          },
          "colorscale": {
           "diverging": [
            [
             0,
             "#8e0152"
            ],
            [
             0.1,
             "#c51b7d"
            ],
            [
             0.2,
             "#de77ae"
            ],
            [
             0.3,
             "#f1b6da"
            ],
            [
             0.4,
             "#fde0ef"
            ],
            [
             0.5,
             "#f7f7f7"
            ],
            [
             0.6,
             "#e6f5d0"
            ],
            [
             0.7,
             "#b8e186"
            ],
            [
             0.8,
             "#7fbc41"
            ],
            [
             0.9,
             "#4d9221"
            ],
            [
             1,
             "#276419"
            ]
           ],
           "sequential": [
            [
             0,
             "#0d0887"
            ],
            [
             0.1111111111111111,
             "#46039f"
            ],
            [
             0.2222222222222222,
             "#7201a8"
            ],
            [
             0.3333333333333333,
             "#9c179e"
            ],
            [
             0.4444444444444444,
             "#bd3786"
            ],
            [
             0.5555555555555556,
             "#d8576b"
            ],
            [
             0.6666666666666666,
             "#ed7953"
            ],
            [
             0.7777777777777778,
             "#fb9f3a"
            ],
            [
             0.8888888888888888,
             "#fdca26"
            ],
            [
             1,
             "#f0f921"
            ]
           ],
           "sequentialminus": [
            [
             0,
             "#0d0887"
            ],
            [
             0.1111111111111111,
             "#46039f"
            ],
            [
             0.2222222222222222,
             "#7201a8"
            ],
            [
             0.3333333333333333,
             "#9c179e"
            ],
            [
             0.4444444444444444,
             "#bd3786"
            ],
            [
             0.5555555555555556,
             "#d8576b"
            ],
            [
             0.6666666666666666,
             "#ed7953"
            ],
            [
             0.7777777777777778,
             "#fb9f3a"
            ],
            [
             0.8888888888888888,
             "#fdca26"
            ],
            [
             1,
             "#f0f921"
            ]
           ]
          },
          "colorway": [
           "#636efa",
           "#EF553B",
           "#00cc96",
           "#ab63fa",
           "#FFA15A",
           "#19d3f3",
           "#FF6692",
           "#B6E880",
           "#FF97FF",
           "#FECB52"
          ],
          "font": {
           "color": "#2a3f5f"
          },
          "geo": {
           "bgcolor": "white",
           "lakecolor": "white",
           "landcolor": "#E5ECF6",
           "showlakes": true,
           "showland": true,
           "subunitcolor": "white"
          },
          "hoverlabel": {
           "align": "left"
          },
          "hovermode": "closest",
          "mapbox": {
           "style": "light"
          },
          "paper_bgcolor": "white",
          "plot_bgcolor": "#E5ECF6",
          "polar": {
           "angularaxis": {
            "gridcolor": "white",
            "linecolor": "white",
            "ticks": ""
           },
           "bgcolor": "#E5ECF6",
           "radialaxis": {
            "gridcolor": "white",
            "linecolor": "white",
            "ticks": ""
           }
          },
          "scene": {
           "xaxis": {
            "backgroundcolor": "#E5ECF6",
            "gridcolor": "white",
            "gridwidth": 2,
            "linecolor": "white",
            "showbackground": true,
            "ticks": "",
            "zerolinecolor": "white"
           },
           "yaxis": {
            "backgroundcolor": "#E5ECF6",
            "gridcolor": "white",
            "gridwidth": 2,
            "linecolor": "white",
            "showbackground": true,
            "ticks": "",
            "zerolinecolor": "white"
           },
           "zaxis": {
            "backgroundcolor": "#E5ECF6",
            "gridcolor": "white",
            "gridwidth": 2,
            "linecolor": "white",
            "showbackground": true,
            "ticks": "",
            "zerolinecolor": "white"
           }
          },
          "shapedefaults": {
           "line": {
            "color": "#2a3f5f"
           }
          },
          "ternary": {
           "aaxis": {
            "gridcolor": "white",
            "linecolor": "white",
            "ticks": ""
           },
           "baxis": {
            "gridcolor": "white",
            "linecolor": "white",
            "ticks": ""
           },
           "bgcolor": "#E5ECF6",
           "caxis": {
            "gridcolor": "white",
            "linecolor": "white",
            "ticks": ""
           }
          },
          "title": {
           "x": 0.05
          },
          "xaxis": {
           "automargin": true,
           "gridcolor": "white",
           "linecolor": "white",
           "ticks": "",
           "title": {
            "standoff": 15
           },
           "zerolinecolor": "white",
           "zerolinewidth": 2
          },
          "yaxis": {
           "automargin": true,
           "gridcolor": "white",
           "linecolor": "white",
           "ticks": "",
           "title": {
            "standoff": 15
           },
           "zerolinecolor": "white",
           "zerolinewidth": 2
          }
         }
        },
        "title": {
         "text": "Bias through the years"
        },
        "width": 900,
        "xaxis": {
         "anchor": "y",
         "categoryarray": [
          2019,
          2017,
          2018,
          2016,
          2020
         ],
         "categoryorder": "array",
         "domain": [
          0,
          1
         ],
         "title": {
          "text": "Year"
         }
        },
        "yaxis": {
         "anchor": "x",
         "domain": [
          0,
          1
         ],
         "title": {
          "text": "Bias"
         }
        }
       }
      },
      "text/html": [
       "<div>                            <div id=\"bdf1de40-dd3a-4076-9cf6-769e78381f20\" class=\"plotly-graph-div\" style=\"height:525px; width:900px;\"></div>            <script type=\"text/javascript\">                require([\"plotly\"], function(Plotly) {                    window.PLOTLYENV=window.PLOTLYENV || {};                                    if (document.getElementById(\"bdf1de40-dd3a-4076-9cf6-769e78381f20\")) {                    Plotly.newPlot(                        \"bdf1de40-dd3a-4076-9cf6-769e78381f20\",                        [{\"alignmentgroup\":\"True\",\"boxpoints\":\"all\",\"hovertemplate\":\"Year=%{x}<br>Bias=%{y}<extra></extra>\",\"legendgroup\":\"2019\",\"marker\":{\"color\":\"#636efa\"},\"name\":\"2019\",\"notched\":false,\"offsetgroup\":\"2019\",\"orientation\":\"v\",\"showlegend\":true,\"x\":[2019,2019,2019,2019,2019,2019,2019,2019,2019,2019,2019,2019,2019,2019,2019,2019,2019,2019,2019,2019,2019,2019,2019,2019,2019,2019,2019,2019,2019,2019,2019,2019,2019,2019,2019,2019,2019,2019],\"x0\":\" \",\"xaxis\":\"x\",\"y\":[3.15,-0.15,-2.725,-1.65,2.25,0.0,2.025,-0.5750000000000001,1.625,-4.55,1.25,-2.25,0.07499999999999998,-0.5750000000000001,-0.75,-0.275,3.45,1.7000000000000002,1.9500000000000002,0.4,1.9,1.0,2.1500000000000004,1.675,0.125,0.24999999999999997,-0.275,0.45000000000000007,1.7,2.2,1.75,1.9000000000000001,-5.550000000000001,1.6,-0.15,2.0,2.1500000000000004,0.65],\"y0\":\" \",\"yaxis\":\"y\",\"type\":\"box\"},{\"alignmentgroup\":\"True\",\"boxpoints\":\"all\",\"hovertemplate\":\"Year=%{x}<br>Bias=%{y}<extra></extra>\",\"legendgroup\":\"2017\",\"marker\":{\"color\":\"#EF553B\"},\"name\":\"2017\",\"notched\":false,\"offsetgroup\":\"2017\",\"orientation\":\"v\",\"showlegend\":true,\"x\":[2017,2017,2017,2017,2017,2017,2017,2017,2017,2017,2017,2017,2017,2017,2017,2017,2017,2017,2017,2017,2017,2017,2017,2017],\"x0\":\" \",\"xaxis\":\"x\",\"y\":[-1.575,-0.15000000000000002,2.1,1.0,0.02499999999999991,-0.275,1.625,0.0,0.25,0.525,0.6,0.0,1.4,0.825,0.025000000000000022,0.3,0.0,2.85,3.2750000000000004,1.5250000000000001,1.325,0.65,0.6,0.8500000000000001],\"y0\":\" \",\"yaxis\":\"y\",\"type\":\"box\"},{\"alignmentgroup\":\"True\",\"boxpoints\":\"all\",\"hovertemplate\":\"Year=%{x}<br>Bias=%{y}<extra></extra>\",\"legendgroup\":\"2018\",\"marker\":{\"color\":\"#00cc96\"},\"name\":\"2018\",\"notched\":false,\"offsetgroup\":\"2018\",\"orientation\":\"v\",\"showlegend\":true,\"x\":[2018,2018,2018,2018,2018,2018,2018,2018,2018,2018,2018,2018,2018,2018,2018,2018,2018,2018,2018,2018,2018,2018,2018,2018,2018,2018,2018,2018,2018,2018,2018,2018],\"x0\":\" \",\"xaxis\":\"x\",\"y\":[-2.225,-0.6499999999999999,1.25,-0.1,0.09999999999999998,0.7,-0.42500000000000004,2.475,1.4,-0.35,-1.6,-1.35,2.4,-0.1,0.024999999999999994,-1.0,-0.2,-0.5,0.725,0.2,0.125,-0.675,1.9500000000000002,0.8500000000000001,1.8,-3.75,0.55,1.6,1.35,1.175,0.7,0.35000000000000003],\"y0\":\" \",\"yaxis\":\"y\",\"type\":\"box\"},{\"alignmentgroup\":\"True\",\"boxpoints\":\"all\",\"hovertemplate\":\"Year=%{x}<br>Bias=%{y}<extra></extra>\",\"legendgroup\":\"2016\",\"marker\":{\"color\":\"#ab63fa\"},\"name\":\"2016\",\"notched\":false,\"offsetgroup\":\"2016\",\"orientation\":\"v\",\"showlegend\":true,\"x\":[2016,2016,2016,2016,2016,2016,2016,2016,2016,2016,2016,2016,2016,2016,2016,2016,2016,2016,2016,2016,2016,2016,2016,2016],\"x0\":\" \",\"xaxis\":\"x\",\"y\":[-2.0749999999999997,-1.8,1.7999999999999998,-0.7,0.5,-1.05,-0.19999999999999998,-0.6000000000000001,1.125,-4.699999999999999,-0.07500000000000001,-0.2,-0.375,-0.525,-0.95,-0.7,-0.8500000000000001,3.5,2.3249999999999997,0.175,-0.3,0.35,0.125,0.15000000000000002],\"y0\":\" \",\"yaxis\":\"y\",\"type\":\"box\"},{\"alignmentgroup\":\"True\",\"boxpoints\":\"all\",\"hovertemplate\":\"Year=%{x}<br>Bias=%{y}<extra></extra>\",\"legendgroup\":\"2020\",\"marker\":{\"color\":\"#FFA15A\"},\"name\":\"2020\",\"notched\":false,\"offsetgroup\":\"2020\",\"orientation\":\"v\",\"showlegend\":true,\"x\":[2020,2020,2020,2020,2020,2020,2020,2020,2020,2020,2020,2020,2020,2020,2020,2020,2020,2020,2020,2020,2020,2020,2020,2020,2020,2020,2020,2020,2020,2020,2020,2020,2020,2020,2020,2020,2020,2020,2020,2020,2020,2020,2020],\"x0\":\" \",\"xaxis\":\"x\",\"y\":[-0.875,2.15,-1.5,-1.4,0.0,-0.8500000000000001,1.95,0.44999999999999996,1.2000000000000002,0.7000000000000001,0.6000000000000001,0.175,-0.2,1.35,-0.4,1.3,0.35,0.875,0.32499999999999996,1.55,0.625,1.325,3.5,1.3,1.475,2.85,1.275,0.25,-0.15,0.17500000000000002,-0.175,0.25,0.8500000000000001,0.05,3.075,2.825,2.55,1.375,1.05,1.4,1.225,1.25,0.725],\"y0\":\" \",\"yaxis\":\"y\",\"type\":\"box\"}],                        {\"template\":{\"data\":{\"histogram2dcontour\":[{\"type\":\"histogram2dcontour\",\"colorbar\":{\"outlinewidth\":0,\"ticks\":\"\"},\"colorscale\":[[0.0,\"#0d0887\"],[0.1111111111111111,\"#46039f\"],[0.2222222222222222,\"#7201a8\"],[0.3333333333333333,\"#9c179e\"],[0.4444444444444444,\"#bd3786\"],[0.5555555555555556,\"#d8576b\"],[0.6666666666666666,\"#ed7953\"],[0.7777777777777778,\"#fb9f3a\"],[0.8888888888888888,\"#fdca26\"],[1.0,\"#f0f921\"]]}],\"choropleth\":[{\"type\":\"choropleth\",\"colorbar\":{\"outlinewidth\":0,\"ticks\":\"\"}}],\"histogram2d\":[{\"type\":\"histogram2d\",\"colorbar\":{\"outlinewidth\":0,\"ticks\":\"\"},\"colorscale\":[[0.0,\"#0d0887\"],[0.1111111111111111,\"#46039f\"],[0.2222222222222222,\"#7201a8\"],[0.3333333333333333,\"#9c179e\"],[0.4444444444444444,\"#bd3786\"],[0.5555555555555556,\"#d8576b\"],[0.6666666666666666,\"#ed7953\"],[0.7777777777777778,\"#fb9f3a\"],[0.8888888888888888,\"#fdca26\"],[1.0,\"#f0f921\"]]}],\"heatmap\":[{\"type\":\"heatmap\",\"colorbar\":{\"outlinewidth\":0,\"ticks\":\"\"},\"colorscale\":[[0.0,\"#0d0887\"],[0.1111111111111111,\"#46039f\"],[0.2222222222222222,\"#7201a8\"],[0.3333333333333333,\"#9c179e\"],[0.4444444444444444,\"#bd3786\"],[0.5555555555555556,\"#d8576b\"],[0.6666666666666666,\"#ed7953\"],[0.7777777777777778,\"#fb9f3a\"],[0.8888888888888888,\"#fdca26\"],[1.0,\"#f0f921\"]]}],\"heatmapgl\":[{\"type\":\"heatmapgl\",\"colorbar\":{\"outlinewidth\":0,\"ticks\":\"\"},\"colorscale\":[[0.0,\"#0d0887\"],[0.1111111111111111,\"#46039f\"],[0.2222222222222222,\"#7201a8\"],[0.3333333333333333,\"#9c179e\"],[0.4444444444444444,\"#bd3786\"],[0.5555555555555556,\"#d8576b\"],[0.6666666666666666,\"#ed7953\"],[0.7777777777777778,\"#fb9f3a\"],[0.8888888888888888,\"#fdca26\"],[1.0,\"#f0f921\"]]}],\"contourcarpet\":[{\"type\":\"contourcarpet\",\"colorbar\":{\"outlinewidth\":0,\"ticks\":\"\"}}],\"contour\":[{\"type\":\"contour\",\"colorbar\":{\"outlinewidth\":0,\"ticks\":\"\"},\"colorscale\":[[0.0,\"#0d0887\"],[0.1111111111111111,\"#46039f\"],[0.2222222222222222,\"#7201a8\"],[0.3333333333333333,\"#9c179e\"],[0.4444444444444444,\"#bd3786\"],[0.5555555555555556,\"#d8576b\"],[0.6666666666666666,\"#ed7953\"],[0.7777777777777778,\"#fb9f3a\"],[0.8888888888888888,\"#fdca26\"],[1.0,\"#f0f921\"]]}],\"surface\":[{\"type\":\"surface\",\"colorbar\":{\"outlinewidth\":0,\"ticks\":\"\"},\"colorscale\":[[0.0,\"#0d0887\"],[0.1111111111111111,\"#46039f\"],[0.2222222222222222,\"#7201a8\"],[0.3333333333333333,\"#9c179e\"],[0.4444444444444444,\"#bd3786\"],[0.5555555555555556,\"#d8576b\"],[0.6666666666666666,\"#ed7953\"],[0.7777777777777778,\"#fb9f3a\"],[0.8888888888888888,\"#fdca26\"],[1.0,\"#f0f921\"]]}],\"mesh3d\":[{\"type\":\"mesh3d\",\"colorbar\":{\"outlinewidth\":0,\"ticks\":\"\"}}],\"scatter\":[{\"fillpattern\":{\"fillmode\":\"overlay\",\"size\":10,\"solidity\":0.2},\"type\":\"scatter\"}],\"parcoords\":[{\"type\":\"parcoords\",\"line\":{\"colorbar\":{\"outlinewidth\":0,\"ticks\":\"\"}}}],\"scatterpolargl\":[{\"type\":\"scatterpolargl\",\"marker\":{\"colorbar\":{\"outlinewidth\":0,\"ticks\":\"\"}}}],\"bar\":[{\"error_x\":{\"color\":\"#2a3f5f\"},\"error_y\":{\"color\":\"#2a3f5f\"},\"marker\":{\"line\":{\"color\":\"#E5ECF6\",\"width\":0.5},\"pattern\":{\"fillmode\":\"overlay\",\"size\":10,\"solidity\":0.2}},\"type\":\"bar\"}],\"scattergeo\":[{\"type\":\"scattergeo\",\"marker\":{\"colorbar\":{\"outlinewidth\":0,\"ticks\":\"\"}}}],\"scatterpolar\":[{\"type\":\"scatterpolar\",\"marker\":{\"colorbar\":{\"outlinewidth\":0,\"ticks\":\"\"}}}],\"histogram\":[{\"marker\":{\"pattern\":{\"fillmode\":\"overlay\",\"size\":10,\"solidity\":0.2}},\"type\":\"histogram\"}],\"scattergl\":[{\"type\":\"scattergl\",\"marker\":{\"colorbar\":{\"outlinewidth\":0,\"ticks\":\"\"}}}],\"scatter3d\":[{\"type\":\"scatter3d\",\"line\":{\"colorbar\":{\"outlinewidth\":0,\"ticks\":\"\"}},\"marker\":{\"colorbar\":{\"outlinewidth\":0,\"ticks\":\"\"}}}],\"scattermapbox\":[{\"type\":\"scattermapbox\",\"marker\":{\"colorbar\":{\"outlinewidth\":0,\"ticks\":\"\"}}}],\"scatterternary\":[{\"type\":\"scatterternary\",\"marker\":{\"colorbar\":{\"outlinewidth\":0,\"ticks\":\"\"}}}],\"scattercarpet\":[{\"type\":\"scattercarpet\",\"marker\":{\"colorbar\":{\"outlinewidth\":0,\"ticks\":\"\"}}}],\"carpet\":[{\"aaxis\":{\"endlinecolor\":\"#2a3f5f\",\"gridcolor\":\"white\",\"linecolor\":\"white\",\"minorgridcolor\":\"white\",\"startlinecolor\":\"#2a3f5f\"},\"baxis\":{\"endlinecolor\":\"#2a3f5f\",\"gridcolor\":\"white\",\"linecolor\":\"white\",\"minorgridcolor\":\"white\",\"startlinecolor\":\"#2a3f5f\"},\"type\":\"carpet\"}],\"table\":[{\"cells\":{\"fill\":{\"color\":\"#EBF0F8\"},\"line\":{\"color\":\"white\"}},\"header\":{\"fill\":{\"color\":\"#C8D4E3\"},\"line\":{\"color\":\"white\"}},\"type\":\"table\"}],\"barpolar\":[{\"marker\":{\"line\":{\"color\":\"#E5ECF6\",\"width\":0.5},\"pattern\":{\"fillmode\":\"overlay\",\"size\":10,\"solidity\":0.2}},\"type\":\"barpolar\"}],\"pie\":[{\"automargin\":true,\"type\":\"pie\"}]},\"layout\":{\"autotypenumbers\":\"strict\",\"colorway\":[\"#636efa\",\"#EF553B\",\"#00cc96\",\"#ab63fa\",\"#FFA15A\",\"#19d3f3\",\"#FF6692\",\"#B6E880\",\"#FF97FF\",\"#FECB52\"],\"font\":{\"color\":\"#2a3f5f\"},\"hovermode\":\"closest\",\"hoverlabel\":{\"align\":\"left\"},\"paper_bgcolor\":\"white\",\"plot_bgcolor\":\"#E5ECF6\",\"polar\":{\"bgcolor\":\"#E5ECF6\",\"angularaxis\":{\"gridcolor\":\"white\",\"linecolor\":\"white\",\"ticks\":\"\"},\"radialaxis\":{\"gridcolor\":\"white\",\"linecolor\":\"white\",\"ticks\":\"\"}},\"ternary\":{\"bgcolor\":\"#E5ECF6\",\"aaxis\":{\"gridcolor\":\"white\",\"linecolor\":\"white\",\"ticks\":\"\"},\"baxis\":{\"gridcolor\":\"white\",\"linecolor\":\"white\",\"ticks\":\"\"},\"caxis\":{\"gridcolor\":\"white\",\"linecolor\":\"white\",\"ticks\":\"\"}},\"coloraxis\":{\"colorbar\":{\"outlinewidth\":0,\"ticks\":\"\"}},\"colorscale\":{\"sequential\":[[0.0,\"#0d0887\"],[0.1111111111111111,\"#46039f\"],[0.2222222222222222,\"#7201a8\"],[0.3333333333333333,\"#9c179e\"],[0.4444444444444444,\"#bd3786\"],[0.5555555555555556,\"#d8576b\"],[0.6666666666666666,\"#ed7953\"],[0.7777777777777778,\"#fb9f3a\"],[0.8888888888888888,\"#fdca26\"],[1.0,\"#f0f921\"]],\"sequentialminus\":[[0.0,\"#0d0887\"],[0.1111111111111111,\"#46039f\"],[0.2222222222222222,\"#7201a8\"],[0.3333333333333333,\"#9c179e\"],[0.4444444444444444,\"#bd3786\"],[0.5555555555555556,\"#d8576b\"],[0.6666666666666666,\"#ed7953\"],[0.7777777777777778,\"#fb9f3a\"],[0.8888888888888888,\"#fdca26\"],[1.0,\"#f0f921\"]],\"diverging\":[[0,\"#8e0152\"],[0.1,\"#c51b7d\"],[0.2,\"#de77ae\"],[0.3,\"#f1b6da\"],[0.4,\"#fde0ef\"],[0.5,\"#f7f7f7\"],[0.6,\"#e6f5d0\"],[0.7,\"#b8e186\"],[0.8,\"#7fbc41\"],[0.9,\"#4d9221\"],[1,\"#276419\"]]},\"xaxis\":{\"gridcolor\":\"white\",\"linecolor\":\"white\",\"ticks\":\"\",\"title\":{\"standoff\":15},\"zerolinecolor\":\"white\",\"automargin\":true,\"zerolinewidth\":2},\"yaxis\":{\"gridcolor\":\"white\",\"linecolor\":\"white\",\"ticks\":\"\",\"title\":{\"standoff\":15},\"zerolinecolor\":\"white\",\"automargin\":true,\"zerolinewidth\":2},\"scene\":{\"xaxis\":{\"backgroundcolor\":\"#E5ECF6\",\"gridcolor\":\"white\",\"linecolor\":\"white\",\"showbackground\":true,\"ticks\":\"\",\"zerolinecolor\":\"white\",\"gridwidth\":2},\"yaxis\":{\"backgroundcolor\":\"#E5ECF6\",\"gridcolor\":\"white\",\"linecolor\":\"white\",\"showbackground\":true,\"ticks\":\"\",\"zerolinecolor\":\"white\",\"gridwidth\":2},\"zaxis\":{\"backgroundcolor\":\"#E5ECF6\",\"gridcolor\":\"white\",\"linecolor\":\"white\",\"showbackground\":true,\"ticks\":\"\",\"zerolinecolor\":\"white\",\"gridwidth\":2}},\"shapedefaults\":{\"line\":{\"color\":\"#2a3f5f\"}},\"annotationdefaults\":{\"arrowcolor\":\"#2a3f5f\",\"arrowhead\":0,\"arrowwidth\":1},\"geo\":{\"bgcolor\":\"white\",\"landcolor\":\"#E5ECF6\",\"subunitcolor\":\"white\",\"showland\":true,\"showlakes\":true,\"lakecolor\":\"white\"},\"title\":{\"x\":0.05},\"mapbox\":{\"style\":\"light\"}}},\"xaxis\":{\"anchor\":\"y\",\"domain\":[0.0,1.0],\"title\":{\"text\":\"Year\"},\"categoryorder\":\"array\",\"categoryarray\":[2019,2017,2018,2016,2020]},\"yaxis\":{\"anchor\":\"x\",\"domain\":[0.0,1.0],\"title\":{\"text\":\"Bias\"}},\"legend\":{\"title\":{\"text\":\"Year\"},\"tracegroupgap\":0},\"title\":{\"text\":\"Bias through the years\"},\"boxmode\":\"overlay\",\"width\":900},                        {\"responsive\": true}                    ).then(function(){\n",
       "                            \n",
       "var gd = document.getElementById('bdf1de40-dd3a-4076-9cf6-769e78381f20');\n",
       "var x = new MutationObserver(function (mutations, observer) {{\n",
       "        var display = window.getComputedStyle(gd).display;\n",
       "        if (!display || display === 'none') {{\n",
       "            console.log([gd, 'removed!']);\n",
       "            Plotly.purge(gd);\n",
       "            observer.disconnect();\n",
       "        }}\n",
       "}});\n",
       "\n",
       "// Listen for the removal of the full notebook cells\n",
       "var notebookContainer = gd.closest('#notebook-container');\n",
       "if (notebookContainer) {{\n",
       "    x.observe(notebookContainer, {childList: true});\n",
       "}}\n",
       "\n",
       "// Listen for the clearing of the current output cell\n",
       "var outputEl = gd.closest('.output');\n",
       "if (outputEl) {{\n",
       "    x.observe(outputEl, {childList: true});\n",
       "}}\n",
       "\n",
       "                        })                };                });            </script>        </div>"
      ]
     },
     "metadata": {},
     "output_type": "display_data"
    }
   ],
   "source": [
    "box_plot = px.box(\n",
    "    df3,\n",
    "    y=\"Bias\", \n",
    "    x=\"Year\", \n",
    "    color=\"Year\", \n",
    "    title=\"Bias through the years\", \n",
    "    points=\"all\",\n",
    "    width=900 \n",
    ")\n",
    "\n",
    "box_plot.show()"
   ]
  },
  {
   "cell_type": "code",
   "execution_count": 21,
   "id": "8e360acd",
   "metadata": {},
   "outputs": [
    {
     "data": {
      "application/vnd.jupyter.widget-view+json": {
       "model_id": "a17e189704f24bb58e873f4ca6394017",
       "version_major": 2,
       "version_minor": 0
      },
      "text/plain": [
       "interactive(children=(Dropdown(description='method', options=('(part of cobas 6000/8000) Roche Diagnostics cob…"
      ]
     },
     "metadata": {},
     "output_type": "display_data"
    }
   ],
   "source": [
    "#boxplot \n",
    "def boxplot(method):\n",
    "    # df3[['N', 'Mean', 'Bias']].loc[[method]].iplot(kind='box')\n",
    "    df4.loc[[method]].pivot(columns='Year', values='Bias').iplot(kind='box')\n",
    "    # df4.loc[[method]].iplot(kind='box', categories='Year', xTitle='Year', x='Year',  y='Bias', title=\"Bias through the years\")\n",
    "  \n",
    "interact(boxplot, method=df4.index.unique());\n",
    "\n",
    " "
   ]
  },
  {
   "cell_type": "code",
   "execution_count": 22,
   "id": "dca46f55",
   "metadata": {},
   "outputs": [
    {
     "name": "stdout",
     "output_type": "stream",
     "text": [
      "Help on method _iplot in module cufflinks.plotlytools:\n",
      "\n",
      "_iplot(kind='scatter', data=None, layout=None, filename='', sharing=None, title='', xTitle='', yTitle='', zTitle='', theme=None, colors=None, colorscale=None, fill=False, width=None, dash='solid', mode='', interpolation='linear', symbol='circle', size=12, barmode='', sortbars=False, bargap=None, bargroupgap=None, bins=None, histnorm='', histfunc='count', orientation='v', boxpoints=False, annotations=None, keys=False, bestfit=False, bestfit_colors=None, mean=False, mean_colors=None, categories='', x='', y='', z='', text='', gridcolor=None, zerolinecolor=None, margin=None, labels=None, values=None, secondary_y='', secondary_y_title='', subplots=False, shape=None, error_x=None, error_y=None, error_type='data', locations=None, lon=None, lat=None, asFrame=False, asDates=False, asFigure=False, asImage=False, dimensions=None, asPlot=False, asUrl=False, online=None, **kwargs) method of pandas.core.frame.DataFrame instance\n",
      "           Returns a plotly chart either as inline chart, image of Figure object\n",
      "    \n",
      "           Parameters:\n",
      "           -----------\n",
      "                   kind : string\n",
      "                           Kind of chart\n",
      "                                   scatter\n",
      "                                   bar\n",
      "                                   box\n",
      "                                   spread\n",
      "                                   ratio\n",
      "                                   heatmap\n",
      "                                   surface\n",
      "                                   histogram\n",
      "                                   bubble\n",
      "                                   bubble3d\n",
      "                                   scatter3d       \n",
      "                                   scattergeo\n",
      "                                   ohlc\n",
      "                                   candle\n",
      "                                   pie\n",
      "                                   choroplet       \n",
      "                   data : Data\n",
      "                           Plotly Data Object.\n",
      "                           If not entered then the Data object will be automatically\n",
      "                           generated from the DataFrame.\n",
      "                   layout : Layout\n",
      "                           Plotly layout Object\n",
      "                           If not entered then the Layout objet will be automatically\n",
      "                           generated from the DataFrame.\n",
      "                   filename : string\n",
      "                           Filename to be saved as in plotly account\n",
      "                   sharing : string\n",
      "                           Sets the sharing level permission\n",
      "                                   public - anyone can see this chart\n",
      "                                   private - only you can see this chart\n",
      "                                   secret - only people with the link can see the chart\n",
      "                   title : string\n",
      "                           Chart Title                             \n",
      "                   xTitle : string\n",
      "                           X Axis Title\n",
      "                   yTitle : string\n",
      "                           Y Axis Title\n",
      "                                   zTitle : string\n",
      "                   zTitle : string\n",
      "                           Z Axis Title\n",
      "                           Applicable only for 3d charts\n",
      "                   theme : string\n",
      "                           Layout Theme\n",
      "                                   solar\n",
      "                                   pearl\n",
      "                                   white           \n",
      "                           see cufflinks.getThemes() for all \n",
      "                           available themes\n",
      "                   colors : dict, list or string\n",
      "                           {key:color} to specify the color for each column\n",
      "                           [colors] to use the colors in the defined order\n",
      "                   colorscale : string\n",
      "                           Color scale name\n",
      "                           If the color name is preceded by a minus (-) \n",
      "                           then the scale is inversed\n",
      "                           Only valid if 'colors' is null\n",
      "                           See cufflinks.colors.scales() for available scales\n",
      "                   fill : bool\n",
      "                           Filled Traces           \n",
      "                   width : dict, list or int\n",
      "                                   int : applies to all traces\n",
      "                                   list : applies to each trace in the order \n",
      "                                                   specified\n",
      "                                   dict: {column:value} for each column in \n",
      "                                                   the dataframe\n",
      "                           Line width      \n",
      "                   dash : dict, list or string\n",
      "                                   string : applies to all traces\n",
      "                                   list : applies to each trace in the order \n",
      "                                                   specified\n",
      "                                   dict: {column:value} for each column in \n",
      "                                                   the dataframe\n",
      "                           Drawing style of lines\n",
      "                                   solid\n",
      "                                   dash\n",
      "                                   dashdot\n",
      "                                   dot\n",
      "                   mode : dict, list or string\n",
      "                                   string : applies to all traces\n",
      "                                   list : applies to each trace in the order \n",
      "                                                   specified\n",
      "                                   dict: {column:value} for each column in \n",
      "                                                   the dataframe\n",
      "                           Plotting mode for scatter trace\n",
      "                                   lines\n",
      "                                   markers\n",
      "                                   lines+markers\n",
      "                                   lines+text\n",
      "                                   markers+text\n",
      "                                   lines+markers+text\n",
      "                   interpolation : dict, list, or string\n",
      "                                   string : applies to all traces\n",
      "                                   list : applies to each trace in the order \n",
      "                                                   specified\n",
      "                                   dict: {column:value} for each column in \n",
      "                                                   the dataframe\n",
      "                           Positioning of the connecting lines\n",
      "                                   linear\n",
      "                                   spline\n",
      "                                   vhv\n",
      "                                   hvh\n",
      "                                   vh\n",
      "                                   hv              \n",
      "                   symbol : dict, list or string\n",
      "                                   string : applies to all traces\n",
      "                                   list : applies to each trace in the order \n",
      "                                                   specified\n",
      "                                   dict: {column:value} for each column in \n",
      "                                                   the dataframe\n",
      "                           The symbol that is drawn on the plot for each marker\n",
      "                           Valid only when mode includes markers\n",
      "                                   circle\n",
      "                                   circle-dot\n",
      "                                   diamond\n",
      "                                   square\n",
      "                                   and many more...(see plotly.validators.scatter.marker.SymbolValidator.values)\n",
      "                   size : string or int \n",
      "                           Size of marker \n",
      "                           Valid only if marker in mode\n",
      "                   barmode : string\n",
      "                           Mode when displaying bars\n",
      "                                   group\n",
      "                                   stack\n",
      "                                   overlay\n",
      "                           * Only valid when kind='bar'\n",
      "                   sortbars : bool\n",
      "                           Sort bars in descending order\n",
      "                           * Only valid when kind='bar'\n",
      "                   bargap : float\n",
      "                           Sets the gap between bars\n",
      "                                   [0,1)\n",
      "                           * Only valid when kind is 'histogram' or 'bar'\n",
      "                   bargroupgap : float\n",
      "                           Set the gap between groups\n",
      "                                   [0,1)\n",
      "                           * Only valid when kind is 'histogram' or 'bar'          \n",
      "                   bins : int or tuple \n",
      "                           if int:\n",
      "                                   Specifies the number of bins \n",
      "                           if tuple:\n",
      "                                   (start, end, size)\n",
      "                                   start : starting value\n",
      "                                   end: end value\n",
      "                                   size: bin size\n",
      "                           * Only valid when kind='histogram'\n",
      "    \n",
      "                   histnorm : string\n",
      "                                   '' (frequency)\n",
      "                                   percent\n",
      "                                   probability\n",
      "                                   density\n",
      "                                   probability density\n",
      "                           Sets the type of normalization for an histogram trace. By default\n",
      "                           the height of each bar displays the frequency of occurrence, i.e., \n",
      "                           the number of times this value was found in the\n",
      "                           corresponding bin. If set to 'percent', the height of each bar\n",
      "                           displays the percentage of total occurrences found within the\n",
      "                           corresponding bin. If set to 'probability', the height of each bar\n",
      "                           displays the probability that an event will fall into the\n",
      "                           corresponding bin. If set to 'density', the height of each bar is\n",
      "                           equal to the number of occurrences in a bin divided by the size of\n",
      "                           the bin interval such that summing the area of all bins will yield\n",
      "                           the total number of occurrences. If set to 'probability density',\n",
      "                           the height of each bar is equal to the number of probability that an\n",
      "                           event will fall into the corresponding bin divided by the size of\n",
      "                           the bin interval such that summing the area of all bins will yield\n",
      "                           1.\n",
      "                           * Only valid when kind='histogram'\n",
      "                   histfunc : string\n",
      "                                   count\n",
      "                                   sum\n",
      "                                   avg\n",
      "                                   min\n",
      "                                   max\n",
      "                      Sets the binning function used for an histogram trace. \n",
      "                           * Only valid when kind='histogram'           \n",
      "                   orientation : string\n",
      "                                   h \n",
      "                                   v\n",
      "                           Sets the orientation of the bars. If set to 'v', the length of each\n",
      "    |          bar will run vertically. If set to 'h', the length of each bar will\n",
      "    |          run horizontally\n",
      "                           * Only valid when kind is 'histogram','bar' or 'box'\n",
      "                   boxpoints : string\n",
      "                           Displays data points in a box plot\n",
      "                                   outliers\n",
      "                                   all\n",
      "                                   suspectedoutliers\n",
      "                                   False\n",
      "                   annotations : dictionary\n",
      "                           Dictionary of annotations\n",
      "                           {x_point : text}\n",
      "                   keys : list of columns\n",
      "                           List of columns to chart.\n",
      "                           Also can be used for custom sorting.\n",
      "                   bestfit : boolean or list\n",
      "                           If True then a best fit line will be generated for\n",
      "                           all columns.\n",
      "                           If list then a best fit line will be generated for\n",
      "                           each key on the list.\n",
      "                   bestfit_colors : list or dict\n",
      "                           {key:color} to specify the color for each column\n",
      "                           [colors] to use the colors in the defined order \n",
      "                   categories : string\n",
      "                           Name of the column that contains the categories\n",
      "                   x : string\n",
      "                           Name of the column that contains the x axis values              \n",
      "                   y : string\n",
      "                           Name of the column that contains the y axis values\n",
      "                   z : string\n",
      "                           Name of the column that contains the z axis values                                      \n",
      "                   text : string\n",
      "                           Name of the column that contains the text values        \n",
      "                   gridcolor : string\n",
      "                           Grid color      \n",
      "                   zerolinecolor : string\n",
      "                           Zero line color\n",
      "                   margin : dict or tuple\n",
      "                           Dictionary (l,r,b,t) or\n",
      "                           Tuple containing the left,\n",
      "                           right, bottom and top margins\n",
      "                   labels : string\n",
      "                           Name of the column that contains the labels.\n",
      "                           * Only valid when kind='pie' \n",
      "                   values : string\n",
      "                           Name of the column that contains the values.\n",
      "                           * Only valid when kind='pie'\n",
      "                   secondary_y : string or list(string)\n",
      "                           Name(s) of the column to be charted on the \n",
      "                           right hand side axis\n",
      "                   secondary_y_title : string\n",
      "                           Title of the secondary axis\n",
      "                   subplots : bool\n",
      "                           If true then each trace is placed in \n",
      "                           subplot layout\n",
      "                   shape : (rows,cols)\n",
      "                           Tuple indicating the size of rows and columns\n",
      "                           If omitted then the layout is automatically set\n",
      "                           * Only valid when subplots=True\n",
      "                   error_x : int or float or [int or float]\n",
      "                           error values for the x axis\n",
      "                   error_y : int or float or [int or float]\n",
      "                           error values for the y axis\n",
      "                   error_type : string\n",
      "                           type of error bars\n",
      "                                   'data' \n",
      "                                   'constant'\n",
      "                                   'percent'\n",
      "                                   'sqrt'\n",
      "                                   'continuous'\n",
      "                                   'continuous_percent'\n",
      "                   asFrame : bool\n",
      "                           If true then the data component of Figure will\n",
      "                           be of Pandas form (Series) otherwise they will \n",
      "                           be index values\n",
      "                   asDates : bool\n",
      "                           If true it truncates times from a DatetimeIndex\n",
      "                   asFigure : bool\n",
      "                           If True returns plotly Figure\n",
      "                   asImage : bool\n",
      "                           If True it returns an Image (png)\n",
      "                           In ONLINE mode:\n",
      "                                   Image file is saved in the working directory                            \n",
      "                                           Accepts:\n",
      "                                                   filename\n",
      "                                                   dimensions\n",
      "                                                   scale\n",
      "                                                   display_image\n",
      "                           In OFFLINE mode:\n",
      "                                   Image file is downloaded (downloads folder) and a \n",
      "                                   regular plotly chart is displayed in Jupyter\n",
      "                                           Accepts:\n",
      "                                                   filename\n",
      "                                                   dimensions\n",
      "                   dimensions : tuple(int,int)\n",
      "                           Dimensions for image / chart\n",
      "                                   (width,height)          \n",
      "                   asPlot : bool\n",
      "                           If True the chart opens in browser\n",
      "                   asUrl : bool\n",
      "                           If True the chart url/path is returned. No chart is displayed. \n",
      "                                   If Online : the URL is returned\n",
      "                                   If Offline : the local path is returned\n",
      "                   online : bool\n",
      "                           If True then the chart/image is rendered on the server \n",
      "                           even when running in offline mode. \n",
      "    \n",
      "                   Other Kwargs\n",
      "                   ============\n",
      "                   Line, Scatter\n",
      "                           connectgaps : bool\n",
      "                                   If True, empty values are connected \n",
      "                   Pie charts\n",
      "                           sort : bool\n",
      "                                   If True it sorts the labels by value\n",
      "                           pull : float [0-1]\n",
      "                                   Pulls the slices from the centre \n",
      "                           hole : float [0-1]\n",
      "                                   Sets the size of the inner hole\n",
      "                           linecolor : string\n",
      "                                   Sets the color for the contour line of the slices\n",
      "                           linewidth : string\n",
      "                                   Sets the width for the contour line of the slices       \n",
      "                           textcolor : string\n",
      "                                   Sets the color for the text in the slices\n",
      "                           textposition : string \n",
      "                                   Sets the position of the legends for each slice\n",
      "                                           outside\n",
      "                                           inner\n",
      "                           textinfo : string \n",
      "                                   Sets the information to be displayed on \n",
      "                                   the legends \n",
      "                                           label\n",
      "                                           percent\n",
      "                                           value\n",
      "                                           * or ony combination of the above using \n",
      "                                             '+' between each item\n",
      "                                             ie 'label+percent'\n",
      "    \n",
      "                   Histogram\n",
      "                           linecolor : string\n",
      "                                   specifies the line color of the histogram\n",
      "    \n",
      "                   Heatmap and Surface\n",
      "                           center_scale : float\n",
      "                                   Centers the colorscale at a specific value\n",
      "                                   Automatically sets the (zmin,zmax) values\n",
      "                           zmin : float\n",
      "                                   Defines the minimum range for the z values. \n",
      "                                   This affects the range for the colorscale\n",
      "                           zmax : float\n",
      "                                   Defines the maximum range for the z values. \n",
      "                                   This affects the range for the colorscale\n",
      "    \n",
      "                   Error Bars\n",
      "                           error_trace : string\n",
      "                                   Name of the column for which error should be \n",
      "                                   plotted. If omitted then errors apply to all \n",
      "                                   traces.\n",
      "                           error_values_minus : int or float or [int or float]\n",
      "                                   Values corresponding to the span of the error bars \n",
      "                                   below the trace coordinates\n",
      "                           error_color : string\n",
      "                                   Color for error bars\n",
      "                           error_thickness : float \n",
      "                                   Sets the line thickness of the error bars\n",
      "                           error_width :  float\n",
      "                                   Sets the width (in pixels) of the cross-bar at both \n",
      "                                   ends of the error bars\n",
      "                           error_opacity : float [0,1]\n",
      "                                   Opacity for the error bars\n",
      "    \n",
      "                   Subplots\n",
      "                           horizontal_spacing : float [0,1]\n",
      "                                   Space between subplot columns.\n",
      "                           vertical_spacing : float [0,1]\n",
      "                                   Space between subplot rows.\n",
      "                           subplot_titles : bool\n",
      "                                   If True, chart titles are plotted\n",
      "                                   at the top of each subplot\n",
      "                           shared_xaxes : bool\n",
      "                                   Assign shared x axes.\n",
      "                                   If True, subplots in the same grid column have one common\n",
      "                                   shared x-axis at the bottom of the grid.\n",
      "                           shared_yaxes : bool\n",
      "                                   Assign shared y axes.\n",
      "                                   If True, subplots in the same grid row have one common\n",
      "                                   shared y-axis on the left-hand side of the grid.\n",
      "    \n",
      "                   Shapes\n",
      "                           hline : float, list or dict\n",
      "                                   Draws a horizontal line at the \n",
      "                                   indicated y position(s)\n",
      "                                   Extra parameters can be passed in\n",
      "                                   the form of a dictionary (see shapes)\n",
      "                           vline : float, list or dict\n",
      "                                   Draws a vertical line at the \n",
      "                                   indicated x position(s)\n",
      "                                   Extra parameters can be passed in\n",
      "                                   the form of a dictionary (see shapes)\n",
      "                           hpsan : (y0,y1)\n",
      "                                   Draws a horizontal rectangle at the \n",
      "                                   indicated (y0,y1) positions.\n",
      "                                   Extra parameters can be passed in\n",
      "                                   the form of a dictionary (see shapes)\n",
      "                           vspan : (x0,x1)\n",
      "                                   Draws a vertical rectangle at the \n",
      "                                   indicated (x0,x1) positions.\n",
      "                                   Extra parameters can be passed in\n",
      "                                   the form of a dictionary (see shapes)\n",
      "                           shapes : dict or list(dict)\n",
      "                                   List of dictionaries with the \n",
      "                                   specifications of a given shape.\n",
      "                                   See help(cufflinks.tools.get_shape)\n",
      "                                   for more information\n",
      "                   \n",
      "                   Axis Ranges\n",
      "                           xrange : [lower_bound,upper_bound]\n",
      "                                   Sets the range for the x axis\n",
      "                           yrange : [lower_bound,upper_bound]\n",
      "                                   Sets the range for the y axis\n",
      "                           zrange : [lower_bound,upper_bound]\n",
      "                                   Sets the range for the z axis\n",
      "                                   \n",
      "                   Explicit Layout Updates\n",
      "                           layout_update : dict\n",
      "                                   The layout will be modified with all \n",
      "                                   the explicit values stated in the \n",
      "                                   dictionary. \n",
      "                                   It will not apply if layout is passed\n",
      "                                   as parameter.\n",
      "    \n",
      "    \n",
      "                   Range Selector\n",
      "                           rangeselector : dict\n",
      "                                   Defines a rangeselector object\n",
      "                                   see help(cf.tools.get_range_selector) for more information\n",
      "                                   Example:\n",
      "                                           {'steps':['1y','2 months','5 weeks','ytd','2mtd'],\n",
      "                                            'axis':'xaxis', 'bgcolor' : ('blue',.3),\n",
      "                                            'x': 0.2 , 'y' : 0.9}\n",
      "    \n",
      "                   Range Slider\n",
      "                           rangeslider : bool or dict\n",
      "                                   Defines if a rangeslider is displayed\n",
      "                                   If bool: \n",
      "                                           True : Makes it visible\n",
      "                                   if dict:\n",
      "                                           Rangeslider object\n",
      "                                   Example:\n",
      "                                           {'bgcolor':('blue',.3),'autorange':True}\n",
      "    \n",
      "                   Annotations\n",
      "                           fontcolor : str\n",
      "                                   Text color for annotations\n",
      "                           fontsize : int\n",
      "                                   Text size for annotations\n",
      "                           textangle : int\n",
      "                                   Text angle \n",
      "                           See https://plot.ly/python/reference/#layout-annotations \n",
      "                           for a complete list of valid parameters.\n",
      "    \n",
      "                   Exports\n",
      "                           display_image : bool\n",
      "                                   If True then the image if displayed after being saved\n",
      "                                   ** only valid if asImage=True\n",
      "                           scale : integer\n",
      "                                   Increase the resolution of the image by `scale` amount\n",
      "                                   Only valid when asImage=True\n",
      "\n"
     ]
    }
   ],
   "source": [
    "help(df3.iplot)"
   ]
  },
  {
   "cell_type": "code",
   "execution_count": 23,
   "id": "d047aa61",
   "metadata": {},
   "outputs": [
    {
     "data": {
      "text/html": [
       "<div>\n",
       "<style scoped>\n",
       "    .dataframe tbody tr th:only-of-type {\n",
       "        vertical-align: middle;\n",
       "    }\n",
       "\n",
       "    .dataframe tbody tr th {\n",
       "        vertical-align: top;\n",
       "    }\n",
       "\n",
       "    .dataframe thead th {\n",
       "        text-align: right;\n",
       "    }\n",
       "</style>\n",
       "<table border=\"1\" class=\"dataframe\">\n",
       "  <thead>\n",
       "    <tr style=\"text-align: right;\">\n",
       "      <th></th>\n",
       "      <th>N</th>\n",
       "      <th>Mean</th>\n",
       "      <th>Bias</th>\n",
       "      <th>CV</th>\n",
       "      <th>Sample</th>\n",
       "      <th>Refrence Value</th>\n",
       "      <th>Year</th>\n",
       "      <th>Source</th>\n",
       "      <th>Type</th>\n",
       "      <th>Manufacturer</th>\n",
       "      <th>Total Error</th>\n",
       "    </tr>\n",
       "    <tr>\n",
       "      <th>Method name</th>\n",
       "      <th></th>\n",
       "      <th></th>\n",
       "      <th></th>\n",
       "      <th></th>\n",
       "      <th></th>\n",
       "      <th></th>\n",
       "      <th></th>\n",
       "      <th></th>\n",
       "      <th></th>\n",
       "      <th></th>\n",
       "      <th></th>\n",
       "    </tr>\n",
       "  </thead>\n",
       "  <tbody>\n",
       "    <tr>\n",
       "      <th>(part of cobas 6000/8000) Roche Diagnostics cobas c 513</th>\n",
       "      <td>10.0</td>\n",
       "      <td>74.0</td>\n",
       "      <td>3.9</td>\n",
       "      <td>2.7</td>\n",
       "      <td>Sample 1</td>\n",
       "      <td>70.1</td>\n",
       "      <td>2019</td>\n",
       "      <td>EURA1c</td>\n",
       "      <td>Frozen</td>\n",
       "      <td>Roche Diagnostics</td>\n",
       "      <td>9.2</td>\n",
       "    </tr>\n",
       "    <tr>\n",
       "      <th>(part of cobas 6000/8000) Roche Diagnostics cobas c 513</th>\n",
       "      <td>10.0</td>\n",
       "      <td>40.6</td>\n",
       "      <td>2.4</td>\n",
       "      <td>4.6</td>\n",
       "      <td>Sample 2</td>\n",
       "      <td>38.2</td>\n",
       "      <td>2019</td>\n",
       "      <td>EURA1c</td>\n",
       "      <td>Frozen</td>\n",
       "      <td>Roche Diagnostics</td>\n",
       "      <td>11.4</td>\n",
       "    </tr>\n",
       "    <tr>\n",
       "      <th>Abbott Alinity</th>\n",
       "      <td>17.0</td>\n",
       "      <td>34.0</td>\n",
       "      <td>-2.5</td>\n",
       "      <td>8.2</td>\n",
       "      <td>Sample 1</td>\n",
       "      <td>37.5</td>\n",
       "      <td>2020</td>\n",
       "      <td>EURA1c</td>\n",
       "      <td>Frozen</td>\n",
       "      <td>Abbot</td>\n",
       "      <td>13.6</td>\n",
       "    </tr>\n",
       "    <tr>\n",
       "      <th>Abbott Alinity</th>\n",
       "      <td>15.0</td>\n",
       "      <td>34.2</td>\n",
       "      <td>-2.3</td>\n",
       "      <td>8.2</td>\n",
       "      <td>Sample 2</td>\n",
       "      <td>37.5</td>\n",
       "      <td>2020</td>\n",
       "      <td>EURA1c</td>\n",
       "      <td>Frozen</td>\n",
       "      <td>Abbot</td>\n",
       "      <td>13.8</td>\n",
       "    </tr>\n",
       "    <tr>\n",
       "      <th>Abbott Alinity</th>\n",
       "      <td>12.0</td>\n",
       "      <td>36.1</td>\n",
       "      <td>-0.4</td>\n",
       "      <td>2.1</td>\n",
       "      <td>Sample 1</td>\n",
       "      <td>37.1</td>\n",
       "      <td>2020</td>\n",
       "      <td>EURA1c</td>\n",
       "      <td>Fresh</td>\n",
       "      <td>Abbot</td>\n",
       "      <td>3.7</td>\n",
       "    </tr>\n",
       "    <tr>\n",
       "      <th>...</th>\n",
       "      <td>...</td>\n",
       "      <td>...</td>\n",
       "      <td>...</td>\n",
       "      <td>...</td>\n",
       "      <td>...</td>\n",
       "      <td>...</td>\n",
       "      <td>...</td>\n",
       "      <td>...</td>\n",
       "      <td>...</td>\n",
       "      <td>...</td>\n",
       "      <td>...</td>\n",
       "    </tr>\n",
       "    <tr>\n",
       "      <th>Trinity Biotech Premier Hb9210</th>\n",
       "      <td>27.0</td>\n",
       "      <td>59.7</td>\n",
       "      <td>1.8</td>\n",
       "      <td>4.0</td>\n",
       "      <td>Sample 2</td>\n",
       "      <td>57.9</td>\n",
       "      <td>2016</td>\n",
       "      <td>EURA1c</td>\n",
       "      <td>Fresh</td>\n",
       "      <td>Trinity Biotech</td>\n",
       "      <td>9.6</td>\n",
       "    </tr>\n",
       "    <tr>\n",
       "      <th>Trinity Biotech Premier Hb9210</th>\n",
       "      <td>20.0</td>\n",
       "      <td>45.0</td>\n",
       "      <td>0.8</td>\n",
       "      <td>2.2</td>\n",
       "      <td>Sample 1</td>\n",
       "      <td>44.2</td>\n",
       "      <td>2017</td>\n",
       "      <td>EURA1c</td>\n",
       "      <td>Frozen</td>\n",
       "      <td>Trinity Biotech</td>\n",
       "      <td>5.1</td>\n",
       "    </tr>\n",
       "    <tr>\n",
       "      <th>Trinity Biotech Premier Hb9210</th>\n",
       "      <td>21.0</td>\n",
       "      <td>58.0</td>\n",
       "      <td>0.0</td>\n",
       "      <td>2.4</td>\n",
       "      <td>Sample 2</td>\n",
       "      <td>58.0</td>\n",
       "      <td>2017</td>\n",
       "      <td>EURA1c</td>\n",
       "      <td>Frozen</td>\n",
       "      <td>Trinity Biotech</td>\n",
       "      <td>4.7</td>\n",
       "    </tr>\n",
       "    <tr>\n",
       "      <th>Trinity Biotech Premier Hb9210</th>\n",
       "      <td>29.0</td>\n",
       "      <td>45.3</td>\n",
       "      <td>1.1</td>\n",
       "      <td>3.7</td>\n",
       "      <td>Sample 1</td>\n",
       "      <td>44.2</td>\n",
       "      <td>2017</td>\n",
       "      <td>EURA1c</td>\n",
       "      <td>Fresh</td>\n",
       "      <td>Trinity Biotech</td>\n",
       "      <td>8.4</td>\n",
       "    </tr>\n",
       "    <tr>\n",
       "      <th>Trinity Biotech Premier Hb9210</th>\n",
       "      <td>29.0</td>\n",
       "      <td>59.5</td>\n",
       "      <td>1.5</td>\n",
       "      <td>2.8</td>\n",
       "      <td>Sample 2</td>\n",
       "      <td>58.0</td>\n",
       "      <td>2017</td>\n",
       "      <td>EURA1c</td>\n",
       "      <td>Fresh</td>\n",
       "      <td>Trinity Biotech</td>\n",
       "      <td>7.0</td>\n",
       "    </tr>\n",
       "  </tbody>\n",
       "</table>\n",
       "<p>514 rows × 11 columns</p>\n",
       "</div>"
      ],
      "text/plain": [
       "                                                       N  Mean  Bias   CV  \\\n",
       "Method name                                                                 \n",
       "(part of cobas 6000/8000) Roche Diagnostics cob...  10.0  74.0   3.9  2.7   \n",
       "(part of cobas 6000/8000) Roche Diagnostics cob...  10.0  40.6   2.4  4.6   \n",
       "Abbott Alinity                                      17.0  34.0  -2.5  8.2   \n",
       "Abbott Alinity                                      15.0  34.2  -2.3  8.2   \n",
       "Abbott Alinity                                      12.0  36.1  -0.4  2.1   \n",
       "...                                                  ...   ...   ...  ...   \n",
       "Trinity Biotech Premier Hb9210                      27.0  59.7   1.8  4.0   \n",
       "Trinity Biotech Premier Hb9210                      20.0  45.0   0.8  2.2   \n",
       "Trinity Biotech Premier Hb9210                      21.0  58.0   0.0  2.4   \n",
       "Trinity Biotech Premier Hb9210                      29.0  45.3   1.1  3.7   \n",
       "Trinity Biotech Premier Hb9210                      29.0  59.5   1.5  2.8   \n",
       "\n",
       "                                                      Sample  Refrence Value  \\\n",
       "Method name                                                                    \n",
       "(part of cobas 6000/8000) Roche Diagnostics cob...  Sample 1            70.1   \n",
       "(part of cobas 6000/8000) Roche Diagnostics cob...  Sample 2            38.2   \n",
       "Abbott Alinity                                      Sample 1            37.5   \n",
       "Abbott Alinity                                      Sample 2            37.5   \n",
       "Abbott Alinity                                      Sample 1            37.1   \n",
       "...                                                      ...             ...   \n",
       "Trinity Biotech Premier Hb9210                      Sample 2            57.9   \n",
       "Trinity Biotech Premier Hb9210                      Sample 1            44.2   \n",
       "Trinity Biotech Premier Hb9210                      Sample 2            58.0   \n",
       "Trinity Biotech Premier Hb9210                      Sample 1            44.2   \n",
       "Trinity Biotech Premier Hb9210                      Sample 2            58.0   \n",
       "\n",
       "                                                    Year  Source    Type  \\\n",
       "Method name                                                                \n",
       "(part of cobas 6000/8000) Roche Diagnostics cob...  2019  EURA1c  Frozen   \n",
       "(part of cobas 6000/8000) Roche Diagnostics cob...  2019  EURA1c  Frozen   \n",
       "Abbott Alinity                                      2020  EURA1c  Frozen   \n",
       "Abbott Alinity                                      2020  EURA1c  Frozen   \n",
       "Abbott Alinity                                      2020  EURA1c   Fresh   \n",
       "...                                                  ...     ...     ...   \n",
       "Trinity Biotech Premier Hb9210                      2016  EURA1c   Fresh   \n",
       "Trinity Biotech Premier Hb9210                      2017  EURA1c  Frozen   \n",
       "Trinity Biotech Premier Hb9210                      2017  EURA1c  Frozen   \n",
       "Trinity Biotech Premier Hb9210                      2017  EURA1c   Fresh   \n",
       "Trinity Biotech Premier Hb9210                      2017  EURA1c   Fresh   \n",
       "\n",
       "                                                         Manufacturer  \\\n",
       "Method name                                                             \n",
       "(part of cobas 6000/8000) Roche Diagnostics cob...  Roche Diagnostics   \n",
       "(part of cobas 6000/8000) Roche Diagnostics cob...  Roche Diagnostics   \n",
       "Abbott Alinity                                                  Abbot   \n",
       "Abbott Alinity                                                  Abbot   \n",
       "Abbott Alinity                                                  Abbot   \n",
       "...                                                               ...   \n",
       "Trinity Biotech Premier Hb9210                        Trinity Biotech   \n",
       "Trinity Biotech Premier Hb9210                        Trinity Biotech   \n",
       "Trinity Biotech Premier Hb9210                        Trinity Biotech   \n",
       "Trinity Biotech Premier Hb9210                        Trinity Biotech   \n",
       "Trinity Biotech Premier Hb9210                        Trinity Biotech   \n",
       "\n",
       "                                                    Total Error  \n",
       "Method name                                                      \n",
       "(part of cobas 6000/8000) Roche Diagnostics cob...          9.2  \n",
       "(part of cobas 6000/8000) Roche Diagnostics cob...         11.4  \n",
       "Abbott Alinity                                             13.6  \n",
       "Abbott Alinity                                             13.8  \n",
       "Abbott Alinity                                              3.7  \n",
       "...                                                         ...  \n",
       "Trinity Biotech Premier Hb9210                              9.6  \n",
       "Trinity Biotech Premier Hb9210                              5.1  \n",
       "Trinity Biotech Premier Hb9210                              4.7  \n",
       "Trinity Biotech Premier Hb9210                              8.4  \n",
       "Trinity Biotech Premier Hb9210                              7.0  \n",
       "\n",
       "[514 rows x 11 columns]"
      ]
     },
     "execution_count": 23,
     "metadata": {},
     "output_type": "execute_result"
    }
   ],
   "source": [
    "df4"
   ]
  },
  {
   "cell_type": "code",
   "execution_count": null,
   "id": "78f0a99e",
   "metadata": {},
   "outputs": [],
   "source": []
  }
 ],
 "metadata": {
  "interpreter": {
   "hash": "26de051ba29f2982a8de78e945f0abaf191376122a1563185a90213a26c5da77"
  },
  "kernelspec": {
   "display_name": "Python 3 (ipykernel)",
   "language": "python",
   "name": "python3"
  },
  "language_info": {
   "codemirror_mode": {
    "name": "ipython",
    "version": 3
   },
   "file_extension": ".py",
   "mimetype": "text/x-python",
   "name": "python",
   "nbconvert_exporter": "python",
   "pygments_lexer": "ipython3",
   "version": "3.9.7"
  }
 },
 "nbformat": 4,
 "nbformat_minor": 5
}
