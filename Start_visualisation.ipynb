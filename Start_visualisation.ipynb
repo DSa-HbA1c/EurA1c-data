{
 "cells": [
  {
   "cell_type": "code",
   "execution_count": 8,
   "metadata": {},
   "outputs": [],
   "source": [
    "import pandas as pd\n",
    "import numpy as np\n",
    "import matplotlib.pyplot as plt\n",
    "import seaborn as sns\n",
    "\n",
    "df16 = pd.read_excel(\"data/2016_EurA1c_report_converted.xlsx\")\n",
    "df17 = pd.read_excel(\"data/2017_EurA1c_report_converted.xlsx\")\n",
    "df18 = pd.read_excel(\"data/2018_EurA1c_report_converted.xlsx\")\n",
    "df19 = pd.read_excel(\"data/2019_EurAAA1c_report_converted.xlsx\")\n",
    "df20= pd.read_excel(\"data/2020_EurA1c_report_converted.xlsx\")"
   ]
  },
  {
   "cell_type": "markdown",
   "metadata": {},
   "source": [
    "# Business Understanding\n",
    "Voor mensen met diabetes type I of diabetes type II is regelmatig controle van bloedglucose van cruciaal belang. In het dagelijks leven wordt dit veelal gedaan door bloedglucosemetingen thuis met een bloedglucosemeter die bij de apotheek of een webshop voor diabeteshulpmiddelen te verkrijgen is. Op basis van deze metingen en een behandelplan kan iemand met diabetes zijn eigen bloedglucose bijsturen waar nodig. De meest betrouwbare vorm voor het meten van de effectiviteit van een behandelplan is echter het meten van de HbA1c waarde wat veelal in een ziekenhuis gebeurt. Mede op basis van deze HbA1c waarde bepaalt een diabeteszorgverlener of er eventuele wijzigingen nodig zijn in het behandelplan van een patiënt. Dat er onnauwkeurigheden zitten in deze metingen maakt het interpreteren hiervan en het bepalen van de juiste te ondernemen acties vaak moeilijk.\n",
    "\n",
    "# Data Understanding\n",
    "De data is ons aangeleverd in een `excel` bestanden:\n",
    "\n",
    "1. In welk format is de data aangeleverd?\n",
    "In een excel bestanden\n",
    "\n",
    "2. Hoe kun je de databron benaderen vanuit python?\n",
    "Door de methode van panda read_excel()\n",
    "\n",
    "3.Data exploreren\n",
    "a informatie over de database\n",
    "\n",
    "Tabellen (evt. collections) staan er in de bestanden?\n",
    "Per jaar zijn er 2 exel bestanden geleverd. \n",
    "\n",
    "Welke kolommen (variabelen) vinden we terug in elke tabel? Kun je aan elke kolom betekenis geven?\n",
    "\n",
    "-Method name : Naam van het meetapparaat\n",
    "\n",
    "-N\t: Aantal labs\n",
    "\n",
    "-Mean :  Gemiddelde van HbA1c waarde\n",
    "\n",
    "-Bias\t:  Absolute toe- of afname van de hoeveelheid mmol/mol ten opzichte van de werkelijke waarde\n",
    "\n",
    "-CV\t:  Laat zien wat de spreiding is de metingen\n",
    "\n",
    "-Sample\t: Hoeveelste meting in het jaar\n",
    "\n",
    "-Reference Value\t\n",
    "-Year : Welk jaar\n",
    "\n",
    "-Source\t: Amerikaans of Europese data\n",
    "    \n",
    "-Type :  Vers of bevroren bloed\n",
    "\n",
    "\n",
    "\n",
    "• Wat is het aantal records per tabel? (verdeeld in vers of bevroren bloed)\n",
    "\n",
    "2016: fresh 48/ frozen 32\n",
    "\n",
    "2017: fresh 42/ frozen 38\n",
    "\n",
    "2018: fresh 56 / frozen 46\n",
    "\n",
    "2019: fresh 62/ frozen 48\n",
    "\n",
    "2020: fresh 78 / frozen 64\n",
    "\n",
    "• Welke datatypes vinden we terug in de tabellen?\n",
    "floats en objects\n",
    "\n",
    "• Zijn er lege cellen?\n",
    "ja, een paar lege cellen\n",
    "\n",
    "b. Vul dit evt. aan met beschrijvende statistiek (spreidings- en centrummaten), kijk alvast vooruit naar Kmeans\n",
    "\n",
    "c. Visualiseer de data op een slimme manier, kijk alvast vooruit naar K-means"
   ]
  },
  {
   "cell_type": "code",
   "execution_count": 31,
   "metadata": {},
   "outputs": [
    {
     "data": {
      "text/plain": [
       "2020    142\n",
       "2019    110\n",
       "2018    102\n",
       "2016     80\n",
       "2017     80\n",
       "Name: Year, dtype: int64"
      ]
     },
     "execution_count": 31,
     "metadata": {},
     "output_type": "execute_result"
    }
   ],
   "source": [
    "data_frames = [df16, df17, df18, df19, df20]\n",
    "\n",
    "result = pd.concat(data_frames)\n",
    "result[\"Year\"].value_counts()\n"
   ]
  },
  {
   "cell_type": "code",
   "execution_count": 32,
   "metadata": {},
   "outputs": [],
   "source": [
    "result.to_excel(\"data/EurA1c_report.xlsx\", index=False)"
   ]
  },
  {
   "cell_type": "code",
   "execution_count": null,
   "metadata": {},
   "outputs": [],
   "source": []
  }
 ],
 "metadata": {
  "interpreter": {
   "hash": "26de051ba29f2982a8de78e945f0abaf191376122a1563185a90213a26c5da77"
  },
  "kernelspec": {
   "display_name": "Python 3.10.4 64-bit",
   "language": "python",
   "name": "python3"
  },
  "language_info": {
   "codemirror_mode": {
    "name": "ipython",
    "version": 3
   },
   "file_extension": ".py",
   "mimetype": "text/x-python",
   "name": "python",
   "nbconvert_exporter": "python",
   "pygments_lexer": "ipython3",
   "version": "3.10.4"
  },
  "orig_nbformat": 4
 },
 "nbformat": 4,
 "nbformat_minor": 2
}
